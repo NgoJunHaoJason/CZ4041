{
 "cells": [
  {
   "cell_type": "markdown",
   "metadata": {},
   "source": [
    "# Feature Selection for D-Features"
   ]
  },
  {
   "cell_type": "markdown",
   "metadata": {},
   "source": [
    "## import libraries"
   ]
  },
  {
   "cell_type": "code",
   "execution_count": 72,
   "metadata": {},
   "outputs": [],
   "source": [
    "import matplotlib.pyplot as plt\n",
    "import pandas as pd\n",
    "from sklearn.ensemble import RandomForestClassifier\n",
    "from sklearn.linear_model import SGDClassifier\n",
    "from sklearn.feature_selection import RFECV"
   ]
  },
  {
   "cell_type": "markdown",
   "metadata": {},
   "source": [
    "## load data"
   ]
  },
  {
   "cell_type": "code",
   "execution_count": 73,
   "metadata": {},
   "outputs": [
    {
     "data": {
      "text/html": [
       "<div>\n",
       "<style scoped>\n",
       "    .dataframe tbody tr th:only-of-type {\n",
       "        vertical-align: middle;\n",
       "    }\n",
       "\n",
       "    .dataframe tbody tr th {\n",
       "        vertical-align: top;\n",
       "    }\n",
       "\n",
       "    .dataframe thead th {\n",
       "        text-align: right;\n",
       "    }\n",
       "</style>\n",
       "<table border=\"1\" class=\"dataframe\">\n",
       "  <thead>\n",
       "    <tr style=\"text-align: right;\">\n",
       "      <th></th>\n",
       "      <th>Unnamed: 0</th>\n",
       "      <th>D1</th>\n",
       "      <th>D2</th>\n",
       "      <th>D3</th>\n",
       "      <th>D4</th>\n",
       "      <th>D5</th>\n",
       "      <th>D6</th>\n",
       "      <th>D7</th>\n",
       "      <th>D8</th>\n",
       "      <th>D9</th>\n",
       "      <th>D10</th>\n",
       "      <th>D11</th>\n",
       "      <th>D12</th>\n",
       "      <th>D13</th>\n",
       "      <th>D14</th>\n",
       "      <th>D15</th>\n",
       "      <th>isFraud</th>\n",
       "    </tr>\n",
       "  </thead>\n",
       "  <tbody>\n",
       "    <tr>\n",
       "      <th>0</th>\n",
       "      <td>0</td>\n",
       "      <td>14.0</td>\n",
       "      <td>NaN</td>\n",
       "      <td>13.0</td>\n",
       "      <td>NaN</td>\n",
       "      <td>NaN</td>\n",
       "      <td>NaN</td>\n",
       "      <td>NaN</td>\n",
       "      <td>NaN</td>\n",
       "      <td>NaN</td>\n",
       "      <td>13.0</td>\n",
       "      <td>13.0</td>\n",
       "      <td>NaN</td>\n",
       "      <td>NaN</td>\n",
       "      <td>NaN</td>\n",
       "      <td>0.0</td>\n",
       "      <td>0</td>\n",
       "    </tr>\n",
       "    <tr>\n",
       "      <th>1</th>\n",
       "      <td>1</td>\n",
       "      <td>0.0</td>\n",
       "      <td>NaN</td>\n",
       "      <td>NaN</td>\n",
       "      <td>0.0</td>\n",
       "      <td>NaN</td>\n",
       "      <td>NaN</td>\n",
       "      <td>NaN</td>\n",
       "      <td>NaN</td>\n",
       "      <td>NaN</td>\n",
       "      <td>0.0</td>\n",
       "      <td>NaN</td>\n",
       "      <td>NaN</td>\n",
       "      <td>NaN</td>\n",
       "      <td>NaN</td>\n",
       "      <td>0.0</td>\n",
       "      <td>0</td>\n",
       "    </tr>\n",
       "    <tr>\n",
       "      <th>2</th>\n",
       "      <td>2</td>\n",
       "      <td>0.0</td>\n",
       "      <td>NaN</td>\n",
       "      <td>NaN</td>\n",
       "      <td>0.0</td>\n",
       "      <td>NaN</td>\n",
       "      <td>NaN</td>\n",
       "      <td>NaN</td>\n",
       "      <td>NaN</td>\n",
       "      <td>NaN</td>\n",
       "      <td>0.0</td>\n",
       "      <td>315.0</td>\n",
       "      <td>NaN</td>\n",
       "      <td>NaN</td>\n",
       "      <td>NaN</td>\n",
       "      <td>315.0</td>\n",
       "      <td>0</td>\n",
       "    </tr>\n",
       "    <tr>\n",
       "      <th>3</th>\n",
       "      <td>3</td>\n",
       "      <td>112.0</td>\n",
       "      <td>112.0</td>\n",
       "      <td>0.0</td>\n",
       "      <td>94.0</td>\n",
       "      <td>0.0</td>\n",
       "      <td>NaN</td>\n",
       "      <td>NaN</td>\n",
       "      <td>NaN</td>\n",
       "      <td>NaN</td>\n",
       "      <td>84.0</td>\n",
       "      <td>NaN</td>\n",
       "      <td>NaN</td>\n",
       "      <td>NaN</td>\n",
       "      <td>NaN</td>\n",
       "      <td>111.0</td>\n",
       "      <td>0</td>\n",
       "    </tr>\n",
       "    <tr>\n",
       "      <th>4</th>\n",
       "      <td>4</td>\n",
       "      <td>0.0</td>\n",
       "      <td>NaN</td>\n",
       "      <td>NaN</td>\n",
       "      <td>NaN</td>\n",
       "      <td>NaN</td>\n",
       "      <td>NaN</td>\n",
       "      <td>NaN</td>\n",
       "      <td>NaN</td>\n",
       "      <td>NaN</td>\n",
       "      <td>NaN</td>\n",
       "      <td>NaN</td>\n",
       "      <td>NaN</td>\n",
       "      <td>NaN</td>\n",
       "      <td>NaN</td>\n",
       "      <td>NaN</td>\n",
       "      <td>0</td>\n",
       "    </tr>\n",
       "  </tbody>\n",
       "</table>\n",
       "</div>"
      ],
      "text/plain": [
       "   Unnamed: 0     D1     D2    D3    D4   D5  D6  D7  D8  D9   D10    D11  \\\n",
       "0           0   14.0    NaN  13.0   NaN  NaN NaN NaN NaN NaN  13.0   13.0   \n",
       "1           1    0.0    NaN   NaN   0.0  NaN NaN NaN NaN NaN   0.0    NaN   \n",
       "2           2    0.0    NaN   NaN   0.0  NaN NaN NaN NaN NaN   0.0  315.0   \n",
       "3           3  112.0  112.0   0.0  94.0  0.0 NaN NaN NaN NaN  84.0    NaN   \n",
       "4           4    0.0    NaN   NaN   NaN  NaN NaN NaN NaN NaN   NaN    NaN   \n",
       "\n",
       "   D12  D13  D14    D15  isFraud  \n",
       "0  NaN  NaN  NaN    0.0        0  \n",
       "1  NaN  NaN  NaN    0.0        0  \n",
       "2  NaN  NaN  NaN  315.0        0  \n",
       "3  NaN  NaN  NaN  111.0        0  \n",
       "4  NaN  NaN  NaN    NaN        0  "
      ]
     },
     "execution_count": 73,
     "metadata": {},
     "output_type": "execute_result"
    }
   ],
   "source": [
    "dataframe = pd.read_csv('data/all_D_features.csv')\n",
    "dataframe.head()"
   ]
  },
  {
   "cell_type": "markdown",
   "metadata": {},
   "source": [
    "## remove useless column (row ID?)"
   ]
  },
  {
   "cell_type": "code",
   "execution_count": 74,
   "metadata": {},
   "outputs": [
    {
     "data": {
      "text/html": [
       "<div>\n",
       "<style scoped>\n",
       "    .dataframe tbody tr th:only-of-type {\n",
       "        vertical-align: middle;\n",
       "    }\n",
       "\n",
       "    .dataframe tbody tr th {\n",
       "        vertical-align: top;\n",
       "    }\n",
       "\n",
       "    .dataframe thead th {\n",
       "        text-align: right;\n",
       "    }\n",
       "</style>\n",
       "<table border=\"1\" class=\"dataframe\">\n",
       "  <thead>\n",
       "    <tr style=\"text-align: right;\">\n",
       "      <th></th>\n",
       "      <th>D1</th>\n",
       "      <th>D2</th>\n",
       "      <th>D3</th>\n",
       "      <th>D4</th>\n",
       "      <th>D5</th>\n",
       "      <th>D6</th>\n",
       "      <th>D7</th>\n",
       "      <th>D8</th>\n",
       "      <th>D9</th>\n",
       "      <th>D10</th>\n",
       "      <th>D11</th>\n",
       "      <th>D12</th>\n",
       "      <th>D13</th>\n",
       "      <th>D14</th>\n",
       "      <th>D15</th>\n",
       "      <th>isFraud</th>\n",
       "    </tr>\n",
       "  </thead>\n",
       "  <tbody>\n",
       "    <tr>\n",
       "      <th>0</th>\n",
       "      <td>14.0</td>\n",
       "      <td>NaN</td>\n",
       "      <td>13.0</td>\n",
       "      <td>NaN</td>\n",
       "      <td>NaN</td>\n",
       "      <td>NaN</td>\n",
       "      <td>NaN</td>\n",
       "      <td>NaN</td>\n",
       "      <td>NaN</td>\n",
       "      <td>13.0</td>\n",
       "      <td>13.0</td>\n",
       "      <td>NaN</td>\n",
       "      <td>NaN</td>\n",
       "      <td>NaN</td>\n",
       "      <td>0.0</td>\n",
       "      <td>0</td>\n",
       "    </tr>\n",
       "    <tr>\n",
       "      <th>1</th>\n",
       "      <td>0.0</td>\n",
       "      <td>NaN</td>\n",
       "      <td>NaN</td>\n",
       "      <td>0.0</td>\n",
       "      <td>NaN</td>\n",
       "      <td>NaN</td>\n",
       "      <td>NaN</td>\n",
       "      <td>NaN</td>\n",
       "      <td>NaN</td>\n",
       "      <td>0.0</td>\n",
       "      <td>NaN</td>\n",
       "      <td>NaN</td>\n",
       "      <td>NaN</td>\n",
       "      <td>NaN</td>\n",
       "      <td>0.0</td>\n",
       "      <td>0</td>\n",
       "    </tr>\n",
       "    <tr>\n",
       "      <th>2</th>\n",
       "      <td>0.0</td>\n",
       "      <td>NaN</td>\n",
       "      <td>NaN</td>\n",
       "      <td>0.0</td>\n",
       "      <td>NaN</td>\n",
       "      <td>NaN</td>\n",
       "      <td>NaN</td>\n",
       "      <td>NaN</td>\n",
       "      <td>NaN</td>\n",
       "      <td>0.0</td>\n",
       "      <td>315.0</td>\n",
       "      <td>NaN</td>\n",
       "      <td>NaN</td>\n",
       "      <td>NaN</td>\n",
       "      <td>315.0</td>\n",
       "      <td>0</td>\n",
       "    </tr>\n",
       "    <tr>\n",
       "      <th>3</th>\n",
       "      <td>112.0</td>\n",
       "      <td>112.0</td>\n",
       "      <td>0.0</td>\n",
       "      <td>94.0</td>\n",
       "      <td>0.0</td>\n",
       "      <td>NaN</td>\n",
       "      <td>NaN</td>\n",
       "      <td>NaN</td>\n",
       "      <td>NaN</td>\n",
       "      <td>84.0</td>\n",
       "      <td>NaN</td>\n",
       "      <td>NaN</td>\n",
       "      <td>NaN</td>\n",
       "      <td>NaN</td>\n",
       "      <td>111.0</td>\n",
       "      <td>0</td>\n",
       "    </tr>\n",
       "    <tr>\n",
       "      <th>4</th>\n",
       "      <td>0.0</td>\n",
       "      <td>NaN</td>\n",
       "      <td>NaN</td>\n",
       "      <td>NaN</td>\n",
       "      <td>NaN</td>\n",
       "      <td>NaN</td>\n",
       "      <td>NaN</td>\n",
       "      <td>NaN</td>\n",
       "      <td>NaN</td>\n",
       "      <td>NaN</td>\n",
       "      <td>NaN</td>\n",
       "      <td>NaN</td>\n",
       "      <td>NaN</td>\n",
       "      <td>NaN</td>\n",
       "      <td>NaN</td>\n",
       "      <td>0</td>\n",
       "    </tr>\n",
       "  </tbody>\n",
       "</table>\n",
       "</div>"
      ],
      "text/plain": [
       "      D1     D2    D3    D4   D5  D6  D7  D8  D9   D10    D11  D12  D13  D14  \\\n",
       "0   14.0    NaN  13.0   NaN  NaN NaN NaN NaN NaN  13.0   13.0  NaN  NaN  NaN   \n",
       "1    0.0    NaN   NaN   0.0  NaN NaN NaN NaN NaN   0.0    NaN  NaN  NaN  NaN   \n",
       "2    0.0    NaN   NaN   0.0  NaN NaN NaN NaN NaN   0.0  315.0  NaN  NaN  NaN   \n",
       "3  112.0  112.0   0.0  94.0  0.0 NaN NaN NaN NaN  84.0    NaN  NaN  NaN  NaN   \n",
       "4    0.0    NaN   NaN   NaN  NaN NaN NaN NaN NaN   NaN    NaN  NaN  NaN  NaN   \n",
       "\n",
       "     D15  isFraud  \n",
       "0    0.0        0  \n",
       "1    0.0        0  \n",
       "2  315.0        0  \n",
       "3  111.0        0  \n",
       "4    NaN        0  "
      ]
     },
     "execution_count": 74,
     "metadata": {},
     "output_type": "execute_result"
    }
   ],
   "source": [
    "dataframe = dataframe.drop('Unnamed: 0', axis=1)\n",
    "dataframe.head()"
   ]
  },
  {
   "cell_type": "markdown",
   "metadata": {},
   "source": [
    "## check percentage NaNs in each column"
   ]
  },
  {
   "cell_type": "code",
   "execution_count": 75,
   "metadata": {},
   "outputs": [
    {
     "name": "stdout",
     "output_type": "stream",
     "text": [
      "percentage of NaNs for D1: 0.215\n",
      "percentage of NaNs for D2: 47.549\n",
      "percentage of NaNs for D3: 44.515\n",
      "percentage of NaNs for D4: 28.605\n",
      "percentage of NaNs for D5: 52.467\n",
      "percentage of NaNs for D6: 87.607\n",
      "percentage of NaNs for D7: 93.410\n",
      "percentage of NaNs for D8: 87.312\n",
      "percentage of NaNs for D9: 87.312\n",
      "percentage of NaNs for D10: 12.873\n",
      "percentage of NaNs for D11: 47.293\n",
      "percentage of NaNs for D12: 89.041\n",
      "percentage of NaNs for D13: 89.509\n",
      "percentage of NaNs for D14: 89.469\n",
      "percentage of NaNs for D15: 15.090\n",
      "percentage of NaNs for isFraud: 0.000\n"
     ]
    }
   ],
   "source": [
    "for column in dataframe.columns:\n",
    "    num_nans = dataframe[column].isna().sum()\n",
    "    print('percentage of NaNs for {}: {:.3f}'.format(\n",
    "        column, \n",
    "        num_nans / len(dataframe) * 100\n",
    "    ))"
   ]
  },
  {
   "cell_type": "markdown",
   "metadata": {},
   "source": [
    "## remove columns with a lot of NaNs"
   ]
  },
  {
   "cell_type": "code",
   "execution_count": 76,
   "metadata": {},
   "outputs": [
    {
     "data": {
      "text/html": [
       "<div>\n",
       "<style scoped>\n",
       "    .dataframe tbody tr th:only-of-type {\n",
       "        vertical-align: middle;\n",
       "    }\n",
       "\n",
       "    .dataframe tbody tr th {\n",
       "        vertical-align: top;\n",
       "    }\n",
       "\n",
       "    .dataframe thead th {\n",
       "        text-align: right;\n",
       "    }\n",
       "</style>\n",
       "<table border=\"1\" class=\"dataframe\">\n",
       "  <thead>\n",
       "    <tr style=\"text-align: right;\">\n",
       "      <th></th>\n",
       "      <th>D1</th>\n",
       "      <th>D2</th>\n",
       "      <th>D3</th>\n",
       "      <th>D4</th>\n",
       "      <th>D5</th>\n",
       "      <th>D10</th>\n",
       "      <th>D11</th>\n",
       "      <th>D15</th>\n",
       "      <th>isFraud</th>\n",
       "    </tr>\n",
       "  </thead>\n",
       "  <tbody>\n",
       "    <tr>\n",
       "      <th>0</th>\n",
       "      <td>14.0</td>\n",
       "      <td>NaN</td>\n",
       "      <td>13.0</td>\n",
       "      <td>NaN</td>\n",
       "      <td>NaN</td>\n",
       "      <td>13.0</td>\n",
       "      <td>13.0</td>\n",
       "      <td>0.0</td>\n",
       "      <td>0</td>\n",
       "    </tr>\n",
       "    <tr>\n",
       "      <th>1</th>\n",
       "      <td>0.0</td>\n",
       "      <td>NaN</td>\n",
       "      <td>NaN</td>\n",
       "      <td>0.0</td>\n",
       "      <td>NaN</td>\n",
       "      <td>0.0</td>\n",
       "      <td>NaN</td>\n",
       "      <td>0.0</td>\n",
       "      <td>0</td>\n",
       "    </tr>\n",
       "    <tr>\n",
       "      <th>2</th>\n",
       "      <td>0.0</td>\n",
       "      <td>NaN</td>\n",
       "      <td>NaN</td>\n",
       "      <td>0.0</td>\n",
       "      <td>NaN</td>\n",
       "      <td>0.0</td>\n",
       "      <td>315.0</td>\n",
       "      <td>315.0</td>\n",
       "      <td>0</td>\n",
       "    </tr>\n",
       "    <tr>\n",
       "      <th>3</th>\n",
       "      <td>112.0</td>\n",
       "      <td>112.0</td>\n",
       "      <td>0.0</td>\n",
       "      <td>94.0</td>\n",
       "      <td>0.0</td>\n",
       "      <td>84.0</td>\n",
       "      <td>NaN</td>\n",
       "      <td>111.0</td>\n",
       "      <td>0</td>\n",
       "    </tr>\n",
       "    <tr>\n",
       "      <th>4</th>\n",
       "      <td>0.0</td>\n",
       "      <td>NaN</td>\n",
       "      <td>NaN</td>\n",
       "      <td>NaN</td>\n",
       "      <td>NaN</td>\n",
       "      <td>NaN</td>\n",
       "      <td>NaN</td>\n",
       "      <td>NaN</td>\n",
       "      <td>0</td>\n",
       "    </tr>\n",
       "  </tbody>\n",
       "</table>\n",
       "</div>"
      ],
      "text/plain": [
       "      D1     D2    D3    D4   D5   D10    D11    D15  isFraud\n",
       "0   14.0    NaN  13.0   NaN  NaN  13.0   13.0    0.0        0\n",
       "1    0.0    NaN   NaN   0.0  NaN   0.0    NaN    0.0        0\n",
       "2    0.0    NaN   NaN   0.0  NaN   0.0  315.0  315.0        0\n",
       "3  112.0  112.0   0.0  94.0  0.0  84.0    NaN  111.0        0\n",
       "4    0.0    NaN   NaN   NaN  NaN   NaN    NaN    NaN        0"
      ]
     },
     "execution_count": 76,
     "metadata": {},
     "output_type": "execute_result"
    }
   ],
   "source": [
    "# keep columns with less than 60% NaNs\n",
    "less_nan_dataframe = dataframe.loc[:, dataframe.isna().mean() < 0.6]\n",
    "less_nan_dataframe.head()"
   ]
  },
  {
   "cell_type": "markdown",
   "metadata": {},
   "source": [
    "## check for correlated features"
   ]
  },
  {
   "cell_type": "code",
   "execution_count": 83,
   "metadata": {},
   "outputs": [
    {
     "name": "stdout",
     "output_type": "stream",
     "text": [
      "D2 is correlated to D1 by a factor of 0.981\n",
      "D3 is correlated to D1 by a factor of 0.280\n",
      "D3 is correlated to D2 by a factor of 0.266\n",
      "D4 is correlated to D1 by a factor of 0.586\n",
      "D4 is correlated to D2 by a factor of 0.570\n",
      "D4 is correlated to D3 by a factor of 0.149\n",
      "D5 is correlated to D1 by a factor of 0.055\n",
      "D5 is correlated to D2 by a factor of 0.238\n",
      "D5 is correlated to D3 by a factor of 0.707\n",
      "D5 is correlated to D4 by a factor of 0.314\n",
      "D10 is correlated to D1 by a factor of 0.562\n",
      "D10 is correlated to D2 by a factor of 0.526\n",
      "D10 is correlated to D3 by a factor of 0.092\n",
      "D10 is correlated to D4 by a factor of 0.637\n",
      "D10 is correlated to D5 by a factor of 0.117\n",
      "D11 is correlated to D1 by a factor of 0.593\n",
      "D11 is correlated to D2 by a factor of 0.563\n",
      "D11 is correlated to D3 by a factor of 0.055\n",
      "D11 is correlated to D4 by a factor of 0.658\n",
      "D11 is correlated to D5 by a factor of 0.058\n",
      "D11 is correlated to D10 by a factor of 0.610\n",
      "D15 is correlated to D1 by a factor of 0.639\n",
      "D15 is correlated to D2 by a factor of 0.618\n",
      "D15 is correlated to D3 by a factor of 0.142\n",
      "D15 is correlated to D4 by a factor of 0.752\n",
      "D15 is correlated to D5 by a factor of 0.189\n",
      "D15 is correlated to D10 by a factor of 0.712\n",
      "D15 is correlated to D11 by a factor of 0.765\n",
      "{'D2'}\n"
     ]
    }
   ],
   "source": [
    "correlation_threshold = 0.9\n",
    "\n",
    "correlated_features = set()\n",
    "correlation_matrix = less_nan_dataframe.drop('isFraud', axis=1).corr()\n",
    "\n",
    "for i in range(len(correlation_matrix.columns)):\n",
    "    for j in range(i):\n",
    "        print('{} is correlated to {} by a factor of {:.3f}'.format(\n",
    "            correlation_matrix.columns[i],\n",
    "            correlation_matrix.columns[j],\n",
    "            abs(correlation_matrix.iloc[i, j])\n",
    "        ))\n",
    "        \n",
    "        if abs(correlation_matrix.iloc[i, j]) > correlation_threshold:\n",
    "            colname = correlation_matrix.columns[i]\n",
    "            correlated_features.add(colname)\n",
    "\n",
    "print(correlated_features)"
   ]
  },
  {
   "cell_type": "markdown",
   "metadata": {},
   "source": [
    "## drop correlated features (>0.90)"
   ]
  },
  {
   "cell_type": "code",
   "execution_count": 84,
   "metadata": {},
   "outputs": [
    {
     "data": {
      "text/html": [
       "<div>\n",
       "<style scoped>\n",
       "    .dataframe tbody tr th:only-of-type {\n",
       "        vertical-align: middle;\n",
       "    }\n",
       "\n",
       "    .dataframe tbody tr th {\n",
       "        vertical-align: top;\n",
       "    }\n",
       "\n",
       "    .dataframe thead th {\n",
       "        text-align: right;\n",
       "    }\n",
       "</style>\n",
       "<table border=\"1\" class=\"dataframe\">\n",
       "  <thead>\n",
       "    <tr style=\"text-align: right;\">\n",
       "      <th></th>\n",
       "      <th>D1</th>\n",
       "      <th>D3</th>\n",
       "      <th>D4</th>\n",
       "      <th>D5</th>\n",
       "      <th>D10</th>\n",
       "      <th>D11</th>\n",
       "      <th>D15</th>\n",
       "      <th>isFraud</th>\n",
       "    </tr>\n",
       "  </thead>\n",
       "  <tbody>\n",
       "    <tr>\n",
       "      <th>0</th>\n",
       "      <td>14.0</td>\n",
       "      <td>13.0</td>\n",
       "      <td>NaN</td>\n",
       "      <td>NaN</td>\n",
       "      <td>13.0</td>\n",
       "      <td>13.0</td>\n",
       "      <td>0.0</td>\n",
       "      <td>0</td>\n",
       "    </tr>\n",
       "    <tr>\n",
       "      <th>1</th>\n",
       "      <td>0.0</td>\n",
       "      <td>NaN</td>\n",
       "      <td>0.0</td>\n",
       "      <td>NaN</td>\n",
       "      <td>0.0</td>\n",
       "      <td>NaN</td>\n",
       "      <td>0.0</td>\n",
       "      <td>0</td>\n",
       "    </tr>\n",
       "    <tr>\n",
       "      <th>2</th>\n",
       "      <td>0.0</td>\n",
       "      <td>NaN</td>\n",
       "      <td>0.0</td>\n",
       "      <td>NaN</td>\n",
       "      <td>0.0</td>\n",
       "      <td>315.0</td>\n",
       "      <td>315.0</td>\n",
       "      <td>0</td>\n",
       "    </tr>\n",
       "    <tr>\n",
       "      <th>3</th>\n",
       "      <td>112.0</td>\n",
       "      <td>0.0</td>\n",
       "      <td>94.0</td>\n",
       "      <td>0.0</td>\n",
       "      <td>84.0</td>\n",
       "      <td>NaN</td>\n",
       "      <td>111.0</td>\n",
       "      <td>0</td>\n",
       "    </tr>\n",
       "    <tr>\n",
       "      <th>4</th>\n",
       "      <td>0.0</td>\n",
       "      <td>NaN</td>\n",
       "      <td>NaN</td>\n",
       "      <td>NaN</td>\n",
       "      <td>NaN</td>\n",
       "      <td>NaN</td>\n",
       "      <td>NaN</td>\n",
       "      <td>0</td>\n",
       "    </tr>\n",
       "  </tbody>\n",
       "</table>\n",
       "</div>"
      ],
      "text/plain": [
       "      D1    D3    D4   D5   D10    D11    D15  isFraud\n",
       "0   14.0  13.0   NaN  NaN  13.0   13.0    0.0        0\n",
       "1    0.0   NaN   0.0  NaN   0.0    NaN    0.0        0\n",
       "2    0.0   NaN   0.0  NaN   0.0  315.0  315.0        0\n",
       "3  112.0   0.0  94.0  0.0  84.0    NaN  111.0        0\n",
       "4    0.0   NaN   NaN  NaN   NaN    NaN    NaN        0"
      ]
     },
     "execution_count": 84,
     "metadata": {},
     "output_type": "execute_result"
    }
   ],
   "source": [
    "less_nan_dataframe = less_nan_dataframe.drop(correlated_features, axis=1)\n",
    "less_nan_dataframe.head()"
   ]
  },
  {
   "cell_type": "markdown",
   "metadata": {},
   "source": [
    "## imputation"
   ]
  },
  {
   "cell_type": "code",
   "execution_count": 85,
   "metadata": {},
   "outputs": [
    {
     "data": {
      "text/html": [
       "<div>\n",
       "<style scoped>\n",
       "    .dataframe tbody tr th:only-of-type {\n",
       "        vertical-align: middle;\n",
       "    }\n",
       "\n",
       "    .dataframe tbody tr th {\n",
       "        vertical-align: top;\n",
       "    }\n",
       "\n",
       "    .dataframe thead th {\n",
       "        text-align: right;\n",
       "    }\n",
       "</style>\n",
       "<table border=\"1\" class=\"dataframe\">\n",
       "  <thead>\n",
       "    <tr style=\"text-align: right;\">\n",
       "      <th></th>\n",
       "      <th>D1</th>\n",
       "      <th>D3</th>\n",
       "      <th>D4</th>\n",
       "      <th>D5</th>\n",
       "      <th>D10</th>\n",
       "      <th>D11</th>\n",
       "      <th>D15</th>\n",
       "      <th>isFraud</th>\n",
       "    </tr>\n",
       "  </thead>\n",
       "  <tbody>\n",
       "    <tr>\n",
       "      <th>0</th>\n",
       "      <td>14.0</td>\n",
       "      <td>13.000000</td>\n",
       "      <td>18.283854</td>\n",
       "      <td>18.283854</td>\n",
       "      <td>13.000000</td>\n",
       "      <td>13.000000</td>\n",
       "      <td>0.000000</td>\n",
       "      <td>0</td>\n",
       "    </tr>\n",
       "    <tr>\n",
       "      <th>1</th>\n",
       "      <td>0.0</td>\n",
       "      <td>18.283854</td>\n",
       "      <td>0.000000</td>\n",
       "      <td>18.283854</td>\n",
       "      <td>0.000000</td>\n",
       "      <td>18.283854</td>\n",
       "      <td>0.000000</td>\n",
       "      <td>0</td>\n",
       "    </tr>\n",
       "    <tr>\n",
       "      <th>2</th>\n",
       "      <td>0.0</td>\n",
       "      <td>18.283854</td>\n",
       "      <td>0.000000</td>\n",
       "      <td>18.283854</td>\n",
       "      <td>0.000000</td>\n",
       "      <td>315.000000</td>\n",
       "      <td>315.000000</td>\n",
       "      <td>0</td>\n",
       "    </tr>\n",
       "    <tr>\n",
       "      <th>3</th>\n",
       "      <td>112.0</td>\n",
       "      <td>0.000000</td>\n",
       "      <td>94.000000</td>\n",
       "      <td>0.000000</td>\n",
       "      <td>84.000000</td>\n",
       "      <td>18.283854</td>\n",
       "      <td>111.000000</td>\n",
       "      <td>0</td>\n",
       "    </tr>\n",
       "    <tr>\n",
       "      <th>4</th>\n",
       "      <td>0.0</td>\n",
       "      <td>18.283854</td>\n",
       "      <td>18.283854</td>\n",
       "      <td>18.283854</td>\n",
       "      <td>18.283854</td>\n",
       "      <td>18.283854</td>\n",
       "      <td>18.283854</td>\n",
       "      <td>0</td>\n",
       "    </tr>\n",
       "  </tbody>\n",
       "</table>\n",
       "</div>"
      ],
      "text/plain": [
       "      D1         D3         D4         D5        D10         D11         D15  \\\n",
       "0   14.0  13.000000  18.283854  18.283854  13.000000   13.000000    0.000000   \n",
       "1    0.0  18.283854   0.000000  18.283854   0.000000   18.283854    0.000000   \n",
       "2    0.0  18.283854   0.000000  18.283854   0.000000  315.000000  315.000000   \n",
       "3  112.0   0.000000  94.000000   0.000000  84.000000   18.283854  111.000000   \n",
       "4    0.0  18.283854  18.283854  18.283854  18.283854   18.283854   18.283854   \n",
       "\n",
       "   isFraud  \n",
       "0        0  \n",
       "1        0  \n",
       "2        0  \n",
       "3        0  \n",
       "4        0  "
      ]
     },
     "execution_count": 85,
     "metadata": {},
     "output_type": "execute_result"
    }
   ],
   "source": [
    "# replace NaN with interquartile mean\n",
    "less_nan_dataframe = less_nan_dataframe.fillna(dataframe.quantile().mean())\n",
    "less_nan_dataframe.head()"
   ]
  },
  {
   "cell_type": "markdown",
   "metadata": {},
   "source": [
    "## do RFE with CV using SVM and SGD"
   ]
  },
  {
   "cell_type": "code",
   "execution_count": 86,
   "metadata": {},
   "outputs": [
    {
     "name": "stdout",
     "output_type": "stream",
     "text": [
      "Fitting estimator with 7 features.\n",
      "-- Epoch 1\n",
      "Norm: 17.37, NNZs: 7, Bias: 8.613788, T: 531486, Avg. loss: 320.895225\n",
      "Total training time: 0.07 seconds.\n",
      "-- Epoch 2\n",
      "Norm: 5.26, NNZs: 7, Bias: 0.503097, T: 1062972, Avg. loss: 34.948917\n",
      "Total training time: 0.21 seconds.\n",
      "-- Epoch 3\n",
      "Norm: 3.92, NNZs: 7, Bias: -0.602872, T: 1594458, Avg. loss: 20.784233\n",
      "Total training time: 0.36 seconds.\n",
      "-- Epoch 4\n",
      "Norm: 1.81, NNZs: 7, Bias: 0.347284, T: 2125944, Avg. loss: 14.833100\n",
      "Total training time: 0.49 seconds.\n",
      "-- Epoch 5\n",
      "Norm: 3.87, NNZs: 7, Bias: 0.129754, T: 2657430, Avg. loss: 11.544148\n",
      "Total training time: 0.63 seconds.\n",
      "-- Epoch 6\n",
      "Norm: 3.57, NNZs: 7, Bias: -0.258980, T: 3188916, Avg. loss: 9.418009\n",
      "Total training time: 0.76 seconds.\n",
      "Convergence after 6 epochs took 0.83 seconds\n",
      "Fitting estimator with 6 features.\n",
      "-- Epoch 1\n",
      "Norm: 12.08, NNZs: 6, Bias: -0.753536, T: 531486, Avg. loss: 321.952448\n",
      "Total training time: 0.06 seconds.\n",
      "-- Epoch 2\n",
      "Norm: 5.28, NNZs: 6, Bias: -0.889443, T: 1062972, Avg. loss: 35.040941\n",
      "Total training time: 0.20 seconds.\n",
      "-- Epoch 3\n",
      "Norm: 3.69, NNZs: 6, Bias: 0.060569, T: 1594458, Avg. loss: 20.635502\n",
      "Total training time: 0.33 seconds.\n",
      "-- Epoch 4\n",
      "Norm: 2.35, NNZs: 6, Bias: -0.393637, T: 2125944, Avg. loss: 14.611025\n",
      "Total training time: 0.48 seconds.\n",
      "-- Epoch 5\n",
      "Norm: 2.58, NNZs: 6, Bias: -0.396635, T: 2657430, Avg. loss: 11.281130\n",
      "Total training time: 0.62 seconds.\n",
      "-- Epoch 6\n",
      "Norm: 2.55, NNZs: 6, Bias: -0.936291, T: 3188916, Avg. loss: 9.258028\n",
      "Total training time: 0.76 seconds.\n",
      "Convergence after 6 epochs took 0.83 seconds\n",
      "Fitting estimator with 5 features.\n",
      "-- Epoch 1\n",
      "Norm: 7.68, NNZs: 5, Bias: 1.652787, T: 531486, Avg. loss: 276.269816\n",
      "Total training time: 0.06 seconds.\n",
      "-- Epoch 2\n",
      "Norm: 5.45, NNZs: 5, Bias: -0.135818, T: 1062972, Avg. loss: 28.168638\n",
      "Total training time: 0.21 seconds.\n",
      "-- Epoch 3\n",
      "Norm: 2.94, NNZs: 5, Bias: -0.705526, T: 1594458, Avg. loss: 16.675142\n",
      "Total training time: 0.34 seconds.\n",
      "-- Epoch 4\n",
      "Norm: 2.02, NNZs: 5, Bias: -0.950486, T: 2125944, Avg. loss: 11.813616\n",
      "Total training time: 0.47 seconds.\n",
      "-- Epoch 5\n",
      "Norm: 1.52, NNZs: 5, Bias: -0.629034, T: 2657430, Avg. loss: 9.198170\n",
      "Total training time: 0.60 seconds.\n",
      "-- Epoch 6\n",
      "Norm: 1.01, NNZs: 5, Bias: -0.896148, T: 3188916, Avg. loss: 7.549100\n",
      "Total training time: 0.74 seconds.\n",
      "Convergence after 6 epochs took 0.82 seconds\n",
      "Fitting estimator with 4 features.\n",
      "-- Epoch 1\n",
      "Norm: 9.69, NNZs: 4, Bias: 0.237921, T: 531486, Avg. loss: 196.266742\n",
      "Total training time: 0.06 seconds.\n",
      "-- Epoch 2\n",
      "Norm: 5.35, NNZs: 4, Bias: -0.465366, T: 1062972, Avg. loss: 18.739038\n",
      "Total training time: 0.19 seconds.\n",
      "-- Epoch 3\n",
      "Norm: 4.02, NNZs: 4, Bias: -0.322342, T: 1594458, Avg. loss: 10.922847\n",
      "Total training time: 0.33 seconds.\n",
      "-- Epoch 4\n",
      "Norm: 2.86, NNZs: 4, Bias: -0.159304, T: 2125944, Avg. loss: 7.800084\n",
      "Total training time: 0.46 seconds.\n",
      "-- Epoch 5\n",
      "Norm: 2.07, NNZs: 4, Bias: -0.714708, T: 2657430, Avg. loss: 6.050685\n",
      "Total training time: 0.59 seconds.\n",
      "-- Epoch 6\n",
      "Norm: 2.26, NNZs: 4, Bias: -0.784261, T: 3188916, Avg. loss: 4.955855\n",
      "Total training time: 0.72 seconds.\n",
      "Convergence after 6 epochs took 0.79 seconds\n",
      "Fitting estimator with 3 features.\n",
      "-- Epoch 1\n",
      "Norm: 5.49, NNZs: 3, Bias: -0.706343, T: 531486, Avg. loss: 99.371888\n",
      "Total training time: 0.06 seconds.\n",
      "-- Epoch 2\n",
      "Norm: 0.95, NNZs: 3, Bias: -0.414346, T: 1062972, Avg. loss: 10.658982\n",
      "Total training time: 0.19 seconds.\n",
      "-- Epoch 3\n",
      "Norm: 1.20, NNZs: 3, Bias: -0.342670, T: 1594458, Avg. loss: 6.227085\n",
      "Total training time: 0.34 seconds.\n",
      "-- Epoch 4\n",
      "Norm: 1.32, NNZs: 3, Bias: -0.487221, T: 2125944, Avg. loss: 4.482641\n",
      "Total training time: 0.48 seconds.\n",
      "-- Epoch 5\n",
      "Norm: 1.75, NNZs: 3, Bias: -0.808107, T: 2657430, Avg. loss: 3.461425\n",
      "Total training time: 0.63 seconds.\n",
      "-- Epoch 6\n",
      "Norm: 1.61, NNZs: 3, Bias: -0.661883, T: 3188916, Avg. loss: 2.839040\n",
      "Total training time: 0.78 seconds.\n",
      "Convergence after 6 epochs took 0.85 seconds\n",
      "Fitting estimator with 2 features.\n",
      "-- Epoch 1\n",
      "Norm: 8.09, NNZs: 2, Bias: -1.015989, T: 531486, Avg. loss: 92.525837\n",
      "Total training time: 0.06 seconds.\n",
      "-- Epoch 2\n",
      "Norm: 4.69, NNZs: 2, Bias: -0.982140, T: 1062972, Avg. loss: 9.590577\n",
      "Total training time: 0.22 seconds.\n",
      "-- Epoch 3\n",
      "Norm: 1.30, NNZs: 2, Bias: -1.005743, T: 1594458, Avg. loss: 5.654250\n",
      "Total training time: 0.37 seconds.\n",
      "-- Epoch 4\n",
      "Norm: 0.94, NNZs: 2, Bias: -1.006493, T: 2125944, Avg. loss: 4.009254\n",
      "Total training time: 0.53 seconds.\n",
      "-- Epoch 5\n",
      "Norm: 1.08, NNZs: 2, Bias: -1.010650, T: 2657430, Avg. loss: 3.159206\n",
      "Total training time: 0.68 seconds.\n",
      "-- Epoch 6\n",
      "Norm: 0.98, NNZs: 2, Bias: -1.000552, T: 3188916, Avg. loss: 2.566800\n",
      "Total training time: 0.83 seconds.\n",
      "Convergence after 6 epochs took 0.91 seconds\n",
      "-- Epoch 1\n",
      "Norm: 1.23, NNZs: 1, Bias: -1.387197, T: 531486, Avg. loss: 48.008435\n",
      "Total training time: 0.06 seconds.\n",
      "-- Epoch 2\n",
      "Norm: 2.80, NNZs: 1, Bias: -1.004442, T: 1062972, Avg. loss: 4.508271\n",
      "Total training time: 0.18 seconds.\n",
      "-- Epoch 3\n",
      "Norm: 0.14, NNZs: 1, Bias: -1.000119, T: 1594458, Avg. loss: 2.709894\n",
      "Total training time: 0.30 seconds.\n",
      "-- Epoch 4\n",
      "Norm: 0.62, NNZs: 1, Bias: -1.005960, T: 2125944, Avg. loss: 1.945281\n",
      "Total training time: 0.44 seconds.\n",
      "-- Epoch 5\n",
      "Norm: 1.02, NNZs: 1, Bias: -1.001935, T: 2657430, Avg. loss: 1.500345\n",
      "Total training time: 0.59 seconds.\n",
      "-- Epoch 6\n",
      "Norm: 0.36, NNZs: 1, Bias: -1.005520, T: 3188916, Avg. loss: 1.243304\n",
      "Total training time: 0.72 seconds.\n",
      "Convergence after 6 epochs took 0.79 seconds\n",
      "-- Epoch 1\n",
      "Norm: 0.30, NNZs: 1, Bias: -1.034538, T: 531486, Avg. loss: 40.563321\n",
      "Total training time: 0.05 seconds.\n",
      "-- Epoch 2\n",
      "Norm: 0.13, NNZs: 1, Bias: -0.997794, T: 1062972, Avg. loss: 4.503436\n",
      "Total training time: 0.18 seconds.\n",
      "-- Epoch 3\n",
      "Norm: 1.22, NNZs: 1, Bias: -1.001343, T: 1594458, Avg. loss: 2.685725\n",
      "Total training time: 0.29 seconds.\n",
      "-- Epoch 4\n",
      "Norm: 0.17, NNZs: 1, Bias: -1.007321, T: 2125944, Avg. loss: 1.915155\n",
      "Total training time: 0.41 seconds.\n",
      "-- Epoch 5\n",
      "Norm: 1.18, NNZs: 1, Bias: -1.003449, T: 2657430, Avg. loss: 1.528941\n",
      "Total training time: 0.53 seconds.\n",
      "-- Epoch 6\n",
      "Norm: 1.13, NNZs: 1, Bias: -1.006557, T: 3188916, Avg. loss: 1.262267\n",
      "Total training time: 0.65 seconds.\n",
      "Convergence after 6 epochs took 0.71 seconds\n",
      "CPU times: user 35.4 s, sys: 749 ms, total: 36.2 s\n",
      "Wall time: 33.4 s\n"
     ]
    },
    {
     "data": {
      "text/plain": [
       "RFECV(cv=None,\n",
       "      estimator=SGDClassifier(alpha=0.0001, average=False, class_weight=None,\n",
       "                              early_stopping=True, epsilon=0.1, eta0=0.0,\n",
       "                              fit_intercept=True, l1_ratio=0.15,\n",
       "                              learning_rate='optimal', loss='hinge',\n",
       "                              max_iter=1000, n_iter_no_change=5, n_jobs=2,\n",
       "                              penalty='l2', power_t=0.5, random_state=None,\n",
       "                              shuffle=True, tol=0.001, validation_fraction=0.1,\n",
       "                              verbose=1, warm_start=False),\n",
       "      min_features_to_select=1, n_jobs=2, scoring='accuracy', step=1,\n",
       "      verbose=1)"
      ]
     },
     "execution_count": 86,
     "metadata": {},
     "output_type": "execute_result"
    }
   ],
   "source": [
    "%%time\n",
    "\n",
    "no_fraud_column_dataframe = less_nan_dataframe.drop('isFraud', axis=1)\n",
    "is_fraud_data = less_nan_dataframe['isFraud']\n",
    "\n",
    "sgd_classifier = SGDClassifier(early_stopping=True, n_jobs=2, verbose=1)\n",
    "rfecv = RFECV(sgd_classifier, scoring='accuracy', n_jobs=2, verbose=1)\n",
    "\n",
    "rfecv.fit(no_fraud_column_dataframe, is_fraud_data)"
   ]
  },
  {
   "cell_type": "code",
   "execution_count": 87,
   "metadata": {},
   "outputs": [
    {
     "name": "stdout",
     "output_type": "stream",
     "text": [
      "Optimal number of features: 1\n"
     ]
    }
   ],
   "source": [
    "print('Optimal number of features: {}'.format(rfecv.n_features_))"
   ]
  },
  {
   "cell_type": "markdown",
   "metadata": {},
   "source": [
    "## plot of accuracy vs number of features"
   ]
  },
  {
   "cell_type": "code",
   "execution_count": 88,
   "metadata": {},
   "outputs": [
    {
     "data": {
      "image/png": "[encoded data removed]",
      "text/plain": [
       "<Figure size 1152x648 with 1 Axes>"
      ]
     },
     "metadata": {
      "needs_background": "light"
     },
     "output_type": "display_data"
    }
   ],
   "source": [
    "plt.figure(figsize=(16, 9))\n",
    "plt.title(\n",
    "    'Recursive Feature Elimination with Cross-Validation', \n",
    "    fontsize=18, fontweight='bold', pad=20\n",
    ")\n",
    "\n",
    "plt.xlabel('Number of features selected', fontsize=14, labelpad=20)\n",
    "plt.ylabel('% Correct Classification', fontsize=14, labelpad=20)\n",
    "\n",
    "plt.plot(\n",
    "    range(1, len(rfecv.grid_scores_) + 1), \n",
    "    rfecv.grid_scores_, color='#303F9F', linewidth=3\n",
    ")\n",
    "\n",
    "plt.show()"
   ]
  },
  {
   "cell_type": "markdown",
   "metadata": {},
   "source": [
    "## show feature ranking"
   ]
  },
  {
   "cell_type": "code",
   "execution_count": 92,
   "metadata": {},
   "outputs": [
    {
     "name": "stdout",
     "output_type": "stream",
     "text": [
      "[2 7 4 3 6 1 5]\n"
     ]
    }
   ],
   "source": [
    "# https://stackoverflow.com/a/50389174/9171260\n",
    "print(rfecv.ranking_)"
   ]
  },
  {
   "cell_type": "markdown",
   "metadata": {},
   "source": [
    "- based on plot and ranking, we should use D11 only?\n",
    "- maybe D1 and D5 too?"
   ]
  },
  {
   "cell_type": "markdown",
   "metadata": {},
   "source": [
    "## do RFE with CV using Random Forest"
   ]
  },
  {
   "cell_type": "code",
   "execution_count": 93,
   "metadata": {
    "scrolled": true
   },
   "outputs": [
    {
     "name": "stdout",
     "output_type": "stream",
     "text": [
      "Fitting estimator with 7 features.\n"
     ]
    },
    {
     "name": "stderr",
     "output_type": "stream",
     "text": [
      "[Parallel(n_jobs=2)]: Using backend ThreadingBackend with 2 concurrent workers.\n",
      "[Parallel(n_jobs=2)]: Done  46 tasks      | elapsed:   14.6s\n",
      "[Parallel(n_jobs=2)]: Done 100 out of 100 | elapsed:   32.2s finished\n"
     ]
    },
    {
     "name": "stdout",
     "output_type": "stream",
     "text": [
      "Fitting estimator with 6 features.\n"
     ]
    },
    {
     "name": "stderr",
     "output_type": "stream",
     "text": [
      "[Parallel(n_jobs=2)]: Using backend ThreadingBackend with 2 concurrent workers.\n",
      "[Parallel(n_jobs=2)]: Done  46 tasks      | elapsed:   15.6s\n",
      "[Parallel(n_jobs=2)]: Done 100 out of 100 | elapsed:   32.8s finished\n"
     ]
    },
    {
     "name": "stdout",
     "output_type": "stream",
     "text": [
      "Fitting estimator with 5 features.\n"
     ]
    },
    {
     "name": "stderr",
     "output_type": "stream",
     "text": [
      "[Parallel(n_jobs=2)]: Using backend ThreadingBackend with 2 concurrent workers.\n",
      "[Parallel(n_jobs=2)]: Done  46 tasks      | elapsed:   13.8s\n",
      "[Parallel(n_jobs=2)]: Done 100 out of 100 | elapsed:   29.8s finished\n"
     ]
    },
    {
     "name": "stdout",
     "output_type": "stream",
     "text": [
      "Fitting estimator with 4 features.\n"
     ]
    },
    {
     "name": "stderr",
     "output_type": "stream",
     "text": [
      "[Parallel(n_jobs=2)]: Using backend ThreadingBackend with 2 concurrent workers.\n",
      "[Parallel(n_jobs=2)]: Done  46 tasks      | elapsed:   13.2s\n",
      "[Parallel(n_jobs=2)]: Done 100 out of 100 | elapsed:   28.4s finished\n"
     ]
    },
    {
     "name": "stdout",
     "output_type": "stream",
     "text": [
      "Fitting estimator with 3 features.\n"
     ]
    },
    {
     "name": "stderr",
     "output_type": "stream",
     "text": [
      "[Parallel(n_jobs=2)]: Using backend ThreadingBackend with 2 concurrent workers.\n",
      "[Parallel(n_jobs=2)]: Done  46 tasks      | elapsed:    9.0s\n",
      "[Parallel(n_jobs=2)]: Done 100 out of 100 | elapsed:   19.6s finished\n"
     ]
    },
    {
     "name": "stdout",
     "output_type": "stream",
     "text": [
      "Fitting estimator with 2 features.\n"
     ]
    },
    {
     "name": "stderr",
     "output_type": "stream",
     "text": [
      "[Parallel(n_jobs=2)]: Using backend ThreadingBackend with 2 concurrent workers.\n",
      "[Parallel(n_jobs=2)]: Done  46 tasks      | elapsed:    8.7s\n",
      "[Parallel(n_jobs=2)]: Done 100 out of 100 | elapsed:   18.9s finished\n",
      "[Parallel(n_jobs=2)]: Using backend ThreadingBackend with 2 concurrent workers.\n",
      "[Parallel(n_jobs=2)]: Done  46 tasks      | elapsed:    6.2s\n",
      "[Parallel(n_jobs=2)]: Done 100 out of 100 | elapsed:   13.3s finished\n",
      "[Parallel(n_jobs=2)]: Using backend ThreadingBackend with 2 concurrent workers.\n",
      "[Parallel(n_jobs=2)]: Done  46 tasks      | elapsed:    6.3s\n"
     ]
    },
    {
     "name": "stdout",
     "output_type": "stream",
     "text": [
      "CPU times: user 6min 17s, sys: 459 ms, total: 6min 17s\n",
      "Wall time: 11min 59s\n"
     ]
    },
    {
     "name": "stderr",
     "output_type": "stream",
     "text": [
      "[Parallel(n_jobs=2)]: Done 100 out of 100 | elapsed:   13.8s finished\n"
     ]
    },
    {
     "data": {
      "text/plain": [
       "RFECV(cv=None,\n",
       "      estimator=RandomForestClassifier(bootstrap=True, ccp_alpha=0.0,\n",
       "                                       class_weight=None, criterion='gini',\n",
       "                                       max_depth=None, max_features='auto',\n",
       "                                       max_leaf_nodes=None, max_samples=None,\n",
       "                                       min_impurity_decrease=0.0,\n",
       "                                       min_impurity_split=None,\n",
       "                                       min_samples_leaf=1, min_samples_split=2,\n",
       "                                       min_weight_fraction_leaf=0.0,\n",
       "                                       n_estimators=100, n_jobs=2,\n",
       "                                       oob_score=False, random_state=None,\n",
       "                                       verbose=1, warm_start=False),\n",
       "      min_features_to_select=1, n_jobs=2, scoring='accuracy', step=1,\n",
       "      verbose=1)"
      ]
     },
     "execution_count": 93,
     "metadata": {},
     "output_type": "execute_result"
    }
   ],
   "source": [
    "%%time\n",
    "\n",
    "no_fraud_column_dataframe = less_nan_dataframe.drop('isFraud', axis=1)\n",
    "is_fraud_data = less_nan_dataframe['isFraud']\n",
    "\n",
    "rf_classifier = RandomForestClassifier(n_jobs=2, verbose=1)\n",
    "rfecv = RFECV(rf_classifier, scoring='accuracy', n_jobs=2, verbose=1)\n",
    "\n",
    "rfecv.fit(no_fraud_column_dataframe, is_fraud_data)"
   ]
  },
  {
   "cell_type": "code",
   "execution_count": 94,
   "metadata": {},
   "outputs": [
    {
     "name": "stdout",
     "output_type": "stream",
     "text": [
      "Optimal number of features: 1\n"
     ]
    }
   ],
   "source": [
    "print('Optimal number of features: {}'.format(rfecv.n_features_))"
   ]
  },
  {
   "cell_type": "markdown",
   "metadata": {},
   "source": [
    "## show feature ranking"
   ]
  },
  {
   "cell_type": "code",
   "execution_count": 95,
   "metadata": {},
   "outputs": [
    {
     "name": "stdout",
     "output_type": "stream",
     "text": [
      "[3 7 1 6 4 5 2]\n"
     ]
    }
   ],
   "source": [
    "print(rfecv.ranking_)"
   ]
  },
  {
   "cell_type": "markdown",
   "metadata": {},
   "source": [
    "- now we are supposed to use D4??!"
   ]
  },
  {
   "cell_type": "markdown",
   "metadata": {},
   "source": [
    "## plot of accuracy vs number of features"
   ]
  },
  {
   "cell_type": "code",
   "execution_count": 96,
   "metadata": {},
   "outputs": [
    {
     "data": {
      "image/png": "[encoded data removed]",
      "text/plain": [
       "<Figure size 1152x648 with 1 Axes>"
      ]
     },
     "metadata": {
      "needs_background": "light"
     },
     "output_type": "display_data"
    }
   ],
   "source": [
    "plt.figure(figsize=(16, 9))\n",
    "plt.title(\n",
    "    'Recursive Feature Elimination with Cross-Validation', \n",
    "    fontsize=18, fontweight='bold', pad=20\n",
    ")\n",
    "\n",
    "plt.xlabel('Number of features selected', fontsize=14, labelpad=20)\n",
    "plt.ylabel('% Correct Classification', fontsize=14, labelpad=20)\n",
    "\n",
    "plt.plot(\n",
    "    range(1, len(rfecv.grid_scores_) + 1), \n",
    "    rfecv.grid_scores_, color='#303F9F', linewidth=3\n",
    ")\n",
    "\n",
    "plt.show()"
   ]
  },
  {
   "cell_type": "markdown",
   "metadata": {},
   "source": [
    "## reference\n",
    "\n",
    "[recursive feature elimination](https://towardsdatascience.com/feature-selection-in-python-recursive-feature-elimination-19f1c39b8d15)"
   ]
  },
  {
   "cell_type": "markdown",
   "metadata": {},
   "source": [
    "## imputation"
   ]
  },
  {
   "cell_type": "code",
   "execution_count": 99,
   "metadata": {},
   "outputs": [
    {
     "data": {
      "text/html": [
       "<div>\n",
       "<style scoped>\n",
       "    .dataframe tbody tr th:only-of-type {\n",
       "        vertical-align: middle;\n",
       "    }\n",
       "\n",
       "    .dataframe tbody tr th {\n",
       "        vertical-align: top;\n",
       "    }\n",
       "\n",
       "    .dataframe thead th {\n",
       "        text-align: right;\n",
       "    }\n",
       "</style>\n",
       "<table border=\"1\" class=\"dataframe\">\n",
       "  <thead>\n",
       "    <tr style=\"text-align: right;\">\n",
       "      <th></th>\n",
       "      <th>D1</th>\n",
       "      <th>D2</th>\n",
       "      <th>D3</th>\n",
       "      <th>D4</th>\n",
       "      <th>D5</th>\n",
       "      <th>D6</th>\n",
       "      <th>D7</th>\n",
       "      <th>D8</th>\n",
       "      <th>D9</th>\n",
       "      <th>D10</th>\n",
       "      <th>D11</th>\n",
       "      <th>D12</th>\n",
       "      <th>D13</th>\n",
       "      <th>D14</th>\n",
       "      <th>D15</th>\n",
       "      <th>isFraud</th>\n",
       "    </tr>\n",
       "  </thead>\n",
       "  <tbody>\n",
       "    <tr>\n",
       "      <th>0</th>\n",
       "      <td>14.0</td>\n",
       "      <td>18.283854</td>\n",
       "      <td>13.000000</td>\n",
       "      <td>18.283854</td>\n",
       "      <td>18.283854</td>\n",
       "      <td>18.283854</td>\n",
       "      <td>18.283854</td>\n",
       "      <td>18.283854</td>\n",
       "      <td>18.283854</td>\n",
       "      <td>13.000000</td>\n",
       "      <td>13.000000</td>\n",
       "      <td>18.283854</td>\n",
       "      <td>18.283854</td>\n",
       "      <td>18.283854</td>\n",
       "      <td>0.000000</td>\n",
       "      <td>0</td>\n",
       "    </tr>\n",
       "    <tr>\n",
       "      <th>1</th>\n",
       "      <td>0.0</td>\n",
       "      <td>18.283854</td>\n",
       "      <td>18.283854</td>\n",
       "      <td>0.000000</td>\n",
       "      <td>18.283854</td>\n",
       "      <td>18.283854</td>\n",
       "      <td>18.283854</td>\n",
       "      <td>18.283854</td>\n",
       "      <td>18.283854</td>\n",
       "      <td>0.000000</td>\n",
       "      <td>18.283854</td>\n",
       "      <td>18.283854</td>\n",
       "      <td>18.283854</td>\n",
       "      <td>18.283854</td>\n",
       "      <td>0.000000</td>\n",
       "      <td>0</td>\n",
       "    </tr>\n",
       "    <tr>\n",
       "      <th>2</th>\n",
       "      <td>0.0</td>\n",
       "      <td>18.283854</td>\n",
       "      <td>18.283854</td>\n",
       "      <td>0.000000</td>\n",
       "      <td>18.283854</td>\n",
       "      <td>18.283854</td>\n",
       "      <td>18.283854</td>\n",
       "      <td>18.283854</td>\n",
       "      <td>18.283854</td>\n",
       "      <td>0.000000</td>\n",
       "      <td>315.000000</td>\n",
       "      <td>18.283854</td>\n",
       "      <td>18.283854</td>\n",
       "      <td>18.283854</td>\n",
       "      <td>315.000000</td>\n",
       "      <td>0</td>\n",
       "    </tr>\n",
       "    <tr>\n",
       "      <th>3</th>\n",
       "      <td>112.0</td>\n",
       "      <td>112.000000</td>\n",
       "      <td>0.000000</td>\n",
       "      <td>94.000000</td>\n",
       "      <td>0.000000</td>\n",
       "      <td>18.283854</td>\n",
       "      <td>18.283854</td>\n",
       "      <td>18.283854</td>\n",
       "      <td>18.283854</td>\n",
       "      <td>84.000000</td>\n",
       "      <td>18.283854</td>\n",
       "      <td>18.283854</td>\n",
       "      <td>18.283854</td>\n",
       "      <td>18.283854</td>\n",
       "      <td>111.000000</td>\n",
       "      <td>0</td>\n",
       "    </tr>\n",
       "    <tr>\n",
       "      <th>4</th>\n",
       "      <td>0.0</td>\n",
       "      <td>18.283854</td>\n",
       "      <td>18.283854</td>\n",
       "      <td>18.283854</td>\n",
       "      <td>18.283854</td>\n",
       "      <td>18.283854</td>\n",
       "      <td>18.283854</td>\n",
       "      <td>18.283854</td>\n",
       "      <td>18.283854</td>\n",
       "      <td>18.283854</td>\n",
       "      <td>18.283854</td>\n",
       "      <td>18.283854</td>\n",
       "      <td>18.283854</td>\n",
       "      <td>18.283854</td>\n",
       "      <td>18.283854</td>\n",
       "      <td>0</td>\n",
       "    </tr>\n",
       "  </tbody>\n",
       "</table>\n",
       "</div>"
      ],
      "text/plain": [
       "      D1          D2         D3         D4         D5         D6         D7  \\\n",
       "0   14.0   18.283854  13.000000  18.283854  18.283854  18.283854  18.283854   \n",
       "1    0.0   18.283854  18.283854   0.000000  18.283854  18.283854  18.283854   \n",
       "2    0.0   18.283854  18.283854   0.000000  18.283854  18.283854  18.283854   \n",
       "3  112.0  112.000000   0.000000  94.000000   0.000000  18.283854  18.283854   \n",
       "4    0.0   18.283854  18.283854  18.283854  18.283854  18.283854  18.283854   \n",
       "\n",
       "          D8         D9        D10         D11        D12        D13  \\\n",
       "0  18.283854  18.283854  13.000000   13.000000  18.283854  18.283854   \n",
       "1  18.283854  18.283854   0.000000   18.283854  18.283854  18.283854   \n",
       "2  18.283854  18.283854   0.000000  315.000000  18.283854  18.283854   \n",
       "3  18.283854  18.283854  84.000000   18.283854  18.283854  18.283854   \n",
       "4  18.283854  18.283854  18.283854   18.283854  18.283854  18.283854   \n",
       "\n",
       "         D14         D15  isFraud  \n",
       "0  18.283854    0.000000        0  \n",
       "1  18.283854    0.000000        0  \n",
       "2  18.283854  315.000000        0  \n",
       "3  18.283854  111.000000        0  \n",
       "4  18.283854   18.283854        0  "
      ]
     },
     "execution_count": 99,
     "metadata": {},
     "output_type": "execute_result"
    }
   ],
   "source": [
    "# replace NaN with interquartile mean\n",
    "dataframe = dataframe.fillna(dataframe.quantile().mean())\n",
    "dataframe.head()"
   ]
  },
  {
   "cell_type": "markdown",
   "metadata": {},
   "source": [
    "## check for feature correlation"
   ]
  },
  {
   "cell_type": "code",
   "execution_count": 100,
   "metadata": {},
   "outputs": [
    {
     "name": "stdout",
     "output_type": "stream",
     "text": [
      "D2 is correlated to D1 by a factor of 0.971\n",
      "D3 is correlated to D1 by a factor of 0.287\n",
      "D3 is correlated to D2 by a factor of 0.249\n",
      "D4 is correlated to D1 by a factor of 0.489\n",
      "D4 is correlated to D2 by a factor of 0.479\n",
      "D4 is correlated to D3 by a factor of 0.149\n",
      "D5 is correlated to D1 by a factor of 0.092\n",
      "D5 is correlated to D2 by a factor of 0.087\n",
      "D5 is correlated to D3 by a factor of 0.374\n",
      "D5 is correlated to D4 by a factor of 0.362\n",
      "D6 is correlated to D1 by a factor of 0.082\n",
      "D6 is correlated to D2 by a factor of 0.074\n",
      "D6 is correlated to D3 by a factor of 0.093\n",
      "D6 is correlated to D4 by a factor of 0.162\n",
      "D6 is correlated to D5 by a factor of 0.182\n",
      "D7 is correlated to D1 by a factor of 0.035\n",
      "D7 is correlated to D2 by a factor of 0.034\n",
      "D7 is correlated to D3 by a factor of 0.163\n",
      "D7 is correlated to D4 by a factor of 0.125\n",
      "D7 is correlated to D5 by a factor of 0.360\n",
      "D7 is correlated to D6 by a factor of 0.534\n",
      "D8 is correlated to D1 by a factor of 0.053\n",
      "D8 is correlated to D2 by a factor of 0.046\n",
      "D8 is correlated to D3 by a factor of 0.003\n",
      "D8 is correlated to D4 by a factor of 0.061\n",
      "D8 is correlated to D5 by a factor of 0.009\n",
      "D8 is correlated to D6 by a factor of 0.102\n",
      "D8 is correlated to D7 by a factor of 0.042\n",
      "D9 is correlated to D1 by a factor of 0.139\n",
      "D9 is correlated to D2 by a factor of 0.132\n",
      "D9 is correlated to D3 by a factor of 0.040\n",
      "D9 is correlated to D4 by a factor of 0.143\n",
      "D9 is correlated to D5 by a factor of 0.058\n",
      "D9 is correlated to D6 by a factor of 0.191\n",
      "D9 is correlated to D7 by a factor of 0.003\n",
      "D9 is correlated to D8 by a factor of 0.457\n",
      "D10 is correlated to D1 by a factor of 0.567\n",
      "D10 is correlated to D2 by a factor of 0.558\n",
      "D10 is correlated to D3 by a factor of 0.114\n",
      "D10 is correlated to D4 by a factor of 0.543\n",
      "D10 is correlated to D5 by a factor of 0.139\n",
      "D10 is correlated to D6 by a factor of 0.003\n",
      "D10 is correlated to D7 by a factor of 0.012\n",
      "D10 is correlated to D8 by a factor of 0.075\n",
      "D10 is correlated to D9 by a factor of 0.185\n",
      "D11 is correlated to D1 by a factor of 0.482\n",
      "D11 is correlated to D2 by a factor of 0.475\n",
      "D11 is correlated to D3 by a factor of 0.065\n",
      "D11 is correlated to D4 by a factor of 0.468\n",
      "D11 is correlated to D5 by a factor of 0.082\n",
      "D11 is correlated to D6 by a factor of 0.054\n",
      "D11 is correlated to D7 by a factor of 0.027\n",
      "D11 is correlated to D8 by a factor of 0.079\n",
      "D11 is correlated to D9 by a factor of 0.172\n",
      "D11 is correlated to D10 by a factor of 0.521\n",
      "D12 is correlated to D1 by a factor of 0.067\n",
      "D12 is correlated to D2 by a factor of 0.056\n",
      "D12 is correlated to D3 by a factor of 0.103\n",
      "D12 is correlated to D4 by a factor of 0.200\n",
      "D12 is correlated to D5 by a factor of 0.191\n",
      "D12 is correlated to D6 by a factor of 0.733\n",
      "D12 is correlated to D7 by a factor of 0.457\n",
      "D12 is correlated to D8 by a factor of 0.056\n",
      "D12 is correlated to D9 by a factor of 0.126\n",
      "D12 is correlated to D10 by a factor of 0.058\n",
      "D12 is correlated to D11 by a factor of 0.042\n",
      "D13 is correlated to D1 by a factor of 0.077\n",
      "D13 is correlated to D2 by a factor of 0.074\n",
      "D13 is correlated to D3 by a factor of 0.045\n",
      "D13 is correlated to D4 by a factor of 0.074\n",
      "D13 is correlated to D5 by a factor of 0.042\n",
      "D13 is correlated to D6 by a factor of 0.294\n",
      "D13 is correlated to D7 by a factor of 0.100\n",
      "D13 is correlated to D8 by a factor of 0.228\n",
      "D13 is correlated to D9 by a factor of 0.115\n",
      "D13 is correlated to D10 by a factor of 0.032\n",
      "D13 is correlated to D11 by a factor of 0.001\n",
      "D13 is correlated to D12 by a factor of 0.245\n",
      "D14 is correlated to D1 by a factor of 0.002\n",
      "D14 is correlated to D2 by a factor of 0.002\n",
      "D14 is correlated to D3 by a factor of 0.007\n",
      "D14 is correlated to D4 by a factor of 0.010\n",
      "D14 is correlated to D5 by a factor of 0.008\n",
      "D14 is correlated to D6 by a factor of 0.176\n",
      "D14 is correlated to D7 by a factor of 0.047\n",
      "D14 is correlated to D8 by a factor of 0.063\n",
      "D14 is correlated to D9 by a factor of 0.140\n",
      "D14 is correlated to D10 by a factor of 0.012\n",
      "D14 is correlated to D11 by a factor of 0.041\n",
      "D14 is correlated to D12 by a factor of 0.067\n",
      "D14 is correlated to D13 by a factor of 0.072\n",
      "D15 is correlated to D1 by a factor of 0.638\n",
      "D15 is correlated to D2 by a factor of 0.622\n",
      "D15 is correlated to D3 by a factor of 0.154\n",
      "D15 is correlated to D4 by a factor of 0.654\n",
      "D15 is correlated to D5 by a factor of 0.203\n",
      "D15 is correlated to D6 by a factor of 0.081\n",
      "D15 is correlated to D7 by a factor of 0.035\n",
      "D15 is correlated to D8 by a factor of 0.076\n",
      "D15 is correlated to D9 by a factor of 0.194\n",
      "D15 is correlated to D10 by a factor of 0.709\n",
      "D15 is correlated to D11 by a factor of 0.636\n",
      "D15 is correlated to D12 by a factor of 0.045\n",
      "D15 is correlated to D13 by a factor of 0.078\n",
      "D15 is correlated to D14 by a factor of 0.014\n",
      "{'D2'}\n"
     ]
    }
   ],
   "source": [
    "correlation_threshold = 0.8\n",
    "\n",
    "correlated_features = set()\n",
    "correlation_matrix = dataframe.drop('isFraud', axis=1).corr()\n",
    "\n",
    "for i in range(len(correlation_matrix.columns)):\n",
    "    for j in range(i):\n",
    "        print('{} is correlated to {} by a factor of {:.3f}'.format(\n",
    "            correlation_matrix.columns[i],\n",
    "            correlation_matrix.columns[j],\n",
    "            abs(correlation_matrix.iloc[i, j])\n",
    "        ))\n",
    "        \n",
    "        if abs(correlation_matrix.iloc[i, j]) > correlation_threshold:\n",
    "            colname = correlation_matrix.columns[i]\n",
    "            correlated_features.add(colname)\n",
    "\n",
    "print(correlated_features)"
   ]
  },
  {
   "cell_type": "markdown",
   "metadata": {},
   "source": [
    "## drop correlated features (>0.80)"
   ]
  },
  {
   "cell_type": "code",
   "execution_count": 101,
   "metadata": {},
   "outputs": [
    {
     "data": {
      "text/html": [
       "<div>\n",
       "<style scoped>\n",
       "    .dataframe tbody tr th:only-of-type {\n",
       "        vertical-align: middle;\n",
       "    }\n",
       "\n",
       "    .dataframe tbody tr th {\n",
       "        vertical-align: top;\n",
       "    }\n",
       "\n",
       "    .dataframe thead th {\n",
       "        text-align: right;\n",
       "    }\n",
       "</style>\n",
       "<table border=\"1\" class=\"dataframe\">\n",
       "  <thead>\n",
       "    <tr style=\"text-align: right;\">\n",
       "      <th></th>\n",
       "      <th>D1</th>\n",
       "      <th>D3</th>\n",
       "      <th>D4</th>\n",
       "      <th>D5</th>\n",
       "      <th>D6</th>\n",
       "      <th>D7</th>\n",
       "      <th>D8</th>\n",
       "      <th>D9</th>\n",
       "      <th>D10</th>\n",
       "      <th>D11</th>\n",
       "      <th>D12</th>\n",
       "      <th>D13</th>\n",
       "      <th>D14</th>\n",
       "      <th>D15</th>\n",
       "      <th>isFraud</th>\n",
       "    </tr>\n",
       "  </thead>\n",
       "  <tbody>\n",
       "    <tr>\n",
       "      <th>0</th>\n",
       "      <td>14.0</td>\n",
       "      <td>13.000000</td>\n",
       "      <td>18.283854</td>\n",
       "      <td>18.283854</td>\n",
       "      <td>18.283854</td>\n",
       "      <td>18.283854</td>\n",
       "      <td>18.283854</td>\n",
       "      <td>18.283854</td>\n",
       "      <td>13.000000</td>\n",
       "      <td>13.000000</td>\n",
       "      <td>18.283854</td>\n",
       "      <td>18.283854</td>\n",
       "      <td>18.283854</td>\n",
       "      <td>0.000000</td>\n",
       "      <td>0</td>\n",
       "    </tr>\n",
       "    <tr>\n",
       "      <th>1</th>\n",
       "      <td>0.0</td>\n",
       "      <td>18.283854</td>\n",
       "      <td>0.000000</td>\n",
       "      <td>18.283854</td>\n",
       "      <td>18.283854</td>\n",
       "      <td>18.283854</td>\n",
       "      <td>18.283854</td>\n",
       "      <td>18.283854</td>\n",
       "      <td>0.000000</td>\n",
       "      <td>18.283854</td>\n",
       "      <td>18.283854</td>\n",
       "      <td>18.283854</td>\n",
       "      <td>18.283854</td>\n",
       "      <td>0.000000</td>\n",
       "      <td>0</td>\n",
       "    </tr>\n",
       "    <tr>\n",
       "      <th>2</th>\n",
       "      <td>0.0</td>\n",
       "      <td>18.283854</td>\n",
       "      <td>0.000000</td>\n",
       "      <td>18.283854</td>\n",
       "      <td>18.283854</td>\n",
       "      <td>18.283854</td>\n",
       "      <td>18.283854</td>\n",
       "      <td>18.283854</td>\n",
       "      <td>0.000000</td>\n",
       "      <td>315.000000</td>\n",
       "      <td>18.283854</td>\n",
       "      <td>18.283854</td>\n",
       "      <td>18.283854</td>\n",
       "      <td>315.000000</td>\n",
       "      <td>0</td>\n",
       "    </tr>\n",
       "    <tr>\n",
       "      <th>3</th>\n",
       "      <td>112.0</td>\n",
       "      <td>0.000000</td>\n",
       "      <td>94.000000</td>\n",
       "      <td>0.000000</td>\n",
       "      <td>18.283854</td>\n",
       "      <td>18.283854</td>\n",
       "      <td>18.283854</td>\n",
       "      <td>18.283854</td>\n",
       "      <td>84.000000</td>\n",
       "      <td>18.283854</td>\n",
       "      <td>18.283854</td>\n",
       "      <td>18.283854</td>\n",
       "      <td>18.283854</td>\n",
       "      <td>111.000000</td>\n",
       "      <td>0</td>\n",
       "    </tr>\n",
       "    <tr>\n",
       "      <th>4</th>\n",
       "      <td>0.0</td>\n",
       "      <td>18.283854</td>\n",
       "      <td>18.283854</td>\n",
       "      <td>18.283854</td>\n",
       "      <td>18.283854</td>\n",
       "      <td>18.283854</td>\n",
       "      <td>18.283854</td>\n",
       "      <td>18.283854</td>\n",
       "      <td>18.283854</td>\n",
       "      <td>18.283854</td>\n",
       "      <td>18.283854</td>\n",
       "      <td>18.283854</td>\n",
       "      <td>18.283854</td>\n",
       "      <td>18.283854</td>\n",
       "      <td>0</td>\n",
       "    </tr>\n",
       "  </tbody>\n",
       "</table>\n",
       "</div>"
      ],
      "text/plain": [
       "      D1         D3         D4         D5         D6         D7         D8  \\\n",
       "0   14.0  13.000000  18.283854  18.283854  18.283854  18.283854  18.283854   \n",
       "1    0.0  18.283854   0.000000  18.283854  18.283854  18.283854  18.283854   \n",
       "2    0.0  18.283854   0.000000  18.283854  18.283854  18.283854  18.283854   \n",
       "3  112.0   0.000000  94.000000   0.000000  18.283854  18.283854  18.283854   \n",
       "4    0.0  18.283854  18.283854  18.283854  18.283854  18.283854  18.283854   \n",
       "\n",
       "          D9        D10         D11        D12        D13        D14  \\\n",
       "0  18.283854  13.000000   13.000000  18.283854  18.283854  18.283854   \n",
       "1  18.283854   0.000000   18.283854  18.283854  18.283854  18.283854   \n",
       "2  18.283854   0.000000  315.000000  18.283854  18.283854  18.283854   \n",
       "3  18.283854  84.000000   18.283854  18.283854  18.283854  18.283854   \n",
       "4  18.283854  18.283854   18.283854  18.283854  18.283854  18.283854   \n",
       "\n",
       "          D15  isFraud  \n",
       "0    0.000000        0  \n",
       "1    0.000000        0  \n",
       "2  315.000000        0  \n",
       "3  111.000000        0  \n",
       "4   18.283854        0  "
      ]
     },
     "execution_count": 101,
     "metadata": {},
     "output_type": "execute_result"
    }
   ],
   "source": [
    "dataframe = dataframe.drop(correlated_features, axis=1)\n",
    "dataframe.head()"
   ]
  },
  {
   "cell_type": "markdown",
   "metadata": {},
   "source": [
    "## do RFE with CV using SVM and SGD"
   ]
  },
  {
   "cell_type": "code",
   "execution_count": 102,
   "metadata": {},
   "outputs": [
    {
     "name": "stdout",
     "output_type": "stream",
     "text": [
      "Fitting estimator with 14 features.\n",
      "-- Epoch 1\n",
      "Norm: 17.97, NNZs: 14, Bias: 285.015484, T: 531486, Avg. loss: 421.837170\n",
      "Total training time: 0.07 seconds.\n",
      "-- Epoch 2\n",
      "Norm: 15.90, NNZs: 14, Bias: 228.209554, T: 1062972, Avg. loss: 46.797563\n",
      "Total training time: 0.23 seconds.\n",
      "-- Epoch 3\n",
      "Norm: 8.53, NNZs: 14, Bias: 182.938229, T: 1594458, Avg. loss: 27.734479\n",
      "Total training time: 0.38 seconds.\n",
      "-- Epoch 4\n",
      "Norm: 8.14, NNZs: 14, Bias: 147.006227, T: 2125944, Avg. loss: 19.909757\n",
      "Total training time: 0.53 seconds.\n",
      "-- Epoch 5\n",
      "Norm: 5.01, NNZs: 14, Bias: 118.531700, T: 2657430, Avg. loss: 15.576182\n",
      "Total training time: 0.68 seconds.\n",
      "-- Epoch 6\n",
      "Norm: 5.16, NNZs: 14, Bias: 95.512292, T: 3188916, Avg. loss: 12.663712\n",
      "Total training time: 0.84 seconds.\n",
      "Convergence after 6 epochs took 0.91 seconds\n",
      "Fitting estimator with 13 features.\n",
      "-- Epoch 1\n",
      "Norm: 25.36, NNZs: 13, Bias: 329.238882, T: 531486, Avg. loss: 391.754969\n",
      "Total training time: 0.07 seconds.\n",
      "-- Epoch 2\n",
      "Norm: 14.92, NNZs: 13, Bias: 261.096262, T: 1062972, Avg. loss: 44.957909\n",
      "Total training time: 0.23 seconds.\n",
      "-- Epoch 3\n",
      "Norm: 9.25, NNZs: 13, Bias: 208.270308, T: 1594458, Avg. loss: 27.075160\n",
      "Total training time: 0.37 seconds.\n",
      "-- Epoch 4\n",
      "Norm: 8.29, NNZs: 13, Bias: 167.121609, T: 2125944, Avg. loss: 19.645106\n",
      "Total training time: 0.51 seconds.\n",
      "-- Epoch 5\n",
      "Norm: 5.81, NNZs: 13, Bias: 134.669935, T: 2657430, Avg. loss: 15.325215\n",
      "Total training time: 0.66 seconds.\n",
      "-- Epoch 6\n",
      "Norm: 5.62, NNZs: 13, Bias: 108.213573, T: 3188916, Avg. loss: 12.532296\n",
      "Total training time: 0.81 seconds.\n",
      "Convergence after 6 epochs took 0.88 seconds\n",
      "Fitting estimator with 12 features.\n",
      "-- Epoch 1\n",
      "Norm: 21.88, NNZs: 12, Bias: 243.056587, T: 531486, Avg. loss: 311.149475\n",
      "Total training time: 0.08 seconds.\n",
      "-- Epoch 2\n",
      "Norm: 9.90, NNZs: 12, Bias: 186.962696, T: 1062972, Avg. loss: 36.961597\n",
      "Total training time: 0.25 seconds.\n",
      "-- Epoch 3\n",
      "Norm: 6.23, NNZs: 12, Bias: 142.289972, T: 1594458, Avg. loss: 21.957041\n",
      "Total training time: 0.43 seconds.\n",
      "-- Epoch 4\n",
      "Norm: 5.65, NNZs: 12, Bias: 108.644979, T: 2125944, Avg. loss: 15.734624\n",
      "Total training time: 0.57 seconds.\n",
      "-- Epoch 5\n",
      "Norm: 4.95, NNZs: 12, Bias: 83.136413, T: 2657430, Avg. loss: 12.138619\n",
      "Total training time: 0.72 seconds.\n",
      "-- Epoch 6\n",
      "Norm: 4.34, NNZs: 12, Bias: 63.086413, T: 3188916, Avg. loss: 9.848931\n",
      "Total training time: 0.87 seconds.\n",
      "Convergence after 6 epochs took 0.96 seconds\n",
      "Fitting estimator with 11 features.\n",
      "-- Epoch 1\n",
      "Norm: 12.36, NNZs: 11, Bias: 237.015928, T: 531486, Avg. loss: 337.747157\n",
      "Total training time: 0.08 seconds.\n",
      "-- Epoch 2\n",
      "Norm: 9.59, NNZs: 11, Bias: 173.478075, T: 1062972, Avg. loss: 35.896613\n",
      "Total training time: 0.26 seconds.\n",
      "-- Epoch 3\n",
      "Norm: 9.93, NNZs: 11, Bias: 125.557755, T: 1594458, Avg. loss: 21.360247\n",
      "Total training time: 0.43 seconds.\n",
      "-- Epoch 4\n",
      "Norm: 4.65, NNZs: 11, Bias: 91.788149, T: 2125944, Avg. loss: 15.211003\n",
      "Total training time: 0.58 seconds.\n",
      "-- Epoch 5\n",
      "Norm: 4.74, NNZs: 11, Bias: 66.982226, T: 2657430, Avg. loss: 11.681874\n",
      "Total training time: 0.73 seconds.\n",
      "-- Epoch 6\n",
      "Norm: 3.31, NNZs: 11, Bias: 49.083934, T: 3188916, Avg. loss: 9.578268\n",
      "Total training time: 0.88 seconds.\n",
      "Convergence after 6 epochs took 0.96 seconds\n",
      "Fitting estimator with 10 features.\n",
      "-- Epoch 1\n",
      "Norm: 23.58, NNZs: 10, Bias: 279.838263, T: 531486, Avg. loss: 327.349050\n",
      "Total training time: 0.07 seconds.\n",
      "-- Epoch 2\n",
      "Norm: 13.61, NNZs: 10, Bias: 201.447740, T: 1062972, Avg. loss: 36.142084\n",
      "Total training time: 0.23 seconds.\n",
      "-- Epoch 3\n",
      "Norm: 7.66, NNZs: 10, Bias: 145.820900, T: 1594458, Avg. loss: 21.503494\n",
      "Total training time: 0.37 seconds.\n",
      "-- Epoch 4\n",
      "Norm: 6.02, NNZs: 10, Bias: 105.288712, T: 2125944, Avg. loss: 15.425982\n",
      "Total training time: 0.52 seconds.\n",
      "-- Epoch 5\n",
      "Norm: 4.35, NNZs: 10, Bias: 76.456481, T: 2657430, Avg. loss: 11.803789\n",
      "Total training time: 0.66 seconds.\n",
      "-- Epoch 6\n",
      "Norm: 3.11, NNZs: 10, Bias: 54.880553, T: 3188916, Avg. loss: 9.531984\n",
      "Total training time: 0.81 seconds.\n",
      "Convergence after 6 epochs took 0.88 seconds\n",
      "Fitting estimator with 9 features.\n",
      "-- Epoch 1\n",
      "Norm: 12.03, NNZs: 9, Bias: 251.604349, T: 531486, Avg. loss: 302.425255\n",
      "Total training time: 0.07 seconds.\n",
      "-- Epoch 2\n",
      "Norm: 10.02, NNZs: 9, Bias: 176.977563, T: 1062972, Avg. loss: 34.078295\n",
      "Total training time: 0.23 seconds.\n",
      "-- Epoch 3\n",
      "Norm: 7.39, NNZs: 9, Bias: 122.719298, T: 1594458, Avg. loss: 20.387171\n",
      "Total training time: 0.36 seconds.\n",
      "-- Epoch 4\n",
      "Norm: 5.86, NNZs: 9, Bias: 85.014724, T: 2125944, Avg. loss: 14.559865\n",
      "Total training time: 0.50 seconds.\n",
      "-- Epoch 5\n",
      "Norm: 3.81, NNZs: 9, Bias: 58.297346, T: 2657430, Avg. loss: 11.105325\n",
      "Total training time: 0.64 seconds.\n",
      "-- Epoch 6\n",
      "Norm: 3.38, NNZs: 9, Bias: 40.563633, T: 3188916, Avg. loss: 9.000979\n",
      "Total training time: 0.77 seconds.\n",
      "Convergence after 6 epochs took 0.84 seconds\n",
      "Fitting estimator with 8 features.\n",
      "-- Epoch 1\n",
      "Norm: 17.90, NNZs: 8, Bias: 278.647748, T: 531486, Avg. loss: 281.226428\n",
      "Total training time: 0.07 seconds.\n",
      "-- Epoch 2\n",
      "Norm: 9.01, NNZs: 8, Bias: 178.255169, T: 1062972, Avg. loss: 32.655089\n",
      "Total training time: 0.21 seconds.\n",
      "-- Epoch 3\n",
      "Norm: 5.07, NNZs: 8, Bias: 114.492955, T: 1594458, Avg. loss: 19.215213\n",
      "Total training time: 0.35 seconds.\n",
      "-- Epoch 4\n",
      "Norm: 6.14, NNZs: 8, Bias: 73.358479, T: 2125944, Avg. loss: 13.461222\n",
      "Total training time: 0.50 seconds.\n",
      "-- Epoch 5\n",
      "Norm: 4.41, NNZs: 8, Bias: 46.005884, T: 2657430, Avg. loss: 10.227845\n",
      "Total training time: 0.63 seconds.\n",
      "-- Epoch 6\n",
      "Norm: 2.93, NNZs: 8, Bias: 30.070325, T: 3188916, Avg. loss: 8.300576\n",
      "Total training time: 0.78 seconds.\n",
      "Convergence after 6 epochs took 0.84 seconds\n",
      "Fitting estimator with 7 features.\n",
      "-- Epoch 1\n",
      "Norm: 17.21, NNZs: 7, Bias: 293.056210, T: 531486, Avg. loss: 287.785285\n",
      "Total training time: 0.07 seconds.\n",
      "-- Epoch 2\n",
      "Norm: 10.33, NNZs: 7, Bias: 172.736025, T: 1062972, Avg. loss: 32.159191\n",
      "Total training time: 0.21 seconds.\n",
      "-- Epoch 3\n",
      "Norm: 6.49, NNZs: 7, Bias: 102.779942, T: 1594458, Avg. loss: 18.884453\n",
      "Total training time: 0.35 seconds.\n",
      "-- Epoch 4\n",
      "Norm: 4.47, NNZs: 7, Bias: 60.229536, T: 2125944, Avg. loss: 13.025685\n",
      "Total training time: 0.49 seconds.\n",
      "-- Epoch 5\n",
      "Norm: 3.69, NNZs: 7, Bias: 37.178351, T: 2657430, Avg. loss: 9.988305\n",
      "Total training time: 0.62 seconds.\n",
      "-- Epoch 6\n",
      "Norm: 2.92, NNZs: 7, Bias: 25.541392, T: 3188916, Avg. loss: 8.166316\n",
      "Total training time: 0.77 seconds.\n",
      "Convergence after 6 epochs took 0.84 seconds\n",
      "Fitting estimator with 6 features.\n",
      "-- Epoch 1\n",
      "Norm: 18.78, NNZs: 6, Bias: 233.837268, T: 531486, Avg. loss: 184.792466\n",
      "Total training time: 0.06 seconds.\n",
      "-- Epoch 2\n",
      "Norm: 7.39, NNZs: 6, Bias: 110.062533, T: 1062972, Avg. loss: 21.681073\n",
      "Total training time: 0.20 seconds.\n",
      "-- Epoch 3\n",
      "Norm: 3.64, NNZs: 6, Bias: 54.558438, T: 1594458, Avg. loss: 12.535072\n",
      "Total training time: 0.33 seconds.\n",
      "-- Epoch 4\n",
      "Norm: 2.91, NNZs: 6, Bias: 30.723019, T: 2125944, Avg. loss: 8.757110\n",
      "Total training time: 0.46 seconds.\n",
      "-- Epoch 5\n",
      "Norm: 1.91, NNZs: 6, Bias: 19.886618, T: 2657430, Avg. loss: 6.728006\n",
      "Total training time: 0.59 seconds.\n",
      "-- Epoch 6\n",
      "Norm: 1.87, NNZs: 6, Bias: 15.163838, T: 3188916, Avg. loss: 5.474804\n",
      "Total training time: 0.72 seconds.\n",
      "Convergence after 6 epochs took 0.79 seconds\n",
      "Fitting estimator with 5 features.\n",
      "-- Epoch 1\n",
      "Norm: 9.93, NNZs: 5, Bias: 196.814928, T: 531486, Avg. loss: 159.181300\n",
      "Total training time: 0.06 seconds.\n",
      "-- Epoch 2\n",
      "Norm: 5.15, NNZs: 5, Bias: 82.369620, T: 1062972, Avg. loss: 16.219336\n",
      "Total training time: 0.19 seconds.\n",
      "-- Epoch 3\n",
      "Norm: 2.48, NNZs: 5, Bias: 38.185421, T: 1594458, Avg. loss: 9.277844\n",
      "Total training time: 0.32 seconds.\n",
      "-- Epoch 4\n",
      "Norm: 1.50, NNZs: 5, Bias: 22.044884, T: 2125944, Avg. loss: 6.543081\n",
      "Total training time: 0.45 seconds.\n",
      "-- Epoch 5\n",
      "Norm: 2.35, NNZs: 5, Bias: 15.505557, T: 2657430, Avg. loss: 5.002306\n",
      "Total training time: 0.58 seconds.\n",
      "-- Epoch 6\n",
      "Norm: 2.36, NNZs: 5, Bias: 11.932816, T: 3188916, Avg. loss: 4.127790\n",
      "Total training time: 0.70 seconds.\n",
      "Convergence after 6 epochs took 0.77 seconds\n",
      "Fitting estimator with 4 features.\n",
      "-- Epoch 1\n",
      "Norm: 8.66, NNZs: 4, Bias: 128.912320, T: 531486, Avg. loss: 87.834948\n",
      "Total training time: 0.06 seconds.\n",
      "-- Epoch 2\n",
      "Norm: 5.39, NNZs: 4, Bias: 36.587876, T: 1062972, Avg. loss: 8.877117\n",
      "Total training time: 0.19 seconds.\n",
      "-- Epoch 3\n",
      "Norm: 4.12, NNZs: 4, Bias: 18.093938, T: 1594458, Avg. loss: 5.141939\n",
      "Total training time: 0.32 seconds.\n",
      "-- Epoch 4\n",
      "Norm: 0.85, NNZs: 4, Bias: 11.034400, T: 2125944, Avg. loss: 3.663738\n",
      "Total training time: 0.45 seconds.\n"
     ]
    },
    {
     "name": "stdout",
     "output_type": "stream",
     "text": [
      "-- Epoch 5\n",
      "Norm: 1.64, NNZs: 4, Bias: 8.924322, T: 2657430, Avg. loss: 2.930631\n",
      "Total training time: 0.57 seconds.\n",
      "-- Epoch 6\n",
      "Norm: 1.10, NNZs: 4, Bias: 7.345021, T: 3188916, Avg. loss: 2.377247\n",
      "Total training time: 0.70 seconds.\n",
      "Convergence after 6 epochs took 0.76 seconds\n",
      "Fitting estimator with 3 features.\n",
      "-- Epoch 1\n",
      "Norm: 5.93, NNZs: 3, Bias: 40.276965, T: 531486, Avg. loss: 79.057212\n",
      "Total training time: 0.06 seconds.\n",
      "-- Epoch 2\n",
      "Norm: 2.56, NNZs: 3, Bias: 16.528447, T: 1062972, Avg. loss: 8.433576\n",
      "Total training time: 0.18 seconds.\n",
      "-- Epoch 3\n",
      "Norm: 4.56, NNZs: 3, Bias: 10.635810, T: 1594458, Avg. loss: 4.972522\n",
      "Total training time: 0.30 seconds.\n",
      "-- Epoch 4\n",
      "Norm: 0.94, NNZs: 3, Bias: 6.624110, T: 2125944, Avg. loss: 3.547977\n",
      "Total training time: 0.43 seconds.\n",
      "-- Epoch 5\n",
      "Norm: 0.83, NNZs: 3, Bias: 5.834845, T: 2657430, Avg. loss: 2.815230\n",
      "Total training time: 0.56 seconds.\n",
      "-- Epoch 6\n",
      "Norm: 0.37, NNZs: 3, Bias: 4.379938, T: 3188916, Avg. loss: 2.312626\n",
      "Total training time: 0.69 seconds.\n",
      "Convergence after 6 epochs took 0.75 seconds\n",
      "Fitting estimator with 2 features.\n",
      "-- Epoch 1\n",
      "Norm: 8.76, NNZs: 2, Bias: 12.264713, T: 531486, Avg. loss: 65.569194\n",
      "Total training time: 0.05 seconds.\n",
      "-- Epoch 2\n",
      "Norm: 6.73, NNZs: 2, Bias: 4.515305, T: 1062972, Avg. loss: 7.495475\n",
      "Total training time: 0.16 seconds.\n",
      "-- Epoch 3\n",
      "Norm: 1.77, NNZs: 2, Bias: 2.409563, T: 1594458, Avg. loss: 4.414667\n",
      "Total training time: 0.28 seconds.\n",
      "-- Epoch 4\n",
      "Norm: 0.94, NNZs: 2, Bias: 1.905327, T: 2125944, Avg. loss: 3.148959\n",
      "Total training time: 0.39 seconds.\n",
      "-- Epoch 5\n",
      "Norm: 0.70, NNZs: 2, Bias: 1.463197, T: 2657430, Avg. loss: 2.501893\n",
      "Total training time: 0.52 seconds.\n",
      "-- Epoch 6\n",
      "Norm: 0.86, NNZs: 2, Bias: 1.599226, T: 3188916, Avg. loss: 2.066756\n",
      "Total training time: 0.64 seconds.\n",
      "Convergence after 6 epochs took 0.71 seconds\n",
      "-- Epoch 1\n",
      "Norm: 0.01, NNZs: 1, Bias: -1.009276, T: 531486, Avg. loss: 38.378722\n",
      "Total training time: 0.05 seconds.\n",
      "-- Epoch 2\n",
      "Norm: 0.02, NNZs: 1, Bias: -1.012550, T: 1062972, Avg. loss: 4.539312\n",
      "Total training time: 0.16 seconds.\n",
      "-- Epoch 3\n",
      "Norm: 2.59, NNZs: 1, Bias: -1.005486, T: 1594458, Avg. loss: 2.695488\n",
      "Total training time: 0.27 seconds.\n",
      "-- Epoch 4\n",
      "Norm: 1.60, NNZs: 1, Bias: -1.000860, T: 2125944, Avg. loss: 1.943343\n",
      "Total training time: 0.37 seconds.\n",
      "-- Epoch 5\n",
      "Norm: 0.01, NNZs: 1, Bias: -1.005312, T: 2657430, Avg. loss: 1.501818\n",
      "Total training time: 0.49 seconds.\n",
      "-- Epoch 6\n",
      "Norm: 0.16, NNZs: 1, Bias: -1.030259, T: 3188916, Avg. loss: 1.242559\n",
      "Total training time: 0.60 seconds.\n",
      "-- Epoch 7\n",
      "Norm: 0.17, NNZs: 1, Bias: -1.002351, T: 3720402, Avg. loss: 1.067838\n",
      "Total training time: 0.71 seconds.\n",
      "Convergence after 7 epochs took 0.77 seconds\n",
      "-- Epoch 1\n",
      "Norm: 1.62, NNZs: 1, Bias: -1.104108, T: 531486, Avg. loss: 42.065597\n",
      "Total training time: 0.04 seconds.\n",
      "-- Epoch 2\n",
      "Norm: 2.41, NNZs: 1, Bias: -1.004092, T: 1062972, Avg. loss: 4.558982\n",
      "Total training time: 0.16 seconds.\n",
      "-- Epoch 3\n",
      "Norm: 1.34, NNZs: 1, Bias: -1.000086, T: 1594458, Avg. loss: 2.725512\n",
      "Total training time: 0.27 seconds.\n",
      "-- Epoch 4\n",
      "Norm: 1.21, NNZs: 1, Bias: -1.005851, T: 2125944, Avg. loss: 1.952845\n",
      "Total training time: 0.37 seconds.\n",
      "-- Epoch 5\n",
      "Norm: 1.55, NNZs: 1, Bias: -1.009456, T: 2657430, Avg. loss: 1.531720\n",
      "Total training time: 0.48 seconds.\n",
      "-- Epoch 6\n",
      "Norm: 0.57, NNZs: 1, Bias: -1.011792, T: 3188916, Avg. loss: 1.265887\n",
      "Total training time: 0.60 seconds.\n",
      "Convergence after 6 epochs took 0.66 seconds\n",
      "CPU times: user 1min 14s, sys: 1.48 s, total: 1min 15s\n",
      "Wall time: 1min 6s\n"
     ]
    },
    {
     "data": {
      "text/plain": [
       "RFECV(cv=None,\n",
       "      estimator=SGDClassifier(alpha=0.0001, average=False, class_weight=None,\n",
       "                              early_stopping=True, epsilon=0.1, eta0=0.0,\n",
       "                              fit_intercept=True, l1_ratio=0.15,\n",
       "                              learning_rate='optimal', loss='hinge',\n",
       "                              max_iter=1000, n_iter_no_change=5, n_jobs=2,\n",
       "                              penalty='l2', power_t=0.5, random_state=None,\n",
       "                              shuffle=True, tol=0.001, validation_fraction=0.1,\n",
       "                              verbose=1, warm_start=False),\n",
       "      min_features_to_select=1, n_jobs=2, scoring='accuracy', step=1,\n",
       "      verbose=1)"
      ]
     },
     "execution_count": 102,
     "metadata": {},
     "output_type": "execute_result"
    }
   ],
   "source": [
    "%%time\n",
    "\n",
    "no_fraud_column_dataframe = dataframe.drop('isFraud', axis=1)\n",
    "is_fraud_data = dataframe['isFraud']\n",
    "\n",
    "sgd_classifier = SGDClassifier(early_stopping=True, n_jobs=2, verbose=1)\n",
    "rfecv = RFECV(sgd_classifier, scoring='accuracy', n_jobs=2, verbose=1)\n",
    "\n",
    "rfecv.fit(no_fraud_column_dataframe, is_fraud_data)"
   ]
  },
  {
   "cell_type": "code",
   "execution_count": 103,
   "metadata": {},
   "outputs": [
    {
     "name": "stdout",
     "output_type": "stream",
     "text": [
      "Optimal number of features: 1\n"
     ]
    }
   ],
   "source": [
    "print('Optimal number of features: {}'.format(rfecv.n_features_))"
   ]
  },
  {
   "cell_type": "markdown",
   "metadata": {},
   "source": [
    "## plot of accuracy vs number of features"
   ]
  },
  {
   "cell_type": "code",
   "execution_count": 104,
   "metadata": {},
   "outputs": [
    {
     "data": {
      "image/png": "[encoded data removed]",
      "text/plain": [
       "<Figure size 1152x648 with 1 Axes>"
      ]
     },
     "metadata": {
      "needs_background": "light"
     },
     "output_type": "display_data"
    }
   ],
   "source": [
    "plt.figure(figsize=(16, 9))\n",
    "plt.title(\n",
    "    'Recursive Feature Elimination with Cross-Validation', \n",
    "    fontsize=18, fontweight='bold', pad=20\n",
    ")\n",
    "\n",
    "plt.xlabel('Number of features selected', fontsize=14, labelpad=20)\n",
    "plt.ylabel('% Correct Classification', fontsize=14, labelpad=20)\n",
    "\n",
    "plt.plot(\n",
    "    range(1, len(rfecv.grid_scores_) + 1), \n",
    "    rfecv.grid_scores_, color='#303F9F', linewidth=3\n",
    ")\n",
    "\n",
    "plt.show()"
   ]
  },
  {
   "cell_type": "markdown",
   "metadata": {},
   "source": [
    "## show feature ranking"
   ]
  },
  {
   "cell_type": "code",
   "execution_count": 105,
   "metadata": {},
   "outputs": [
    {
     "name": "stdout",
     "output_type": "stream",
     "text": [
      "[ 6 12 13  3 10  8  2  4  5  1 14 11  9  7]\n"
     ]
    }
   ],
   "source": [
    "print(rfecv.ranking_)"
   ]
  },
  {
   "cell_type": "markdown",
   "metadata": {},
   "source": [
    "- now top 1 is D11\n",
    "- followed by D8 and D5"
   ]
  },
  {
   "cell_type": "markdown",
   "metadata": {},
   "source": [
    "## do RFE with CV using Random Forest"
   ]
  },
  {
   "cell_type": "code",
   "execution_count": 107,
   "metadata": {},
   "outputs": [
    {
     "name": "stdout",
     "output_type": "stream",
     "text": [
      "Fitting estimator with 14 features.\n"
     ]
    },
    {
     "name": "stderr",
     "output_type": "stream",
     "text": [
      "[Parallel(n_jobs=2)]: Using backend ThreadingBackend with 2 concurrent workers.\n",
      "[Parallel(n_jobs=2)]: Done  46 tasks      | elapsed:   18.6s\n",
      "[Parallel(n_jobs=2)]: Done 100 out of 100 | elapsed:   40.3s finished\n",
      "[Parallel(n_jobs=2)]: Using backend ThreadingBackend with 2 concurrent workers.\n",
      "[Parallel(n_jobs=2)]: Done  46 tasks      | elapsed:   18.7s\n",
      "[Parallel(n_jobs=2)]: Done 100 out of 100 | elapsed:   40.6s finished\n",
      "[Parallel(n_jobs=2)]: Using backend ThreadingBackend with 2 concurrent workers.\n",
      "[Parallel(n_jobs=2)]: Done  46 tasks      | elapsed:   18.5s\n"
     ]
    },
    {
     "name": "stdout",
     "output_type": "stream",
     "text": [
      "CPU times: user 4min 1s, sys: 324 ms, total: 4min 1s\n",
      "Wall time: 25min 29s\n"
     ]
    },
    {
     "name": "stderr",
     "output_type": "stream",
     "text": [
      "[Parallel(n_jobs=2)]: Done 100 out of 100 | elapsed:   40.2s finished\n"
     ]
    },
    {
     "data": {
      "text/plain": [
       "RFECV(cv=None,\n",
       "      estimator=RandomForestClassifier(bootstrap=True, ccp_alpha=0.0,\n",
       "                                       class_weight=None, criterion='gini',\n",
       "                                       max_depth=None, max_features='auto',\n",
       "                                       max_leaf_nodes=None, max_samples=None,\n",
       "                                       min_impurity_decrease=0.0,\n",
       "                                       min_impurity_split=None,\n",
       "                                       min_samples_leaf=1, min_samples_split=2,\n",
       "                                       min_weight_fraction_leaf=0.0,\n",
       "                                       n_estimators=100, n_jobs=2,\n",
       "                                       oob_score=False, random_state=None,\n",
       "                                       verbose=1, warm_start=False),\n",
       "      min_features_to_select=1, n_jobs=2, scoring='accuracy', step=1,\n",
       "      verbose=1)"
      ]
     },
     "execution_count": 107,
     "metadata": {},
     "output_type": "execute_result"
    }
   ],
   "source": [
    "%%time\n",
    "\n",
    "no_fraud_column_dataframe = dataframe.drop('isFraud', axis=1)\n",
    "is_fraud_data = dataframe['isFraud']\n",
    "\n",
    "rf_classifier = RandomForestClassifier(n_jobs=2, verbose=1)\n",
    "rfecv = RFECV(rf_classifier, scoring='accuracy', n_jobs=2, verbose=1)\n",
    "\n",
    "rfecv.fit(no_fraud_column_dataframe, is_fraud_data)"
   ]
  },
  {
   "cell_type": "code",
   "execution_count": 108,
   "metadata": {},
   "outputs": [
    {
     "name": "stdout",
     "output_type": "stream",
     "text": [
      "Optimal number of features: 13\n"
     ]
    }
   ],
   "source": [
    "print('Optimal number of features: {}'.format(rfecv.n_features_))"
   ]
  },
  {
   "cell_type": "markdown",
   "metadata": {},
   "source": [
    "## show feature ranking"
   ]
  },
  {
   "cell_type": "code",
   "execution_count": 110,
   "metadata": {},
   "outputs": [
    {
     "name": "stdout",
     "output_type": "stream",
     "text": [
      "[1 1 1 1 2 1 1 1 1 1 1 1 1 1]\n"
     ]
    }
   ],
   "source": [
    "print(rfecv.ranking_)"
   ]
  },
  {
   "cell_type": "markdown",
   "metadata": {},
   "source": [
    "## plot of accuracy vs number of features"
   ]
  },
  {
   "cell_type": "code",
   "execution_count": 112,
   "metadata": {},
   "outputs": [
    {
     "data": {
      "image/png": "[encoded data removed]",
      "text/plain": [
       "<Figure size 1152x648 with 1 Axes>"
      ]
     },
     "metadata": {
      "needs_background": "light"
     },
     "output_type": "display_data"
    }
   ],
   "source": [
    "plt.figure(figsize=(16, 9))\n",
    "plt.title(\n",
    "    'Recursive Feature Elimination with Cross-Validation', \n",
    "    fontsize=18, fontweight='bold', pad=20\n",
    ")\n",
    "\n",
    "plt.xlabel('Number of features selected', fontsize=14, labelpad=20)\n",
    "plt.ylabel('% Correct Classification', fontsize=14, labelpad=20)\n",
    "\n",
    "plt.plot(\n",
    "    range(1, len(rfecv.grid_scores_) + 1), \n",
    "    rfecv.grid_scores_, color='#303F9F', linewidth=3\n",
    ")\n",
    "\n",
    "plt.show()"
   ]
  },
  {
   "cell_type": "markdown",
   "metadata": {},
   "source": [
    "## plot feature importance"
   ]
  },
  {
   "cell_type": "code",
   "execution_count": 111,
   "metadata": {},
   "outputs": [
    {
     "data": {
      "image/png": "[encoded data removed]",
      "text/plain": [
       "<Figure size 1152x1008 with 1 Axes>"
      ]
     },
     "metadata": {
      "needs_background": "light"
     },
     "output_type": "display_data"
    }
   ],
   "source": [
    "feature_importance_dataframe = pd.DataFrame()\n",
    "\n",
    "temp = no_fraud_column_dataframe.drop('D6', axis=1)\n",
    "feature_importance_dataframe['attr'] = temp.columns\n",
    "\n",
    "feature_importance_dataframe['importance'] = rfecv.estimator_.feature_importances_\n",
    "\n",
    "feature_importance_dataframe = feature_importance_dataframe.sort_values(\n",
    "    by='importance', ascending=False\n",
    ")\n",
    "\n",
    "\n",
    "plt.figure(figsize=(16, 14))\n",
    "plt.barh(\n",
    "    y=feature_importance_dataframe['attr'], \n",
    "    width=feature_importance_dataframe['importance'], \n",
    "    color='#1976D2'\n",
    ")\n",
    "\n",
    "plt.title('RFECV - Feature Importances', fontsize=20, fontweight='bold', pad=20)\n",
    "plt.xlabel('Importance', fontsize=14, labelpad=20)\n",
    "\n",
    "plt.show()"
   ]
  },
  {
   "cell_type": "markdown",
   "metadata": {},
   "source": [
    "- now its D8, D1 and D15"
   ]
  }
 ],
 "metadata": {
  "kernelspec": {
   "display_name": "Python 3.7.6 64-bit",
   "language": "python",
   "name": "python37664bit0656ffb61a14454b8758eedef206058e"
  },
  "language_info": {
   "codemirror_mode": {
    "name": "ipython",
    "version": 3
   },
   "file_extension": ".py",
   "mimetype": "text/x-python",
   "name": "python",
   "nbconvert_exporter": "python",
   "pygments_lexer": "ipython3",
   "version": "3.7.6"
  }
 },
 "nbformat": 4,
 "nbformat_minor": 2
}
