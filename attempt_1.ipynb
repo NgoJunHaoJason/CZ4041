{
 "cells": [
  {
   "cell_type": "markdown",
   "metadata": {},
   "source": [
    "# Feature Selection for D-features"
   ]
  },
  {
   "cell_type": "markdown",
   "metadata": {},
   "source": [
    "## import libraries"
   ]
  },
  {
   "cell_type": "code",
   "execution_count": 1,
   "metadata": {},
   "outputs": [],
   "source": [
    "import pandas as pd"
   ]
  },
  {
   "cell_type": "markdown",
   "metadata": {},
   "source": [
    "## load data"
   ]
  },
  {
   "cell_type": "code",
   "execution_count": 2,
   "metadata": {},
   "outputs": [
    {
     "data": {
      "text/html": [
       "<div>\n",
       "<style scoped>\n",
       "    .dataframe tbody tr th:only-of-type {\n",
       "        vertical-align: middle;\n",
       "    }\n",
       "\n",
       "    .dataframe tbody tr th {\n",
       "        vertical-align: top;\n",
       "    }\n",
       "\n",
       "    .dataframe thead th {\n",
       "        text-align: right;\n",
       "    }\n",
       "</style>\n",
       "<table border=\"1\" class=\"dataframe\">\n",
       "  <thead>\n",
       "    <tr style=\"text-align: right;\">\n",
       "      <th></th>\n",
       "      <th>Unnamed: 0</th>\n",
       "      <th>D1</th>\n",
       "      <th>D2</th>\n",
       "      <th>D3</th>\n",
       "      <th>D4</th>\n",
       "      <th>D5</th>\n",
       "      <th>D6</th>\n",
       "      <th>D7</th>\n",
       "      <th>D8</th>\n",
       "      <th>D9</th>\n",
       "      <th>D10</th>\n",
       "      <th>D11</th>\n",
       "      <th>D12</th>\n",
       "      <th>D13</th>\n",
       "      <th>D14</th>\n",
       "      <th>D15</th>\n",
       "      <th>isFraud</th>\n",
       "    </tr>\n",
       "  </thead>\n",
       "  <tbody>\n",
       "    <tr>\n",
       "      <th>0</th>\n",
       "      <td>0</td>\n",
       "      <td>14.0</td>\n",
       "      <td>NaN</td>\n",
       "      <td>13.0</td>\n",
       "      <td>NaN</td>\n",
       "      <td>NaN</td>\n",
       "      <td>NaN</td>\n",
       "      <td>NaN</td>\n",
       "      <td>NaN</td>\n",
       "      <td>NaN</td>\n",
       "      <td>13.0</td>\n",
       "      <td>13.0</td>\n",
       "      <td>NaN</td>\n",
       "      <td>NaN</td>\n",
       "      <td>NaN</td>\n",
       "      <td>0.0</td>\n",
       "      <td>0</td>\n",
       "    </tr>\n",
       "    <tr>\n",
       "      <th>1</th>\n",
       "      <td>1</td>\n",
       "      <td>0.0</td>\n",
       "      <td>NaN</td>\n",
       "      <td>NaN</td>\n",
       "      <td>0.0</td>\n",
       "      <td>NaN</td>\n",
       "      <td>NaN</td>\n",
       "      <td>NaN</td>\n",
       "      <td>NaN</td>\n",
       "      <td>NaN</td>\n",
       "      <td>0.0</td>\n",
       "      <td>NaN</td>\n",
       "      <td>NaN</td>\n",
       "      <td>NaN</td>\n",
       "      <td>NaN</td>\n",
       "      <td>0.0</td>\n",
       "      <td>0</td>\n",
       "    </tr>\n",
       "    <tr>\n",
       "      <th>2</th>\n",
       "      <td>2</td>\n",
       "      <td>0.0</td>\n",
       "      <td>NaN</td>\n",
       "      <td>NaN</td>\n",
       "      <td>0.0</td>\n",
       "      <td>NaN</td>\n",
       "      <td>NaN</td>\n",
       "      <td>NaN</td>\n",
       "      <td>NaN</td>\n",
       "      <td>NaN</td>\n",
       "      <td>0.0</td>\n",
       "      <td>315.0</td>\n",
       "      <td>NaN</td>\n",
       "      <td>NaN</td>\n",
       "      <td>NaN</td>\n",
       "      <td>315.0</td>\n",
       "      <td>0</td>\n",
       "    </tr>\n",
       "    <tr>\n",
       "      <th>3</th>\n",
       "      <td>3</td>\n",
       "      <td>112.0</td>\n",
       "      <td>112.0</td>\n",
       "      <td>0.0</td>\n",
       "      <td>94.0</td>\n",
       "      <td>0.0</td>\n",
       "      <td>NaN</td>\n",
       "      <td>NaN</td>\n",
       "      <td>NaN</td>\n",
       "      <td>NaN</td>\n",
       "      <td>84.0</td>\n",
       "      <td>NaN</td>\n",
       "      <td>NaN</td>\n",
       "      <td>NaN</td>\n",
       "      <td>NaN</td>\n",
       "      <td>111.0</td>\n",
       "      <td>0</td>\n",
       "    </tr>\n",
       "    <tr>\n",
       "      <th>4</th>\n",
       "      <td>4</td>\n",
       "      <td>0.0</td>\n",
       "      <td>NaN</td>\n",
       "      <td>NaN</td>\n",
       "      <td>NaN</td>\n",
       "      <td>NaN</td>\n",
       "      <td>NaN</td>\n",
       "      <td>NaN</td>\n",
       "      <td>NaN</td>\n",
       "      <td>NaN</td>\n",
       "      <td>NaN</td>\n",
       "      <td>NaN</td>\n",
       "      <td>NaN</td>\n",
       "      <td>NaN</td>\n",
       "      <td>NaN</td>\n",
       "      <td>NaN</td>\n",
       "      <td>0</td>\n",
       "    </tr>\n",
       "  </tbody>\n",
       "</table>\n",
       "</div>"
      ],
      "text/plain": [
       "   Unnamed: 0     D1     D2    D3    D4   D5  D6  D7  D8  D9   D10    D11  \\\n",
       "0           0   14.0    NaN  13.0   NaN  NaN NaN NaN NaN NaN  13.0   13.0   \n",
       "1           1    0.0    NaN   NaN   0.0  NaN NaN NaN NaN NaN   0.0    NaN   \n",
       "2           2    0.0    NaN   NaN   0.0  NaN NaN NaN NaN NaN   0.0  315.0   \n",
       "3           3  112.0  112.0   0.0  94.0  0.0 NaN NaN NaN NaN  84.0    NaN   \n",
       "4           4    0.0    NaN   NaN   NaN  NaN NaN NaN NaN NaN   NaN    NaN   \n",
       "\n",
       "   D12  D13  D14    D15  isFraud  \n",
       "0  NaN  NaN  NaN    0.0        0  \n",
       "1  NaN  NaN  NaN    0.0        0  \n",
       "2  NaN  NaN  NaN  315.0        0  \n",
       "3  NaN  NaN  NaN  111.0        0  \n",
       "4  NaN  NaN  NaN    NaN        0  "
      ]
     },
     "execution_count": 2,
     "metadata": {},
     "output_type": "execute_result"
    }
   ],
   "source": [
    "dataframe = pd.read_csv('data/all_D_features.csv')\n",
    "dataframe.head()"
   ]
  },
  {
   "cell_type": "markdown",
   "metadata": {},
   "source": [
    "## check percentage isFraud"
   ]
  },
  {
   "cell_type": "code",
   "execution_count": 3,
   "metadata": {},
   "outputs": [
    {
     "name": "stdout",
     "output_type": "stream",
     "text": [
      "number of frauds: 20663\n",
      "total number of data (transaction?): 590540\n",
      "percentage fraud: 3.499\n"
     ]
    }
   ],
   "source": [
    "is_fraud_data = dataframe['isFraud']\n",
    "num_frauds = is_fraud_data[is_fraud_data == 1].sum()\n",
    "total_num_data = len(is_fraud_data)\n",
    "\n",
    "print('number of frauds:', num_frauds)\n",
    "print('total number of data (transaction?):', total_num_data )\n",
    "print('percentage fraud: {:.3f}'.format(num_frauds / total_num_data  * 100))"
   ]
  },
  {
   "cell_type": "markdown",
   "metadata": {},
   "source": [
    "## check if NaN is related to isFraud for each column"
   ]
  },
  {
   "cell_type": "code",
   "execution_count": 4,
   "metadata": {},
   "outputs": [
    {
     "name": "stdout",
     "output_type": "stream",
     "text": [
      "13450\n",
      "number of NaNs for Unnamed: 0: 0\n",
      "percentage of NaNs for Unnamed: 0: 0.000\n",
      "number of NaN frauds: 0\n",
      "percentage of frauds that are from NaNs: 0.0\n",
      "percentage of total data that are from NaN frauds: 0.0\n",
      "\n",
      "number of NaNs for D1: 1269\n",
      "percentage of NaNs for D1: 0.215\n",
      "number of NaN frauds: 46\n",
      "percentage of frauds that are from NaNs: 0.22262014228330834\n",
      "percentage of total data that are from NaN frauds: 0.007789480814170082\n",
      "\n",
      "number of NaNs for D2: 280797\n",
      "percentage of NaNs for D2: 47.549\n",
      "number of NaN frauds: 12793\n",
      "percentage of frauds that are from NaNs: 61.91259739631225\n",
      "percentage of total data that are from NaN frauds: 2.166322349036475\n",
      "\n",
      "number of NaNs for D3: 262878\n",
      "percentage of NaNs for D3: 44.515\n",
      "number of NaN frauds: 11044\n",
      "percentage of frauds that are from NaNs: 53.44819242123603\n",
      "percentage of total data that are from NaN frauds: 1.8701527415585735\n",
      "\n",
      "number of NaNs for D4: 168922\n",
      "percentage of NaNs for D4: 28.605\n",
      "number of NaN frauds: 6096\n",
      "percentage of frauds that are from NaNs: 29.502008420848856\n",
      "percentage of total data that are from NaN frauds: 1.0322755444169742\n",
      "\n",
      "number of NaNs for D5: 309841\n",
      "percentage of NaNs for D5: 52.467\n",
      "number of NaN frauds: 9783\n",
      "percentage of frauds that are from NaNs: 47.345496781687075\n",
      "percentage of total data that are from NaN frauds: 1.6566193653266503\n",
      "\n",
      "number of NaNs for D6: 517353\n",
      "percentage of NaNs for D6: 87.607\n",
      "number of NaN frauds: 12945\n",
      "percentage of frauds that are from NaNs: 62.64821177950927\n",
      "percentage of total data that are from NaN frauds: 2.192061503031124\n",
      "\n",
      "number of NaNs for D7: 551623\n",
      "percentage of NaNs for D7: 93.410\n",
      "number of NaN frauds: 14873\n",
      "percentage of frauds that are from NaNs: 71.9788994821662\n",
      "percentage of total data that are from NaN frauds: 2.5185423510685134\n",
      "\n",
      "number of NaNs for D8: 515614\n",
      "percentage of NaNs for D8: 87.312\n",
      "number of NaN frauds: 12836\n",
      "percentage of frauds that are from NaNs: 62.120698833664036\n",
      "percentage of total data that are from NaN frauds: 2.1736038202323296\n",
      "\n",
      "number of NaNs for D9: 515614\n",
      "percentage of NaNs for D9: 87.312\n",
      "number of NaN frauds: 12836\n",
      "percentage of frauds that are from NaNs: 62.120698833664036\n",
      "percentage of total data that are from NaN frauds: 2.1736038202323296\n",
      "\n",
      "number of NaNs for D10: 76022\n",
      "percentage of NaNs for D10: 12.873\n",
      "number of NaN frauds: 3886\n",
      "percentage of frauds that are from NaNs: 18.80656245462905\n",
      "percentage of total data that are from NaN frauds: 0.6580417922579334\n",
      "\n",
      "number of NaNs for D11: 279287\n",
      "percentage of NaNs for D11: 47.293\n",
      "number of NaN frauds: 14557\n",
      "percentage of frauds that are from NaNs: 70.44959589604606\n",
      "percentage of total data that are from NaN frauds: 2.4650320046059537\n",
      "\n",
      "number of NaNs for D12: 525823\n",
      "percentage of NaNs for D12: 89.041\n",
      "number of NaN frauds: 13065\n",
      "percentage of frauds that are from NaNs: 63.22895997677007\n",
      "percentage of total data that are from NaN frauds: 2.212381887763742\n",
      "\n",
      "number of NaNs for D13: 528588\n",
      "percentage of NaNs for D13: 89.509\n",
      "number of NaN frauds: 13826\n",
      "percentage of frauds that are from NaNs: 66.91187146106567\n",
      "percentage of total data that are from NaN frauds: 2.341246994276425\n",
      "\n",
      "number of NaNs for D14: 528353\n",
      "percentage of NaNs for D14: 89.469\n",
      "number of NaN frauds: 13450\n",
      "percentage of frauds that are from NaNs: 65.09219377631516\n",
      "percentage of total data that are from NaN frauds: 2.2775764554475564\n",
      "\n",
      "number of NaNs for D15: 89113\n",
      "percentage of NaNs for D15: 15.090\n",
      "number of NaN frauds: 4276\n",
      "percentage of frauds that are from NaNs: 20.693994095726662\n",
      "percentage of total data that are from NaN frauds: 0.7240830426389406\n",
      "\n",
      "number of NaNs for isFraud: 0\n",
      "percentage of NaNs for isFraud: 0.000\n",
      "number of NaN frauds: 0\n",
      "percentage of frauds that are from NaNs: 0.0\n",
      "percentage of total data that are from NaN frauds: 0.0\n",
      "\n"
     ]
    }
   ],
   "source": [
    "print(dataframe.loc[dataframe['D14'].isna(), 'isFraud'].sum())\n",
    "\n",
    "for column in dataframe.columns:\n",
    "    num_nans = dataframe[column].isna().sum()\n",
    "    num_nan_frauds = dataframe.loc[dataframe[column].isna(), 'isFraud'].sum()\n",
    "\n",
    "    print(f'number of NaNs for {column}: {num_nans}')\n",
    "    print('percentage of NaNs for {}: {:.3f}'.format(column, num_nans / total_num_data * 100))\n",
    "    print(f'number of NaN frauds: {num_nan_frauds}')\n",
    "    print(f'percentage of frauds that are from NaNs: {num_nan_frauds / num_frauds * 100}')\n",
    "    print(f'percentage of total data that are from NaN frauds: {num_nan_frauds / total_num_data * 100}')\n",
    "    print()"
   ]
  },
  {
   "cell_type": "markdown",
   "metadata": {},
   "source": [
    "## find max and min values for each column (feature)"
   ]
  },
  {
   "cell_type": "code",
   "execution_count": 5,
   "metadata": {},
   "outputs": [
    {
     "name": "stdout",
     "output_type": "stream",
     "text": [
      "for column Unnamed: 0\n",
      "max value: 590539\n",
      "min value: 0\n",
      "\n",
      "for column D1\n",
      "max value: 640.0\n",
      "min value: 0.0\n",
      "\n",
      "for column D2\n",
      "max value: 640.0\n",
      "min value: 0.0\n",
      "\n",
      "for column D3\n",
      "max value: 819.0\n",
      "min value: 0.0\n",
      "\n",
      "for column D4\n",
      "max value: 869.0\n",
      "min value: -122.0\n",
      "\n",
      "for column D5\n",
      "max value: 819.0\n",
      "min value: 0.0\n",
      "\n",
      "for column D6\n",
      "max value: 873.0\n",
      "min value: -83.0\n",
      "\n",
      "for column D7\n",
      "max value: 843.0\n",
      "min value: 0.0\n",
      "\n",
      "for column D8\n",
      "max value: 1707.7916259765625\n",
      "min value: 0.0\n",
      "\n",
      "for column D9\n",
      "max value: 0.9583330154418944\n",
      "min value: 0.0\n",
      "\n",
      "for column D10\n",
      "max value: 876.0\n",
      "min value: 0.0\n",
      "\n",
      "for column D11\n",
      "max value: 670.0\n",
      "min value: -53.0\n",
      "\n",
      "for column D12\n",
      "max value: 648.0\n",
      "min value: -83.0\n",
      "\n",
      "for column D13\n",
      "max value: 847.0\n",
      "min value: 0.0\n",
      "\n",
      "for column D14\n",
      "max value: 878.0\n",
      "min value: -193.0\n",
      "\n",
      "for column D15\n",
      "max value: 879.0\n",
      "min value: -83.0\n",
      "\n",
      "for column isFraud\n",
      "max value: 1\n",
      "min value: 0\n",
      "\n"
     ]
    }
   ],
   "source": [
    "for column in dataframe.columns:\n",
    "    print('for column', column)\n",
    "    print('max value:', dataframe[column].max())\n",
    "    print('min value:', dataframe[column].min())\n",
    "    print()"
   ]
  },
  {
   "cell_type": "markdown",
   "metadata": {},
   "source": [
    "## reduce NaN\n",
    "\n",
    "- first glance of data shows that a lot of columns have a lot of NaN\n",
    "- gonna start by removing columns with more than 50% NaN"
   ]
  },
  {
   "cell_type": "code",
   "execution_count": 6,
   "metadata": {},
   "outputs": [
    {
     "data": {
      "text/html": [
       "<div>\n",
       "<style scoped>\n",
       "    .dataframe tbody tr th:only-of-type {\n",
       "        vertical-align: middle;\n",
       "    }\n",
       "\n",
       "    .dataframe tbody tr th {\n",
       "        vertical-align: top;\n",
       "    }\n",
       "\n",
       "    .dataframe thead th {\n",
       "        text-align: right;\n",
       "    }\n",
       "</style>\n",
       "<table border=\"1\" class=\"dataframe\">\n",
       "  <thead>\n",
       "    <tr style=\"text-align: right;\">\n",
       "      <th></th>\n",
       "      <th>Unnamed: 0</th>\n",
       "      <th>D1</th>\n",
       "      <th>D4</th>\n",
       "      <th>D10</th>\n",
       "      <th>D15</th>\n",
       "      <th>isFraud</th>\n",
       "    </tr>\n",
       "  </thead>\n",
       "  <tbody>\n",
       "    <tr>\n",
       "      <th>0</th>\n",
       "      <td>0</td>\n",
       "      <td>14.0</td>\n",
       "      <td>NaN</td>\n",
       "      <td>13.0</td>\n",
       "      <td>0.0</td>\n",
       "      <td>0</td>\n",
       "    </tr>\n",
       "    <tr>\n",
       "      <th>1</th>\n",
       "      <td>1</td>\n",
       "      <td>0.0</td>\n",
       "      <td>0.0</td>\n",
       "      <td>0.0</td>\n",
       "      <td>0.0</td>\n",
       "      <td>0</td>\n",
       "    </tr>\n",
       "    <tr>\n",
       "      <th>2</th>\n",
       "      <td>2</td>\n",
       "      <td>0.0</td>\n",
       "      <td>0.0</td>\n",
       "      <td>0.0</td>\n",
       "      <td>315.0</td>\n",
       "      <td>0</td>\n",
       "    </tr>\n",
       "    <tr>\n",
       "      <th>3</th>\n",
       "      <td>3</td>\n",
       "      <td>112.0</td>\n",
       "      <td>94.0</td>\n",
       "      <td>84.0</td>\n",
       "      <td>111.0</td>\n",
       "      <td>0</td>\n",
       "    </tr>\n",
       "    <tr>\n",
       "      <th>4</th>\n",
       "      <td>4</td>\n",
       "      <td>0.0</td>\n",
       "      <td>NaN</td>\n",
       "      <td>NaN</td>\n",
       "      <td>NaN</td>\n",
       "      <td>0</td>\n",
       "    </tr>\n",
       "  </tbody>\n",
       "</table>\n",
       "</div>"
      ],
      "text/plain": [
       "   Unnamed: 0     D1    D4   D10    D15  isFraud\n",
       "0           0   14.0   NaN  13.0    0.0        0\n",
       "1           1    0.0   0.0   0.0    0.0        0\n",
       "2           2    0.0   0.0   0.0  315.0        0\n",
       "3           3  112.0  94.0  84.0  111.0        0\n",
       "4           4    0.0   NaN   NaN    NaN        0"
      ]
     },
     "execution_count": 6,
     "metadata": {},
     "output_type": "execute_result"
    }
   ],
   "source": [
    "less_nan_dataframe = dataframe.loc[:, dataframe.isna().mean() < 0.3]\n",
    "less_nan_dataframe.head()"
   ]
  },
  {
   "cell_type": "code",
   "execution_count": 7,
   "metadata": {},
   "outputs": [
    {
     "name": "stdout",
     "output_type": "stream",
     "text": [
      "Unnamed: 0     0.000000\n",
      "D1             0.214888\n",
      "D4            28.604667\n",
      "D10           12.873302\n",
      "D15           15.090087\n",
      "isFraud        0.000000\n",
      "dtype: float64\n"
     ]
    }
   ],
   "source": [
    "print(less_nan_dataframe.isna().mean() * 100)"
   ]
  },
  {
   "cell_type": "markdown",
   "metadata": {},
   "source": [
    "## read up on Kenneth's resources - abandoning previous attempts"
   ]
  },
  {
   "cell_type": "markdown",
   "metadata": {},
   "source": [
    "## check for feature correlation"
   ]
  },
  {
   "cell_type": "code",
   "execution_count": 8,
   "metadata": {},
   "outputs": [
    {
     "name": "stdout",
     "output_type": "stream",
     "text": [
      "{'D2', 'D6', 'D12', 'D7'}\n"
     ]
    }
   ],
   "source": [
    "# reference: \n",
    "# https://gist.github.com/dradecic/f8d32045aa886756f59adc1ca50eabd1\n",
    "\n",
    "correlated_features = set()\n",
    "correlation_matrix = dataframe.drop('isFraud', axis=1).corr()\n",
    "\n",
    "for i in range(len(correlation_matrix.columns)):\n",
    "    for j in range(i):\n",
    "        if abs(correlation_matrix.iloc[i, j]) > 0.8:\n",
    "            colname = correlation_matrix.columns[i]\n",
    "            correlated_features.add(colname)\n",
    "\n",
    "print(correlated_features)"
   ]
  },
  {
   "cell_type": "markdown",
   "metadata": {},
   "source": [
    "## drop correlated features"
   ]
  },
  {
   "cell_type": "code",
   "execution_count": 9,
   "metadata": {},
   "outputs": [
    {
     "data": {
      "text/html": [
       "<div>\n",
       "<style scoped>\n",
       "    .dataframe tbody tr th:only-of-type {\n",
       "        vertical-align: middle;\n",
       "    }\n",
       "\n",
       "    .dataframe tbody tr th {\n",
       "        vertical-align: top;\n",
       "    }\n",
       "\n",
       "    .dataframe thead th {\n",
       "        text-align: right;\n",
       "    }\n",
       "</style>\n",
       "<table border=\"1\" class=\"dataframe\">\n",
       "  <thead>\n",
       "    <tr style=\"text-align: right;\">\n",
       "      <th></th>\n",
       "      <th>Unnamed: 0</th>\n",
       "      <th>D1</th>\n",
       "      <th>D3</th>\n",
       "      <th>D4</th>\n",
       "      <th>D5</th>\n",
       "      <th>D8</th>\n",
       "      <th>D9</th>\n",
       "      <th>D10</th>\n",
       "      <th>D11</th>\n",
       "      <th>D13</th>\n",
       "      <th>D14</th>\n",
       "      <th>D15</th>\n",
       "      <th>isFraud</th>\n",
       "    </tr>\n",
       "  </thead>\n",
       "  <tbody>\n",
       "    <tr>\n",
       "      <th>0</th>\n",
       "      <td>0</td>\n",
       "      <td>14.0</td>\n",
       "      <td>13.0</td>\n",
       "      <td>NaN</td>\n",
       "      <td>NaN</td>\n",
       "      <td>NaN</td>\n",
       "      <td>NaN</td>\n",
       "      <td>13.0</td>\n",
       "      <td>13.0</td>\n",
       "      <td>NaN</td>\n",
       "      <td>NaN</td>\n",
       "      <td>0.0</td>\n",
       "      <td>0</td>\n",
       "    </tr>\n",
       "    <tr>\n",
       "      <th>1</th>\n",
       "      <td>1</td>\n",
       "      <td>0.0</td>\n",
       "      <td>NaN</td>\n",
       "      <td>0.0</td>\n",
       "      <td>NaN</td>\n",
       "      <td>NaN</td>\n",
       "      <td>NaN</td>\n",
       "      <td>0.0</td>\n",
       "      <td>NaN</td>\n",
       "      <td>NaN</td>\n",
       "      <td>NaN</td>\n",
       "      <td>0.0</td>\n",
       "      <td>0</td>\n",
       "    </tr>\n",
       "    <tr>\n",
       "      <th>2</th>\n",
       "      <td>2</td>\n",
       "      <td>0.0</td>\n",
       "      <td>NaN</td>\n",
       "      <td>0.0</td>\n",
       "      <td>NaN</td>\n",
       "      <td>NaN</td>\n",
       "      <td>NaN</td>\n",
       "      <td>0.0</td>\n",
       "      <td>315.0</td>\n",
       "      <td>NaN</td>\n",
       "      <td>NaN</td>\n",
       "      <td>315.0</td>\n",
       "      <td>0</td>\n",
       "    </tr>\n",
       "    <tr>\n",
       "      <th>3</th>\n",
       "      <td>3</td>\n",
       "      <td>112.0</td>\n",
       "      <td>0.0</td>\n",
       "      <td>94.0</td>\n",
       "      <td>0.0</td>\n",
       "      <td>NaN</td>\n",
       "      <td>NaN</td>\n",
       "      <td>84.0</td>\n",
       "      <td>NaN</td>\n",
       "      <td>NaN</td>\n",
       "      <td>NaN</td>\n",
       "      <td>111.0</td>\n",
       "      <td>0</td>\n",
       "    </tr>\n",
       "    <tr>\n",
       "      <th>4</th>\n",
       "      <td>4</td>\n",
       "      <td>0.0</td>\n",
       "      <td>NaN</td>\n",
       "      <td>NaN</td>\n",
       "      <td>NaN</td>\n",
       "      <td>NaN</td>\n",
       "      <td>NaN</td>\n",
       "      <td>NaN</td>\n",
       "      <td>NaN</td>\n",
       "      <td>NaN</td>\n",
       "      <td>NaN</td>\n",
       "      <td>NaN</td>\n",
       "      <td>0</td>\n",
       "    </tr>\n",
       "  </tbody>\n",
       "</table>\n",
       "</div>"
      ],
      "text/plain": [
       "   Unnamed: 0     D1    D3    D4   D5  D8  D9   D10    D11  D13  D14    D15  \\\n",
       "0           0   14.0  13.0   NaN  NaN NaN NaN  13.0   13.0  NaN  NaN    0.0   \n",
       "1           1    0.0   NaN   0.0  NaN NaN NaN   0.0    NaN  NaN  NaN    0.0   \n",
       "2           2    0.0   NaN   0.0  NaN NaN NaN   0.0  315.0  NaN  NaN  315.0   \n",
       "3           3  112.0   0.0  94.0  0.0 NaN NaN  84.0    NaN  NaN  NaN  111.0   \n",
       "4           4    0.0   NaN   NaN  NaN NaN NaN   NaN    NaN  NaN  NaN    NaN   \n",
       "\n",
       "   isFraud  \n",
       "0        0  \n",
       "1        0  \n",
       "2        0  \n",
       "3        0  \n",
       "4        0  "
      ]
     },
     "execution_count": 9,
     "metadata": {},
     "output_type": "execute_result"
    }
   ],
   "source": [
    "no_correlated_dataframe = dataframe.drop(correlated_features, axis=1)\n",
    "\n",
    "no_correlated_dataframe.head()"
   ]
  },
  {
   "cell_type": "markdown",
   "metadata": {},
   "source": [
    "## import classes required for RFE"
   ]
  },
  {
   "cell_type": "code",
   "execution_count": 13,
   "metadata": {},
   "outputs": [],
   "source": [
    "from sklearn.feature_selection import RFECV\n",
    "from sklearn.ensemble import RandomForestClassifier\n",
    "# from sklearn.model_selection import StratifiedKFold"
   ]
  },
  {
   "cell_type": "markdown",
   "metadata": {},
   "source": [
    "## do recursive feature elimination"
   ]
  },
  {
   "cell_type": "code",
   "execution_count": 15,
   "metadata": {},
   "outputs": [
    {
     "name": "stdout",
     "output_type": "stream",
     "text": [
      "Optimal number of features: 12\n",
      "CPU times: user 4min 9s, sys: 344 ms, total: 4min 10s\n",
      "Wall time: 47min 14s\n"
     ]
    }
   ],
   "source": [
    "%%time\n",
    "\n",
    "no_is_fraud_dataframe = no_correlated_dataframe.drop('isFraud', axis=1)\n",
    "\n",
    "# replace NaN with mean\n",
    "no_is_fraud_dataframe.fillna(no_is_fraud_dataframe.mean(), inplace=True)\n",
    "\n",
    "rfc = RandomForestClassifier()\n",
    "rfecv = RFECV(rfc, scoring='accuracy', n_jobs=4, verbose=1)\n",
    "\n",
    "rfecv.fit(no_is_fraud_dataframe, is_fraud_data)\n",
    "\n",
    "print('Optimal number of features: {}'.format(rfecv.n_features_))"
   ]
  },
  {
   "cell_type": "markdown",
   "metadata": {},
   "source": [
    "## plot of accuracy vs number of features"
   ]
  },
  {
   "cell_type": "code",
   "execution_count": 17,
   "metadata": {},
   "outputs": [],
   "source": [
    "import matplotlib.pyplot as plt"
   ]
  },
  {
   "cell_type": "code",
   "execution_count": 18,
   "metadata": {},
   "outputs": [
    {
     "data": {
      "image/png": "[encoded data removed]",
      "text/plain": [
       "<Figure size 1152x648 with 1 Axes>"
      ]
     },
     "metadata": {
      "needs_background": "light"
     },
     "output_type": "display_data"
    }
   ],
   "source": [
    "plt.figure(figsize=(16, 9))\n",
    "plt.title('Recursive Feature Elimination with Cross-Validation', fontsize=18, fontweight='bold', pad=20)\n",
    "plt.xlabel('Number of features selected', fontsize=14, labelpad=20)\n",
    "plt.ylabel('% Correct Classification', fontsize=14, labelpad=20)\n",
    "plt.plot(range(1, len(rfecv.grid_scores_) + 1), rfecv.grid_scores_, color='#303F9F', linewidth=3)\n",
    "\n",
    "plt.show()"
   ]
  },
  {
   "cell_type": "markdown",
   "metadata": {},
   "source": [
    "## plot feature importance"
   ]
  },
  {
   "cell_type": "code",
   "execution_count": 20,
   "metadata": {},
   "outputs": [
    {
     "data": {
      "image/png": "[encoded data removed]",
      "text/plain": [
       "<Figure size 1152x1008 with 1 Axes>"
      ]
     },
     "metadata": {
      "needs_background": "light"
     },
     "output_type": "display_data"
    }
   ],
   "source": [
    "dset = pd.DataFrame()\n",
    "dset['attr'] = no_is_fraud_dataframe.columns\n",
    "dset['importance'] = rfecv.estimator_.feature_importances_\n",
    "\n",
    "dset = dset.sort_values(by='importance', ascending=False)\n",
    "\n",
    "\n",
    "plt.figure(figsize=(16, 14))\n",
    "plt.barh(y=dset['attr'], width=dset['importance'], color='#1976D2')\n",
    "plt.title('RFECV - Feature Importances', fontsize=20, fontweight='bold', pad=20)\n",
    "plt.xlabel('Importance', fontsize=14, labelpad=20)\n",
    "plt.show()"
   ]
  },
  {
   "cell_type": "markdown",
   "metadata": {},
   "source": [
    "## TODO: redo RFE without unnamed: 0"
   ]
  }
 ],
 "metadata": {
  "file_extension": ".py",
  "kernelspec": {
   "display_name": "Python 3.7.6 64-bit",
   "language": "python",
   "name": "python37664bit0656ffb61a14454b8758eedef206058e"
  },
  "language_info": {
   "codemirror_mode": {
    "name": "ipython",
    "version": 3
   },
   "file_extension": ".py",
   "mimetype": "text/x-python",
   "name": "python",
   "nbconvert_exporter": "python",
   "pygments_lexer": "ipython3",
   "version": "3.7.6"
  },
  "mimetype": "text/x-python",
  "name": "python",
  "npconvert_exporter": "python",
  "pygments_lexer": "ipython3",
  "version": 3
 },
 "nbformat": 4,
 "nbformat_minor": 2
}
