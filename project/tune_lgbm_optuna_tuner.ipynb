{
 "cells": [
  {
   "cell_type": "markdown",
   "metadata": {},
   "source": [
    "# do hyperparameter tuning \n",
    "\n",
    "- for Light Gradient Boosting Machine\n",
    "- [reference](https://medium.com/optuna/lightgbm-tuner-new-optuna-integration-for-hyperparameter-optimization-8b7095e99258)"
   ]
  },
  {
   "cell_type": "markdown",
   "metadata": {},
   "source": [
    "## import libraries"
   ]
  },
  {
   "cell_type": "code",
   "execution_count": 1,
   "metadata": {},
   "outputs": [],
   "source": [
    "import hyperopt\n",
    "import joblib\n",
    "import multiprocessing\n",
    "import os\n",
    "\n",
    "import optuna.integration.lightgbm as lgb\n",
    "import numpy as np\n",
    "import pandas as pd\n",
    "\n",
    "from sklearn.metrics import roc_auc_score\n",
    "from sklearn.model_selection import train_test_split\n",
    "from sklearn.preprocessing import LabelEncoder"
   ]
  },
  {
   "cell_type": "markdown",
   "metadata": {},
   "source": [
    "## define paths"
   ]
  },
  {
   "cell_type": "code",
   "execution_count": 2,
   "metadata": {},
   "outputs": [],
   "source": [
    "os.makedirs('models', exist_ok=True)\n",
    "os.makedirs('output', exist_ok=True)\n",
    "\n",
    "model_dir_path = 'models/lgbm/'\n",
    "output_dir_path = 'output/lgbm/'\n",
    "\n",
    "train_transaction_data_path = 'data/train_transaction.csv'\n",
    "train_identity_data_path = 'data/train_identity.csv'\n",
    "test_transaction_data_path = 'data/test_transaction.csv'\n",
    "test_identity_data_path = 'data/test_identity.csv'"
   ]
  },
  {
   "cell_type": "markdown",
   "metadata": {},
   "source": [
    "## define utility function to reduce memory usage"
   ]
  },
  {
   "cell_type": "code",
   "execution_count": 3,
   "metadata": {},
   "outputs": [],
   "source": [
    "def reduce_mem_usage(df, verbose=True):\n",
    "    \"\"\"\n",
    "    Reduce dataframe size\n",
    "\n",
    "    params:\n",
    "    - df: dataframe to reduce the size of\n",
    "\n",
    "    return:\n",
    "    - dataframe of reduced size\n",
    "    \"\"\"\n",
    "    numerics = ['int16', 'int32', 'int64', 'float16', 'float32', 'float64', 'float128']\n",
    "    start_mem = df.memory_usage().sum() / 1024**2    \n",
    "\n",
    "    for col in df.columns:\n",
    "        col_type = df[col].dtypes\n",
    "\n",
    "        if col_type in numerics:\n",
    "            c_min = df[col].min()\n",
    "            c_max = df[col].max()\n",
    "\n",
    "            if str(col_type)[:3] == 'int':\n",
    "                if c_min > np.iinfo(np.int8).min and c_max < np.iinfo(np.int8).max:\n",
    "                    df[col] = df[col].astype(np.int8)\n",
    "                elif c_min > np.iinfo(np.int16).min and c_max < np.iinfo(np.int16).max:\n",
    "                    df[col] = df[col].astype(np.int16)\n",
    "                elif c_min > np.iinfo(np.int32).min and c_max < np.iinfo(np.int32).max:\n",
    "                    df[col] = df[col].astype(np.int32)\n",
    "                elif c_min > np.iinfo(np.int64).min and c_max < np.iinfo(np.int64).max:\n",
    "                    df[col] = df[col].astype(np.int64)\n",
    "            else:\n",
    "                if c_min > np.finfo(np.float16).min and c_max < np.finfo(np.float16).max:\n",
    "                    df[col] = df[col].astype(np.float16)\n",
    "                elif c_min > np.finfo(np.float32).min and c_max < np.finfo(np.float32).max:\n",
    "                    df[col] = df[col].astype(np.float32)\n",
    "                elif c_min > np.finfo(np.float64).min and c_max < np.finfo(np.float64).max:\n",
    "                    df[col] = df[col].astype(np.float64)\n",
    "                elif c_min > np.finfo(np.float128).min and c_max < np.finfo(np.float128).max:\n",
    "                    df[col] = df[col].astype(np.float128)\n",
    "                    \n",
    "    end_mem = df.memory_usage().sum() / 1024**2\n",
    "\n",
    "    if verbose: \n",
    "        print(\n",
    "            'Mem. usage decreased to {:5.2f} Mb ({:.1f}% reduction)'.format(\n",
    "            end_mem, 100 * (start_mem - end_mem) / start_mem\n",
    "        ))\n",
    "\n",
    "    return df"
   ]
  },
  {
   "cell_type": "markdown",
   "metadata": {},
   "source": [
    "## list down useless features (known from feature selection)"
   ]
  },
  {
   "cell_type": "code",
   "execution_count": 4,
   "metadata": {},
   "outputs": [],
   "source": [
    "useless_features = [\n",
    "    'TransactionID',  # not really a feature\n",
    "    'dist2',  # transaction features\n",
    "    'C3',  # C features\n",
    "    'D6', 'D7', 'D8', 'D9', 'D12', 'D13', 'D14',  # D features\n",
    "    'M1',  # M features\n",
    "    'id_07', 'id_08', 'id_18', 'id_21', 'id_22', 'id_23',  # id features\n",
    "    'id_24', 'id_25', 'id_26', 'id_27', 'id_28', 'id_35',  # id features\n",
    "    'V6', 'V8', 'V9', 'V10', 'V11', 'V14', 'V15', 'V16',  # V features\n",
    "    'V18', 'V21', 'V22', 'V27', 'V28', 'V31', 'V32',  # V features\n",
    "    'V41', 'V42', 'V46', 'V50', 'V51', 'V59', 'V65',  # V features\n",
    "    'V68', 'V71', 'V72', 'V79', 'V80', 'V84', 'V85',  # V features\n",
    "    'V88', 'V89', 'V92', 'V93', 'V95', 'V98', 'V101',  # V features\n",
    "    'V104', 'V106', 'V107', 'V108', 'V109', 'V110',  # V features\n",
    "    'V111', 'V112', 'V113', 'V114', 'V116', 'V117',  # V features\n",
    "    'V118', 'V119', 'V120', 'V121', 'V122', 'V123',  # V features \n",
    "    'V125', 'V138', 'V141', 'V142', 'V144', 'V146',  # V features \n",
    "    'V147', 'V148', 'V151', 'V153', 'V154', 'V155',  # V features \n",
    "    'V157', 'V158', 'V159', 'V161', 'V163', 'V164',  # V features \n",
    "    'V166', 'V172', 'V173', 'V174', 'V175', 'V176',  # V features \n",
    "    'V177', 'V178', 'V179', 'V180', 'V181', 'V182',  # V features  \n",
    "    'V183', 'V184', 'V185', 'V186', 'V190', 'V191',  # V features  \n",
    "    'V192', 'V193', 'V194', 'V195', 'V196', 'V197',  # V features  \n",
    "    'V198', 'V199', 'V214', 'V216', 'V220', 'V225',  # V features \n",
    "    'V226', 'V227', 'V230', 'V233', 'V235', 'V236',  # V features  \n",
    "    'V237', 'V238', 'V239', 'V240', 'V241', 'V242',  # V features \n",
    "    'V244', 'V246', 'V247', 'V248', 'V249', 'V250',  # V features \n",
    "    'V252', 'V254', 'V255', 'V269', 'V276', 'V297',  # V features \n",
    "    'V300', 'V302', 'V304', 'V305', 'V325', 'V327',  # V features  \n",
    "    'V328', 'V329', 'V330', 'V334', 'V335', 'V336',  # V features \n",
    "    'V337', 'V338', 'V339',  # V features \n",
    "]\n",
    ""
   ]
  },
  {
   "cell_type": "markdown",
   "metadata": {},
   "source": [
    "## define function to disregard OS versions"
   ]
  },
  {
   "cell_type": "code",
   "execution_count": 5,
   "metadata": {},
   "outputs": [],
   "source": [
    "def ignore_os_version(df, verbose: bool=True):\n",
    "    \"\"\"\n",
    "    params:\n",
    "    - df (DataFrame): has id_30 as one of its columns\n",
    "    - verbose (bool): prints information if True\n",
    "\n",
    "    return: dataframe, after os versions have been ignored\n",
    "    \"\"\"\n",
    "    os_list = [\n",
    "        'Android',\n",
    "        'iOS',\n",
    "        'Mac OS X',\n",
    "        'Windows',\n",
    "    ]\n",
    "\n",
    "    for index, operating_system in df.id_30.iteritems():\n",
    "        new_os = 'other'\n",
    "\n",
    "        if isinstance(operating_system, str):\n",
    "            for known_os in os_list:\n",
    "                if known_os in operating_system:\n",
    "                    new_os = known_os\n",
    "                    break\n",
    "\n",
    "        df.at[index, 'id_30'] = new_os\n",
    "\n",
    "    if verbose:\n",
    "        print('operating systems:', df.id_30.unique())\n",
    "\n",
    "    return df"
   ]
  },
  {
   "cell_type": "markdown",
   "metadata": {},
   "source": [
    "## define function to disregard browser versions"
   ]
  },
  {
   "cell_type": "code",
   "execution_count": 6,
   "metadata": {},
   "outputs": [],
   "source": [
    "def ignore_browser_version(df, verbose: bool=True):\n",
    "    \"\"\"\n",
    "    params:\n",
    "    - df (DataFrame): has id_31 as one of its columns\n",
    "    - verbose (bool): prints information if True\n",
    "\n",
    "    return: dataframe, after browser versions have been ignored\n",
    "    \"\"\"\n",
    "    browser_list = [\n",
    "        'aol',\n",
    "        'chrome',\n",
    "        'chromium',\n",
    "        'comodo',\n",
    "        'cyberfox',\n",
    "        'edge',\n",
    "        'firefox',\n",
    "        'icedragon',\n",
    "        'ie',\n",
    "        'iron',\n",
    "        'maxthon',\n",
    "        'opera',\n",
    "        'palemoon',\n",
    "        'puffin',\n",
    "        'safari',\n",
    "        'samsung',\n",
    "        'seamonkey',\n",
    "        'silk',\n",
    "        'waterfox',\n",
    "    ]\n",
    "\n",
    "    for index, browser in df.id_31.iteritems():\n",
    "        new_browser = 'other'\n",
    "\n",
    "        if isinstance(browser, str):\n",
    "            for known_browser in browser_list:\n",
    "                if known_browser in browser:\n",
    "                    new_browser = known_browser\n",
    "                    break\n",
    "\n",
    "        df.at[index, 'id_31'] = new_browser\n",
    "\n",
    "    if verbose:\n",
    "        print('browsers:', df.id_31.unique())\n",
    "\n",
    "    return df"
   ]
  },
  {
   "cell_type": "markdown",
   "metadata": {},
   "source": [
    "## define function for preprocessing data"
   ]
  },
  {
   "cell_type": "code",
   "execution_count": 7,
   "metadata": {},
   "outputs": [],
   "source": [
    "def preprocess(df, verbose: bool=True):\n",
    "    \"\"\"\n",
    "    Does the following preprocessing steps:\n",
    "    - disregard os versions\n",
    "    - disregard browser versions\n",
    "    - drop useless features\n",
    "    - convert object columns to string columns\n",
    "    - imputation (for numbers, fill with interquartile mean)\n",
    "    - do label encoding for non-numeric values\n",
    "    - reduce memory usage again\n",
    "\n",
    "    params:   \n",
    "    - df (DataFrame): dataframe to preprocess (has columns id_30 and id_31)\n",
    "    - verbose (bool): prints information if True\n",
    "\n",
    "    return: dataframe, preprocessing is complete\n",
    "    \"\"\"\n",
    "    df = df.drop(useless_features, axis=1)\n",
    "    df = ignore_os_version(df, verbose)\n",
    "    df = ignore_browser_version(df, verbose)\n",
    "\n",
    "    le = LabelEncoder()\n",
    "\n",
    "    for column in df.columns:\n",
    "        if df[column].dtype == 'object':\n",
    "            df[column]= df[column].astype(str)\n",
    "            df[column] = le.fit_transform(df[column])\n",
    "        else:\n",
    "            df[column] = df[column].fillna(df[column].quantile().mean())\n",
    "\n",
    "    df = reduce_mem_usage(df, verbose)\n",
    "\n",
    "    return df"
   ]
  },
  {
   "cell_type": "markdown",
   "metadata": {},
   "source": [
    "## load and preprocess training data"
   ]
  },
  {
   "cell_type": "code",
   "execution_count": 9,
   "metadata": {},
   "outputs": [
    {
     "output_type": "stream",
     "name": "stdout",
     "text": "Mem. usage decreased to 542.35 Mb (69.4% reduction)\nMem. usage decreased to 25.86 Mb (42.7% reduction)\nnumber of rows in training data: 590540\noperating systems:['other' 'Android' 'iOS' 'Mac OS X' 'Windows']\nbrowsers:['other' 'samsung' 'safari' 'chrome' 'edge' 'firefox' 'ie' 'opera' 'aol'\n 'silk' 'waterfox' 'puffin' 'cyberfox' 'palemoon' 'maxthon' 'iron'\n 'seamonkey' 'comodo' 'chromium' 'icedragon']\nMem. usage decreased to 357.35 Mb (22.1% reduction)\nCPU times: user 1min 16s, sys: 36.9 s, total: 1min 53s\nWall time: 1min 54s\n"
    },
    {
     "output_type": "execute_result",
     "data": {
      "text/plain": "   isFraud  TransactionDT  TransactionAmt  ProductCD  card1  card2  card3  \\\n0        0          86400            68.5          4  13926  361.0  150.0   \n1        0          86401            29.0          4   2755  404.0  150.0   \n2        0          86469            59.0          4   4663  490.0  150.0   \n3        0          86499            50.0          4  18132  567.0  150.0   \n4        0          86506            50.0          1   4497  514.0  150.0   \n\n   card4  card5  card6  ...  id_30  id_31  id_32  id_33  id_34  id_36  id_37  \\\n0      1  142.0      1  ...      4     12   24.0    260      4      2      2   \n1      2  102.0      1  ...      4     12   24.0    260      4      2      2   \n2      4  166.0      2  ...      4     12   24.0    260      4      2      2   \n3      2  117.0      2  ...      4     12   24.0    260      4      2      2   \n4      2  102.0      1  ...      0     16   32.0    164      3      0      1   \n\n   id_38  DeviceType  DeviceInfo  \n0      2           2        1742  \n1      2           2        1742  \n2      2           2        1742  \n3      2           2        1742  \n4      1           1         954  \n\n[5 rows x 270 columns]",
      "text/html": "<div>\n<style scoped>\n    .dataframe tbody tr th:only-of-type {\n        vertical-align: middle;\n    }\n\n    .dataframe tbody tr th {\n        vertical-align: top;\n    }\n\n    .dataframe thead th {\n        text-align: right;\n    }\n</style>\n<table border=\"1\" class=\"dataframe\">\n  <thead>\n    <tr style=\"text-align: right;\">\n      <th></th>\n      <th>isFraud</th>\n      <th>TransactionDT</th>\n      <th>TransactionAmt</th>\n      <th>ProductCD</th>\n      <th>card1</th>\n      <th>card2</th>\n      <th>card3</th>\n      <th>card4</th>\n      <th>card5</th>\n      <th>card6</th>\n      <th>...</th>\n      <th>id_30</th>\n      <th>id_31</th>\n      <th>id_32</th>\n      <th>id_33</th>\n      <th>id_34</th>\n      <th>id_36</th>\n      <th>id_37</th>\n      <th>id_38</th>\n      <th>DeviceType</th>\n      <th>DeviceInfo</th>\n    </tr>\n  </thead>\n  <tbody>\n    <tr>\n      <th>0</th>\n      <td>0</td>\n      <td>86400</td>\n      <td>68.5</td>\n      <td>4</td>\n      <td>13926</td>\n      <td>361.0</td>\n      <td>150.0</td>\n      <td>1</td>\n      <td>142.0</td>\n      <td>1</td>\n      <td>...</td>\n      <td>4</td>\n      <td>12</td>\n      <td>24.0</td>\n      <td>260</td>\n      <td>4</td>\n      <td>2</td>\n      <td>2</td>\n      <td>2</td>\n      <td>2</td>\n      <td>1742</td>\n    </tr>\n    <tr>\n      <th>1</th>\n      <td>0</td>\n      <td>86401</td>\n      <td>29.0</td>\n      <td>4</td>\n      <td>2755</td>\n      <td>404.0</td>\n      <td>150.0</td>\n      <td>2</td>\n      <td>102.0</td>\n      <td>1</td>\n      <td>...</td>\n      <td>4</td>\n      <td>12</td>\n      <td>24.0</td>\n      <td>260</td>\n      <td>4</td>\n      <td>2</td>\n      <td>2</td>\n      <td>2</td>\n      <td>2</td>\n      <td>1742</td>\n    </tr>\n    <tr>\n      <th>2</th>\n      <td>0</td>\n      <td>86469</td>\n      <td>59.0</td>\n      <td>4</td>\n      <td>4663</td>\n      <td>490.0</td>\n      <td>150.0</td>\n      <td>4</td>\n      <td>166.0</td>\n      <td>2</td>\n      <td>...</td>\n      <td>4</td>\n      <td>12</td>\n      <td>24.0</td>\n      <td>260</td>\n      <td>4</td>\n      <td>2</td>\n      <td>2</td>\n      <td>2</td>\n      <td>2</td>\n      <td>1742</td>\n    </tr>\n    <tr>\n      <th>3</th>\n      <td>0</td>\n      <td>86499</td>\n      <td>50.0</td>\n      <td>4</td>\n      <td>18132</td>\n      <td>567.0</td>\n      <td>150.0</td>\n      <td>2</td>\n      <td>117.0</td>\n      <td>2</td>\n      <td>...</td>\n      <td>4</td>\n      <td>12</td>\n      <td>24.0</td>\n      <td>260</td>\n      <td>4</td>\n      <td>2</td>\n      <td>2</td>\n      <td>2</td>\n      <td>2</td>\n      <td>1742</td>\n    </tr>\n    <tr>\n      <th>4</th>\n      <td>0</td>\n      <td>86506</td>\n      <td>50.0</td>\n      <td>1</td>\n      <td>4497</td>\n      <td>514.0</td>\n      <td>150.0</td>\n      <td>2</td>\n      <td>102.0</td>\n      <td>1</td>\n      <td>...</td>\n      <td>0</td>\n      <td>16</td>\n      <td>32.0</td>\n      <td>164</td>\n      <td>3</td>\n      <td>0</td>\n      <td>1</td>\n      <td>1</td>\n      <td>1</td>\n      <td>954</td>\n    </tr>\n  </tbody>\n</table>\n<p>5 rows × 270 columns</p>\n</div>"
     },
     "metadata": {},
     "execution_count": 9
    }
   ],
   "source": [
    "%%time\n",
    "\n",
    "transaction_dataframe = pd.read_csv(train_transaction_data_path)\n",
    "transaction_dataframe = reduce_mem_usage(transaction_dataframe)\n",
    "\n",
    "identity_dataframe = pd.read_csv(train_identity_data_path)\n",
    "identity_dataframe = reduce_mem_usage(identity_dataframe)\n",
    "\n",
    "dataframe = transaction_dataframe.merge(identity_dataframe, how='outer')\n",
    "\n",
    "del transaction_dataframe\n",
    "del identity_dataframe\n",
    "\n",
    "print(f'number of rows in training data: {len(dataframe)}')\n",
    "dataframe = preprocess(dataframe)\n",
    "dataframe.head()"
   ]
  },
  {
   "cell_type": "markdown",
   "metadata": {},
   "source": [
    "## split into training and validation sets"
   ]
  },
  {
   "cell_type": "code",
   "execution_count": 10,
   "metadata": {},
   "outputs": [],
   "source": [
    "features_dataframe = dataframe.drop('isFraud', axis=1)\n",
    "is_fraud_data = dataframe['isFraud']\n",
    "\n",
    "del dataframe\n",
    "\n",
    "train_features, val_features, train_target, val_target = train_test_split(\n",
    "    features_dataframe, \n",
    "    is_fraud_data, \n",
    "    test_size=0.2,\n",
    ")\n",
    "\n",
    "del features_dataframe\n",
    "del is_fraud_data\n",
    "\n",
    "train_data = lgb.Dataset(train_features, train_target)\n",
    "val_data = lgb.Dataset(val_features, val_target)\n",
    "\n",
    "del train_features\n",
    "del train_target"
   ]
  },
  {
   "cell_type": "markdown",
   "metadata": {},
   "source": [
    "## train and optimise"
   ]
  },
  {
   "cell_type": "code",
   "execution_count": 11,
   "metadata": {},
   "outputs": [],
   "source": [
    "params = {\n",
    "    'objective': 'binary',\n",
    "    'metric': 'auc',\n",
    "    'feature_pre_filter': False,\n",
    "}"
   ]
  },
  {
   "cell_type": "code",
   "execution_count": 12,
   "metadata": {
    "tags": [
     "outputPrepend",
     "outputPrepend",
     "outputPrepend",
     "outputPrepend",
     "outputPrepend",
     "outputPrepend",
     "outputPrepend",
     "outputPrepend",
     "outputPrepend",
     "outputPrepend",
     "outputPrepend",
     "outputPrepend",
     "outputPrepend",
     "outputPrepend",
     "outputPrepend",
     "outputPrepend",
     "outputPrepend",
     "outputPrepend",
     "outputPrepend",
     "outputPrepend",
     "outputPrepend",
     "outputPrepend",
     "outputPrepend",
     "outputPrepend",
     "outputPrepend",
     "outputPrepend",
     "outputPrepend",
     "outputPrepend",
     "outputPrepend",
     "outputPrepend",
     "outputPrepend",
     "outputPrepend",
     "outputPrepend",
     "outputPrepend",
     "outputPrepend",
     "outputPrepend",
     "outputPrepend",
     "outputPrepend",
     "outputPrepend",
     "outputPrepend",
     "outputPrepend",
     "outputPrepend",
     "outputPrepend",
     "outputPrepend",
     "outputPrepend",
     "outputPrepend",
     "outputPrepend",
     "outputPrepend",
     "outputPrepend",
     "outputPrepend",
     "outputPrepend",
     "outputPrepend",
     "outputPrepend",
     "outputPrepend",
     "outputPrepend",
     "outputPrepend",
     "outputPrepend",
     "outputPrepend",
     "outputPrepend",
     "outputPrepend",
     "outputPrepend",
     "outputPrepend",
     "outputPrepend",
     "outputPrepend",
     "outputPrepend",
     "outputPrepend",
     "outputPrepend",
     "outputPrepend",
     "outputPrepend",
     "outputPrepend",
     "outputPrepend",
     "outputPrepend",
     "outputPrepend",
     "outputPrepend",
     "outputPrepend",
     "outputPrepend",
     "outputPrepend",
     "outputPrepend",
     "outputPrepend",
     "outputPrepend",
     "outputPrepend",
     "outputPrepend",
     "outputPrepend",
     "outputPrepend",
     "outputPrepend",
     "outputPrepend",
     "outputPrepend",
     "outputPrepend",
     "outputPrepend",
     "outputPrepend",
     "outputPrepend",
     "outputPrepend",
     "outputPrepend",
     "outputPrepend",
     "outputPrepend",
     "outputPrepend",
     "outputPrepend",
     "outputPrepend",
     "outputPrepend",
     "outputPrepend",
     "outputPrepend",
     "outputPrepend",
     "outputPrepend",
     "outputPrepend",
     "outputPrepend",
     "outputPrepend",
     "outputPrepend",
     "outputPrepend",
     "outputPrepend",
     "outputPrepend",
     "outputPrepend",
     "outputPrepend",
     "outputPrepend",
     "outputPrepend",
     "outputPrepend",
     "outputPrepend",
     "outputPrepend",
     "outputPrepend",
     "outputPrepend",
     "outputPrepend",
     "outputPrepend",
     "outputPrepend",
     "outputPrepend",
     "outputPrepend",
     "outputPrepend",
     "outputPrepend",
     "outputPrepend",
     "outputPrepend",
     "outputPrepend",
     "outputPrepend",
     "outputPrepend",
     "outputPrepend"
    ]
   },
   "outputs": [
    {
     "output_type": "stream",
     "name": "stderr",
     "text": "_score: 0.976872:  75%|#######5  | 15/20 [19:56<07:40, 92.01s/it][1000]\tvalid_0's auc: 0.976275\ntune_num_leaves, val_score: 0.976872:  80%|########  | 16/20 [21:29<06:08, 92.18s/it][I 2020-04-25 07:35:49,591] Finished trial#15 with value: 0.9762751723131998 with parameters: {'num_leaves': 215}. Best is trial#11 with value: 0.9768721194744435.\ntune_num_leaves, val_score: 0.976872:  80%|########  | 16/20 [21:29<06:08, 92.18s/it][1000]\tvalid_0's auc: 0.97515\ntune_num_leaves, val_score: 0.976872:  85%|########5 | 17/20 [22:52<04:28, 89.52s/it][I 2020-04-25 07:37:12,914] Finished trial#16 with value: 0.9751498375673797 with parameters: {'num_leaves': 184}. Best is trial#11 with value: 0.9768721194744435.\ntune_num_leaves, val_score: 0.976872:  85%|########5 | 17/20 [22:52<04:28, 89.52s/it][1000]\tvalid_0's auc: 0.970749\ntune_num_leaves, val_score: 0.976872:  90%|######### | 18/20 [23:38<02:32, 76.43s/it][I 2020-04-25 07:37:58,786] Finished trial#17 with value: 0.9707485141857881 with parameters: {'num_leaves': 53}. Best is trial#11 with value: 0.9768721194744435.\ntune_num_leaves, val_score: 0.976872:  90%|######### | 18/20 [23:38<02:32, 76.43s/it][1000]\tvalid_0's auc: 0.976141\ntune_num_leaves, val_score: 0.976872:  95%|#########5| 19/20 [25:16<01:22, 82.97s/it][I 2020-04-25 07:39:37,024] Finished trial#18 with value: 0.9761413519586688 with parameters: {'num_leaves': 235}. Best is trial#11 with value: 0.9768721194744435.\ntune_num_leaves, val_score: 0.976872:  95%|#########5| 19/20 [25:16<01:22, 82.97s/it][1000]\tvalid_0's auc: 0.976231\ntune_num_leaves, val_score: 0.976872: 100%|##########| 20/20 [26:43<00:00, 84.30s/it][I 2020-04-25 07:41:04,424] Finished trial#19 with value: 0.9762309146635727 with parameters: {'num_leaves': 195}. Best is trial#11 with value: 0.9768721194744435.\ntune_num_leaves, val_score: 0.976872: 100%|##########| 20/20 [26:43<00:00, 80.20s/it]\ntune_bagging_fraction_and_bagging_freq, val_score: 0.976872:   0%|          | 0/10 [00:00<?, ?it/s][1000]\tvalid_0's auc: 0.968484\ntune_bagging_fraction_and_bagging_freq, val_score: 0.976872:  10%|#         | 1/10 [02:32<22:51, 152.33s/it][I 2020-04-25 07:43:36,832] Finished trial#0 with value: 0.9684844717573701 with parameters: {'bagging_fraction': 0.4822625616101457, 'bagging_freq': 6}. Best is trial#0 with value: 0.9684844717573701.\ntune_bagging_fraction_and_bagging_freq, val_score: 0.976872:  10%|#         | 1/10 [02:32<22:51, 152.33s/it][1000]\tvalid_0's auc: 0.974541\ntune_bagging_fraction_and_bagging_freq, val_score: 0.976872:  20%|##        | 2/10 [05:08<20:27, 153.42s/it][I 2020-04-25 07:46:12,788] Finished trial#1 with value: 0.9745406071944279 with parameters: {'bagging_fraction': 0.7663073468976386, 'bagging_freq': 7}. Best is trial#1 with value: 0.9745406071944279.\ntune_bagging_fraction_and_bagging_freq, val_score: 0.976872:  20%|##        | 2/10 [05:08<20:27, 153.42s/it][1000]\tvalid_0's auc: 0.975537\ntune_bagging_fraction_and_bagging_freq, val_score: 0.976872:  30%|###       | 3/10 [07:45<18:01, 154.52s/it][I 2020-04-25 07:48:49,861] Finished trial#2 with value: 0.9755369883190381 with parameters: {'bagging_fraction': 0.9180620508761577, 'bagging_freq': 7}. Best is trial#2 with value: 0.9755369883190381.\ntune_bagging_fraction_and_bagging_freq, val_score: 0.976872:  30%|###       | 3/10 [07:45<18:01, 154.52s/it][1000]\tvalid_0's auc: 0.97594\ntune_bagging_fraction_and_bagging_freq, val_score: 0.976872:  40%|####      | 4/10 [10:41<16:06, 161.07s/it][I 2020-04-25 07:51:46,220] Finished trial#3 with value: 0.9759401336955545 with parameters: {'bagging_fraction': 0.8844471404269791, 'bagging_freq': 5}. Best is trial#3 with value: 0.9759401336955545.\ntune_bagging_fraction_and_bagging_freq, val_score: 0.976872:  40%|####      | 4/10 [10:41<16:06, 161.07s/it][1000]\tvalid_0's auc: 0.974637\ntune_bagging_fraction_and_bagging_freq, val_score: 0.976872:  50%|#####     | 5/10 [13:35<13:44, 164.83s/it][I 2020-04-25 07:54:39,814] Finished trial#4 with value: 0.9746372478223574 with parameters: {'bagging_fraction': 0.8428113082816316, 'bagging_freq': 5}. Best is trial#3 with value: 0.9759401336955545.\ntune_bagging_fraction_and_bagging_freq, val_score: 0.976872:  50%|#####     | 5/10 [13:35<13:44, 164.83s/it][1000]\tvalid_0's auc: 0.976561\ntune_bagging_fraction_and_bagging_freq, val_score: 0.976872:  60%|######    | 6/10 [15:20<09:48, 147.03s/it][I 2020-04-25 07:56:25,304] Finished trial#5 with value: 0.976561340464418 with parameters: {'bagging_fraction': 0.87462710884215, 'bagging_freq': 1}. Best is trial#5 with value: 0.976561340464418.\ntune_bagging_fraction_and_bagging_freq, val_score: 0.976872:  60%|######    | 6/10 [15:20<09:48, 147.03s/it][1000]\tvalid_0's auc: 0.964493\ntune_bagging_fraction_and_bagging_freq, val_score: 0.976872:  70%|#######   | 7/10 [18:27<07:57, 159.03s/it][I 2020-04-25 07:59:32,345] Finished trial#6 with value: 0.96449303523593 with parameters: {'bagging_fraction': 0.42079222172743225, 'bagging_freq': 3}. Best is trial#5 with value: 0.976561340464418.\ntune_bagging_fraction_and_bagging_freq, val_score: 0.976872:  70%|#######   | 7/10 [18:27<07:57, 159.03s/it][1000]\tvalid_0's auc: 0.974319\ntune_bagging_fraction_and_bagging_freq, val_score: 0.976872:  80%|########  | 8/10 [22:58<06:25, 192.52s/it][I 2020-04-25 08:04:03,024] Finished trial#7 with value: 0.9743192596991038 with parameters: {'bagging_fraction': 0.7928237543569745, 'bagging_freq': 2}. Best is trial#5 with value: 0.976561340464418.\ntune_bagging_fraction_and_bagging_freq, val_score: 0.976872:  80%|########  | 8/10 [22:58<06:25, 192.52s/it][1000]\tvalid_0's auc: 0.975396\ntune_bagging_fraction_and_bagging_freq, val_score: 0.976872:  90%|######### | 9/10 [25:35<03:01, 181.84s/it][I 2020-04-25 08:06:39,924] Finished trial#8 with value: 0.9753963291462054 with parameters: {'bagging_fraction': 0.8183353906734342, 'bagging_freq': 7}. Best is trial#5 with value: 0.976561340464418.\ntune_bagging_fraction_and_bagging_freq, val_score: 0.976872:  90%|######### | 9/10 [25:35<03:01, 181.84s/it][1000]\tvalid_0's auc: 0.972039\ntune_bagging_fraction_and_bagging_freq, val_score: 0.976872: 100%|##########| 10/10 [28:14<00:00, 175.08s/it][I 2020-04-25 08:09:19,243] Finished trial#9 with value: 0.9720389729612485 with parameters: {'bagging_fraction': 0.6583245471096043, 'bagging_freq': 6}. Best is trial#5 with value: 0.976561340464418.\ntune_bagging_fraction_and_bagging_freq, val_score: 0.976872: 100%|##########| 10/10 [28:14<00:00, 169.48s/it]\ntune_feature_fraction, val_score: 0.976872:   0%|          | 0/6 [00:00<?, ?it/s][1000]\tvalid_0's auc: 0.975951\ntune_feature_fraction, val_score: 0.976872:  17%|#6        | 1/6 [01:42<08:30, 102.19s/it][I 2020-04-25 08:11:01,514] Finished trial#0 with value: 0.9759506881589481 with parameters: {'feature_fraction': 0.62}. Best is trial#0 with value: 0.9759506881589481.\ntune_feature_fraction, val_score: 0.976872:  17%|#6        | 1/6 [01:42<08:30, 102.19s/it][1000]\tvalid_0's auc: 0.976845\ntune_feature_fraction, val_score: 0.976872:  33%|###3      | 2/6 [03:31<06:57, 104.32s/it][I 2020-04-25 08:12:50,803] Finished trial#1 with value: 0.9768446943741941 with parameters: {'feature_fraction': 0.652}. Best is trial#1 with value: 0.9768446943741941.\ntune_feature_fraction, val_score: 0.976872:  33%|###3      | 2/6 [03:31<06:57, 104.32s/it][1000]\tvalid_0's auc: 0.976159\ntune_feature_fraction, val_score: 0.976872:  50%|#####     | 3/6 [05:15<05:13, 104.36s/it][I 2020-04-25 08:14:35,259] Finished trial#2 with value: 0.976158518831466 with parameters: {'feature_fraction': 0.6839999999999999}. Best is trial#1 with value: 0.9768446943741941.\ntune_feature_fraction, val_score: 0.976872:  50%|#####     | 3/6 [05:16<05:13, 104.36s/it][1000]\tvalid_0's auc: 0.975733\ntune_feature_fraction, val_score: 0.976872:  67%|######6   | 4/6 [07:00<03:28, 104.42s/it][I 2020-04-25 08:16:19,818] Finished trial#3 with value: 0.975732599258978 with parameters: {'feature_fraction': 0.716}. Best is trial#1 with value: 0.9768446943741941.\ntune_feature_fraction, val_score: 0.976872:  67%|######6   | 4/6 [07:00<03:28, 104.42s/it][1000]\tvalid_0's auc: 0.975752\ntune_feature_fraction, val_score: 0.976872:  83%|########3 | 5/6 [08:46<01:44, 104.81s/it][I 2020-04-25 08:18:05,536] Finished trial#4 with value: 0.9757520090610449 with parameters: {'feature_fraction': 0.748}. Best is trial#1 with value: 0.9768446943741941.\ntune_feature_fraction, val_score: 0.976872:  83%|########3 | 5/6 [08:46<01:44, 104.81s/it][1000]\tvalid_0's auc: 0.975998\ntune_feature_fraction, val_score: 0.976872: 100%|##########| 6/6 [10:32<00:00, 105.18s/it][I 2020-04-25 08:19:51,593] Finished trial#5 with value: 0.9759981790122773 with parameters: {'feature_fraction': 0.7799999999999999}. Best is trial#1 with value: 0.9768446943741941.\ntune_feature_fraction, val_score: 0.976872: 100%|##########| 6/6 [10:32<00:00, 105.39s/it]\ntune_lambda_l1_and_lambda_l2, val_score: 0.976872:   0%|          | 0/20 [00:00<?, ?it/s][1000]\tvalid_0's auc: 0.976308\ntune_lambda_l1_and_lambda_l2, val_score: 0.976872:   5%|5         | 1/20 [01:48<34:22, 108.57s/it][I 2020-04-25 08:21:40,237] Finished trial#0 with value: 0.9763079000367982 with parameters: {'lambda_l1': 2.6843624792415295e-08, 'lambda_l2': 0.000795455856497604}. Best is trial#0 with value: 0.9763079000367982.\ntune_lambda_l1_and_lambda_l2, val_score: 0.976872:   5%|5         | 1/20 [01:48<34:22, 108.57s/it][1000]\tvalid_0's auc: 0.976214\ntune_lambda_l1_and_lambda_l2, val_score: 0.976872:  10%|#         | 2/20 [03:38<32:43, 109.10s/it][I 2020-04-25 08:23:30,578] Finished trial#1 with value: 0.9762135954408628 with parameters: {'lambda_l1': 0.06711132095863173, 'lambda_l2': 0.00046542250051215077}. Best is trial#0 with value: 0.9763079000367982.\ntune_lambda_l1_and_lambda_l2, val_score: 0.976872:  10%|#         | 2/20 [03:38<32:43, 109.10s/it][1000]\tvalid_0's auc: 0.976144\ntune_lambda_l1_and_lambda_l2, val_score: 0.976872:  15%|#5        | 3/20 [05:26<30:45, 108.54s/it][I 2020-04-25 08:25:17,812] Finished trial#2 with value: 0.976143952487039 with parameters: {'lambda_l1': 4.091599347253646e-06, 'lambda_l2': 0.00015441115808645546}. Best is trial#0 with value: 0.9763079000367982.\ntune_lambda_l1_and_lambda_l2, val_score: 0.976872:  15%|#5        | 3/20 [05:26<30:45, 108.54s/it][1000]\tvalid_0's auc: 0.975177\ntune_lambda_l1_and_lambda_l2, val_score: 0.976872:  20%|##        | 4/20 [07:24<29:42, 111.40s/it][I 2020-04-25 08:27:15,868] Finished trial#3 with value: 0.9751770616503833 with parameters: {'lambda_l1': 0.6843460304438344, 'lambda_l2': 1.8021998490367774e-06}. Best is trial#0 with value: 0.9763079000367982.\ntune_lambda_l1_and_lambda_l2, val_score: 0.976872:  20%|##        | 4/20 [07:24<29:42, 111.40s/it][1000]\tvalid_0's auc: 0.975671\ntune_lambda_l1_and_lambda_l2, val_score: 0.976872:  25%|##5       | 5/20 [09:12<27:35, 110.34s/it][I 2020-04-25 08:29:03,747] Finished trial#4 with value: 0.9756706478597724 with parameters: {'lambda_l1': 3.3127983431069094e-06, 'lambda_l2': 0.06420480601673914}. Best is trial#0 with value: 0.9763079000367982.\ntune_lambda_l1_and_lambda_l2, val_score: 0.976872:  25%|##5       | 5/20 [09:12<27:35, 110.34s/it][1000]\tvalid_0's auc: 0.975785\ntune_lambda_l1_and_lambda_l2, val_score: 0.976872:  30%|###       | 6/20 [11:02<25:45, 110.42s/it][I 2020-04-25 08:30:54,358] Finished trial#5 with value: 0.9757854604467284 with parameters: {'lambda_l1': 5.942744137170481e-07, 'lambda_l2': 0.02940140603510025}. Best is trial#0 with value: 0.9763079000367982.\ntune_lambda_l1_and_lambda_l2, val_score: 0.976872:  30%|###       | 6/20 [11:02<25:45, 110.42s/it][1000]\tvalid_0's auc: 0.975301\ntune_lambda_l1_and_lambda_l2, val_score: 0.976872:  35%|###5      | 7/20 [12:55<24:04, 111.08s/it][I 2020-04-25 08:32:46,985] Finished trial#6 with value: 0.9753009877244756 with parameters: {'lambda_l1': 0.14045095957313564, 'lambda_l2': 0.0018151343185261097}. Best is trial#0 with value: 0.9763079000367982.\ntune_lambda_l1_and_lambda_l2, val_score: 0.976872:  35%|###5      | 7/20 [12:55<24:04, 111.08s/it][1000]\tvalid_0's auc: 0.97649\ntune_lambda_l1_and_lambda_l2, val_score: 0.976872:  40%|####      | 8/20 [14:45<22:08, 110.72s/it][I 2020-04-25 08:34:36,843] Finished trial#7 with value: 0.9764901189962214 with parameters: {'lambda_l1': 0.016766205613412875, 'lambda_l2': 0.0023511388444988246}. Best is trial#7 with value: 0.9764901189962214.\ntune_lambda_l1_and_lambda_l2, val_score: 0.976872:  40%|####      | 8/20 [14:45<22:08, 110.72s/it][1000]\tvalid_0's auc: 0.974656\ntune_lambda_l1_and_lambda_l2, val_score: 0.976872:  45%|####5     | 9/20 [16:46<20:52, 113.87s/it][I 2020-04-25 08:36:38,073] Finished trial#8 with value: 0.9746564523752363 with parameters: {'lambda_l1': 1.0994177006417052e-06, 'lambda_l2': 1.6096342770649994}. Best is trial#7 with value: 0.9764901189962214.\ntune_lambda_l1_and_lambda_l2, val_score: 0.976872:  45%|####5     | 9/20 [16:46<20:52, 113.87s/it][1000]\tvalid_0's auc: 0.974779\ntune_lambda_l1_and_lambda_l2, val_score: 0.976872:  50%|#####     | 10/20 [18:30<18:29, 110.92s/it][I 2020-04-25 08:38:22,101] Finished trial#9 with value: 0.9747788126307819 with parameters: {'lambda_l1': 3.984230475009783, 'lambda_l2': 9.929108048876292e-07}. Best is trial#7 with value: 0.9764901189962214.\ntune_lambda_l1_and_lambda_l2, val_score: 0.976872:  50%|#####     | 10/20 [18:30<18:29, 110.92s/it][1000]\tvalid_0's auc: 0.974315\ntune_lambda_l1_and_lambda_l2, val_score: 0.976872:  55%|#####5    | 11/20 [20:44<17:40, 117.83s/it][I 2020-04-25 08:40:36,063] Finished trial#10 with value: 0.9743154699950264 with parameters: {'lambda_l1': 0.002282052282490174, 'lambda_l2': 9.2529797145322}. Best is trial#7 with value: 0.9764901189962214.\ntune_lambda_l1_and_lambda_l2, val_score: 0.976872:  55%|#####5    | 11/20 [20:44<17:40, 117.83s/it][1000]\tvalid_0's auc: 0.976692\ntune_lambda_l1_and_lambda_l2, val_score: 0.976872:  60%|######    | 12/20 [22:33<15:22, 115.28s/it][I 2020-04-25 08:42:25,383] Finished trial#11 with value: 0.9766922767504637 with parameters: {'lambda_l1': 0.00047725633335631403, 'lambda_l2': 3.224823595390357e-05}. Best is trial#11 with value: 0.9766922767504637.\ntune_lambda_l1_and_lambda_l2, val_score: 0.976872:  60%|######    | 12/20 [22:33<15:22, 115.28s/it][1000]\tvalid_0's auc: 0.976554\ntune_lambda_l1_and_lambda_l2, val_score: 0.976872:  65%|######5   | 13/20 [24:31<13:31, 115.93s/it][I 2020-04-25 08:44:22,826] Finished trial#12 with value: 0.976553710272959 with parameters: {'lambda_l1': 0.0007761959457981252, 'lambda_l2': 1.5835592699384387e-05}. Best is trial#11 with value: 0.9766922767504637.\ntune_lambda_l1_and_lambda_l2, val_score: 0.976872:  65%|######5   | 13/20 [24:31<13:31, 115.93s/it][1000]\tvalid_0's auc: 0.976926\ntune_lambda_l1_and_lambda_l2, val_score: 0.976926:  70%|#######   | 14/20 [26:17<11:19, 113.19s/it][I 2020-04-25 08:46:09,629] Finished trial#13 with value: 0.9769263475794657 with parameters: {'lambda_l1': 0.00018214509503088023, 'lambda_l2': 4.3399396953085334e-08}. Best is trial#13 with value: 0.9769263475794657.\ntune_lambda_l1_and_lambda_l2, val_score: 0.976926:  70%|#######   | 14/20 [26:18<11:19, 113.19s/it][1000]\tvalid_0's auc: 0.976979\ntune_lambda_l1_and_lambda_l2, val_score: 0.976979:  75%|#######5  | 15/20 [28:05<09:17, 111.59s/it][I 2020-04-25 08:47:57,466] Finished trial#14 with value: 0.9769792891741145 with parameters: {'lambda_l1': 8.068107312528611e-05, 'lambda_l2': 1.0208003388904438e-08}. Best is trial#14 with value: 0.9769792891741145.\ntune_lambda_l1_and_lambda_l2, val_score: 0.976979:  75%|#######5  | 15/20 [28:05<09:17, 111.59s/it][1000]\tvalid_0's auc: 0.975903\ntune_lambda_l1_and_lambda_l2, val_score: 0.976979:  80%|########  | 16/20 [29:53<07:21, 110.39s/it][I 2020-04-25 08:49:45,110] Finished trial#15 with value: 0.9759025244268381 with parameters: {'lambda_l1': 3.750793082288616e-05, 'lambda_l2': 2.461704293959579e-08}. Best is trial#14 with value: 0.9769792891741145.\ntune_lambda_l1_and_lambda_l2, val_score: 0.976979:  80%|########  | 16/20 [29:53<07:21, 110.39s/it][1000]\tvalid_0's auc: 0.976727\ntune_lambda_l1_and_lambda_l2, val_score: 0.976979:  85%|########5 | 17/20 [31:41<05:28, 109.66s/it][I 2020-04-25 08:51:33,041] Finished trial#16 with value: 0.9767274357247515 with parameters: {'lambda_l1': 3.925183034052213e-05, 'lambda_l2': 1.3123235169201277e-08}. Best is trial#14 with value: 0.9769792891741145.\ntune_lambda_l1_and_lambda_l2, val_score: 0.976979:  85%|########5 | 17/20 [31:41<05:28, 109.66s/it][1000]\tvalid_0's auc: 0.976701\ntune_lambda_l1_and_lambda_l2, val_score: 0.976979:  90%|######### | 18/20 [33:25<03:36, 108.06s/it][I 2020-04-25 08:53:17,367] Finished trial#17 with value: 0.9767007893018333 with parameters: {'lambda_l1': 4.869985482132157e-05, 'lambda_l2': 1.333068906096493e-07}. Best is trial#14 with value: 0.9769792891741145.\ntune_lambda_l1_and_lambda_l2, val_score: 0.976979:  90%|######### | 18/20 [33:25<03:36, 108.06s/it][1000]\tvalid_0's auc: 0.976458\ntune_lambda_l1_and_lambda_l2, val_score: 0.976979:  95%|#########5| 19/20 [35:13<01:47, 108.00s/it][I 2020-04-25 08:55:05,204] Finished trial#18 with value: 0.9764580154840706 with parameters: {'lambda_l1': 5.150151310756706e-08, 'lambda_l2': 7.08791044379857e-08}. Best is trial#14 with value: 0.9769792891741145.\ntune_lambda_l1_and_lambda_l2, val_score: 0.976979:  95%|#########5| 19/20 [35:13<01:47, 108.00s/it][1000]\tvalid_0's auc: 0.977066\ntune_lambda_l1_and_lambda_l2, val_score: 0.977066: 100%|##########| 20/20 [36:59<00:00, 107.34s/it][I 2020-04-25 08:56:51,010] Finished trial#19 with value: 0.9770664375560969 with parameters: {'lambda_l1': 6.367227420145775e-05, 'lambda_l2': 5.242180881027132e-07}. Best is trial#19 with value: 0.9770664375560969.\ntune_lambda_l1_and_lambda_l2, val_score: 0.977066: 100%|##########| 20/20 [36:59<00:00, 110.97s/it]\ntune_min_child_samples, val_score: 0.977066:   0%|          | 0/5 [00:00<?, ?it/s][1000]\tvalid_0's auc: 0.973645\ntune_min_child_samples, val_score: 0.977066:  20%|##        | 1/5 [01:51<07:25, 111.30s/it][I 2020-04-25 08:58:42,395] Finished trial#0 with value: 0.9736453335125476 with parameters: {'min_child_samples': 5}. Best is trial#0 with value: 0.9736453335125476.\ntune_min_child_samples, val_score: 0.977066:  20%|##        | 1/5 [01:51<07:25, 111.30s/it][1000]\tvalid_0's auc: 0.975756\ntune_min_child_samples, val_score: 0.977066:  40%|####      | 2/5 [03:42<05:33, 111.14s/it][I 2020-04-25 09:00:33,173] Finished trial#1 with value: 0.9757558432005135 with parameters: {'min_child_samples': 10}. Best is trial#1 with value: 0.9757558432005135.\ntune_min_child_samples, val_score: 0.977066:  40%|####      | 2/5 [03:42<05:33, 111.14s/it][1000]\tvalid_0's auc: 0.977332\ntune_min_child_samples, val_score: 0.977332:  60%|######    | 3/5 [05:30<03:40, 110.20s/it][I 2020-04-25 09:02:21,164] Finished trial#2 with value: 0.9773319093948747 with parameters: {'min_child_samples': 25}. Best is trial#2 with value: 0.9773319093948747.\ntune_min_child_samples, val_score: 0.977332:  60%|######    | 3/5 [05:30<03:40, 110.20s/it][1000]\tvalid_0's auc: 0.975845\ntune_min_child_samples, val_score: 0.977332:  80%|########  | 4/5 [07:16<01:48, 109.00s/it][I 2020-04-25 09:04:07,367] Finished trial#3 with value: 0.9758452112360845 with parameters: {'min_child_samples': 50}. Best is trial#2 with value: 0.9773319093948747.\ntune_min_child_samples, val_score: 0.977332:  80%|########  | 4/5 [07:16<01:48, 109.00s/it][1000]\tvalid_0's auc: 0.976933\ntune_min_child_samples, val_score: 0.977332: 100%|##########| 5/5 [09:06<00:00, 109.31s/it][I 2020-04-25 09:05:57,410] Finished trial#4 with value: 0.9769327208841453 with parameters: {'min_child_samples': 100}. Best is trial#2 with value: 0.9773319093948747.\ntune_min_child_samples, val_score: 0.977332: 100%|##########| 5/5 [09:06<00:00, 109.28s/it]\nBest Params:{'lambda_l1': 6.367227420145775e-05, 'lambda_l2': 5.242180881027132e-07, 'num_leaves': 256, 'feature_fraction': 0.7, 'bagging_fraction': 1.0, 'bagging_freq': 0, 'min_child_samples': 25}\n"
    }
   ],
   "source": [
    "best_params, tuning_history = dict(), list()\n",
    "\n",
    "booster = lgb.train(\n",
    "    params, \n",
    "    train_data, \n",
    "    valid_sets=val_data,\n",
    "    verbose_eval=1000,\n",
    "    best_params=best_params,\n",
    "    tuning_history=tuning_history,\n",
    ")\n",
    "\n",
    "print('Best Params:', best_params)\n",
    "# print('Tuning history:', tuning_history)"
   ]
  },
  {
   "cell_type": "markdown",
   "metadata": {},
   "source": [
    "## save model"
   ]
  },
  {
   "cell_type": "code",
   "execution_count": 14,
   "metadata": {},
   "outputs": [
    {
     "output_type": "execute_result",
     "data": {
      "text/plain": "['models/lgbm/lgbm_1.joblib']"
     },
     "metadata": {},
     "execution_count": 14
    }
   ],
   "source": [
    "joblib.dump(booster, model_dir_path + 'lgbm_1.joblib')"
   ]
  },
  {
   "cell_type": "markdown",
   "metadata": {},
   "source": [
    "## load and preprocess test data"
   ]
  },
  {
   "cell_type": "code",
   "execution_count": 15,
   "metadata": {},
   "outputs": [
    {
     "output_type": "stream",
     "name": "stdout",
     "text": "Mem. usage decreased to 472.59 Mb (68.9% reduction)\nMem. usage decreased to 25.44 Mb (42.7% reduction)\nnumber of rows in test data: 506691\noperating systems:['other' 'Android' 'iOS' 'Windows' 'Mac OS X']\nbrowsers:['other' 'chrome' 'ie' 'safari' 'edge' 'firefox' 'samsung' 'opera'\n 'palemoon']\nMem. usage decreased to 315.73 Mb (21.6% reduction)\nCPU times: user 1min 3s, sys: 31 s, total: 1min 34s\nWall time: 1min 35s\n"
    },
    {
     "output_type": "execute_result",
     "data": {
      "text/plain": "   TransactionDT  TransactionAmt  ProductCD  card1  card2  card3  card4  \\\n0       18403224       31.953125          4  10409  111.0  150.0      4   \n1       18403263       49.000000          4   4272  111.0  150.0      4   \n2       18403310      171.000000          4   4476  574.0  150.0      4   \n3       18403310      285.000000          4  10989  360.0  150.0      4   \n4       18403317       67.937500          4  18018  452.0  150.0      2   \n\n   card5  card6  addr1  ...  id_30  id_31  id_32  id_33  id_34  id_36  id_37  \\\n0  226.0      2  170.0  ...      4      5   24.0    390      2      2      2   \n1  226.0      2  299.0  ...      4      5   24.0    390      2      2      2   \n2  226.0      2  472.0  ...      4      5   24.0    390      2      2      2   \n3  166.0      2  205.0  ...      4      5   24.0    390      2      2      2   \n4  117.0      2  264.0  ...      4      5   24.0    390      2      2      2   \n\n   id_38  DeviceType  DeviceInfo  \n0      2           2        2184  \n1      2           2        2184  \n2      2           2        2184  \n3      2           2        2184  \n4      2           2        2184  \n\n[5 rows x 269 columns]",
      "text/html": "<div>\n<style scoped>\n    .dataframe tbody tr th:only-of-type {\n        vertical-align: middle;\n    }\n\n    .dataframe tbody tr th {\n        vertical-align: top;\n    }\n\n    .dataframe thead th {\n        text-align: right;\n    }\n</style>\n<table border=\"1\" class=\"dataframe\">\n  <thead>\n    <tr style=\"text-align: right;\">\n      <th></th>\n      <th>TransactionDT</th>\n      <th>TransactionAmt</th>\n      <th>ProductCD</th>\n      <th>card1</th>\n      <th>card2</th>\n      <th>card3</th>\n      <th>card4</th>\n      <th>card5</th>\n      <th>card6</th>\n      <th>addr1</th>\n      <th>...</th>\n      <th>id_30</th>\n      <th>id_31</th>\n      <th>id_32</th>\n      <th>id_33</th>\n      <th>id_34</th>\n      <th>id_36</th>\n      <th>id_37</th>\n      <th>id_38</th>\n      <th>DeviceType</th>\n      <th>DeviceInfo</th>\n    </tr>\n  </thead>\n  <tbody>\n    <tr>\n      <th>0</th>\n      <td>18403224</td>\n      <td>31.953125</td>\n      <td>4</td>\n      <td>10409</td>\n      <td>111.0</td>\n      <td>150.0</td>\n      <td>4</td>\n      <td>226.0</td>\n      <td>2</td>\n      <td>170.0</td>\n      <td>...</td>\n      <td>4</td>\n      <td>5</td>\n      <td>24.0</td>\n      <td>390</td>\n      <td>2</td>\n      <td>2</td>\n      <td>2</td>\n      <td>2</td>\n      <td>2</td>\n      <td>2184</td>\n    </tr>\n    <tr>\n      <th>1</th>\n      <td>18403263</td>\n      <td>49.000000</td>\n      <td>4</td>\n      <td>4272</td>\n      <td>111.0</td>\n      <td>150.0</td>\n      <td>4</td>\n      <td>226.0</td>\n      <td>2</td>\n      <td>299.0</td>\n      <td>...</td>\n      <td>4</td>\n      <td>5</td>\n      <td>24.0</td>\n      <td>390</td>\n      <td>2</td>\n      <td>2</td>\n      <td>2</td>\n      <td>2</td>\n      <td>2</td>\n      <td>2184</td>\n    </tr>\n    <tr>\n      <th>2</th>\n      <td>18403310</td>\n      <td>171.000000</td>\n      <td>4</td>\n      <td>4476</td>\n      <td>574.0</td>\n      <td>150.0</td>\n      <td>4</td>\n      <td>226.0</td>\n      <td>2</td>\n      <td>472.0</td>\n      <td>...</td>\n      <td>4</td>\n      <td>5</td>\n      <td>24.0</td>\n      <td>390</td>\n      <td>2</td>\n      <td>2</td>\n      <td>2</td>\n      <td>2</td>\n      <td>2</td>\n      <td>2184</td>\n    </tr>\n    <tr>\n      <th>3</th>\n      <td>18403310</td>\n      <td>285.000000</td>\n      <td>4</td>\n      <td>10989</td>\n      <td>360.0</td>\n      <td>150.0</td>\n      <td>4</td>\n      <td>166.0</td>\n      <td>2</td>\n      <td>205.0</td>\n      <td>...</td>\n      <td>4</td>\n      <td>5</td>\n      <td>24.0</td>\n      <td>390</td>\n      <td>2</td>\n      <td>2</td>\n      <td>2</td>\n      <td>2</td>\n      <td>2</td>\n      <td>2184</td>\n    </tr>\n    <tr>\n      <th>4</th>\n      <td>18403317</td>\n      <td>67.937500</td>\n      <td>4</td>\n      <td>18018</td>\n      <td>452.0</td>\n      <td>150.0</td>\n      <td>2</td>\n      <td>117.0</td>\n      <td>2</td>\n      <td>264.0</td>\n      <td>...</td>\n      <td>4</td>\n      <td>5</td>\n      <td>24.0</td>\n      <td>390</td>\n      <td>2</td>\n      <td>2</td>\n      <td>2</td>\n      <td>2</td>\n      <td>2</td>\n      <td>2184</td>\n    </tr>\n  </tbody>\n</table>\n<p>5 rows × 269 columns</p>\n</div>"
     },
     "metadata": {},
     "execution_count": 15
    }
   ],
   "source": [
    "%%time\n",
    "\n",
    "transaction_dataframe = pd.read_csv(test_transaction_data_path)\n",
    "transaction_dataframe = reduce_mem_usage(transaction_dataframe)\n",
    "\n",
    "identity_dataframe = pd.read_csv(test_identity_data_path)\n",
    "identity_dataframe = reduce_mem_usage(identity_dataframe)\n",
    "identity_dataframe = identity_dataframe.rename(\n",
    "    columns={\n",
    "        column: column.replace('-', '_')\n",
    "        for column in identity_dataframe.columns\n",
    "    }\n",
    ")\n",
    "\n",
    "dataframe = transaction_dataframe.merge(identity_dataframe, how='outer')\n",
    "transaction_id_data = dataframe['TransactionID']  # need it for output\n",
    "\n",
    "del transaction_dataframe\n",
    "del identity_dataframe\n",
    "\n",
    "print(f'number of rows in test data: {len(dataframe)}')\n",
    "\n",
    "test_dataframe = preprocess(dataframe)\n",
    "del dataframe\n",
    "\n",
    "test_dataframe.head()"
   ]
  },
  {
   "cell_type": "markdown",
   "metadata": {},
   "source": [
    "## do inference on test data and get output"
   ]
  },
  {
   "cell_type": "code",
   "execution_count": 16,
   "metadata": {},
   "outputs": [
    {
     "output_type": "stream",
     "name": "stdout",
     "text": "CPU times: user 2min 19s, sys: 583 ms, total: 2min 19s\nWall time: 15.1 s\n"
    },
    {
     "output_type": "execute_result",
     "data": {
      "text/plain": "   TransactionID       isFraud\n0        3663549  4.715187e-07\n1        3663550  8.827032e-07\n2        3663551  4.807896e-07\n3        3663552  5.349725e-06\n4        3663553  4.747645e-07",
      "text/html": "<div>\n<style scoped>\n    .dataframe tbody tr th:only-of-type {\n        vertical-align: middle;\n    }\n\n    .dataframe tbody tr th {\n        vertical-align: top;\n    }\n\n    .dataframe thead th {\n        text-align: right;\n    }\n</style>\n<table border=\"1\" class=\"dataframe\">\n  <thead>\n    <tr style=\"text-align: right;\">\n      <th></th>\n      <th>TransactionID</th>\n      <th>isFraud</th>\n    </tr>\n  </thead>\n  <tbody>\n    <tr>\n      <th>0</th>\n      <td>3663549</td>\n      <td>4.715187e-07</td>\n    </tr>\n    <tr>\n      <th>1</th>\n      <td>3663550</td>\n      <td>8.827032e-07</td>\n    </tr>\n    <tr>\n      <th>2</th>\n      <td>3663551</td>\n      <td>4.807896e-07</td>\n    </tr>\n    <tr>\n      <th>3</th>\n      <td>3663552</td>\n      <td>5.349725e-06</td>\n    </tr>\n    <tr>\n      <th>4</th>\n      <td>3663553</td>\n      <td>4.747645e-07</td>\n    </tr>\n  </tbody>\n</table>\n</div>"
     },
     "metadata": {},
     "execution_count": 16
    }
   ],
   "source": [
    "%%time\n",
    "\n",
    "prediction = booster.predict(test_dataframe)\n",
    "\n",
    "output_dataframe = pd.DataFrame({\n",
    "    'TransactionID': transaction_id_data,\n",
    "    'isFraud': pd.Series(prediction),\n",
    "})\n",
    "\n",
    "output_dataframe.to_csv(output_dir_path + 'prediction_1.csv', index=False)\n",
    "output_dataframe.head()"
   ]
  },
  {
   "cell_type": "markdown",
   "metadata": {},
   "source": [
    "## Kaggle result\n",
    "\n",
    "public score: 0.925880  \n",
    "private score: 0.893260 "
   ]
  }
 ],
 "metadata": {
  "language_info": {
   "name": "python",
   "codemirror_mode": {
    "name": "ipython",
    "version": 3
   },
   "version": "3.7.6-final"
  },
  "orig_nbformat": 2,
  "file_extension": ".py",
  "mimetype": "text/x-python",
  "name": "python",
  "npconvert_exporter": "python",
  "pygments_lexer": "ipython3",
  "version": 3,
  "kernelspec": {
   "name": "python37664bit0656ffb61a14454b8758eedef206058e",
   "display_name": "Python 3.7.6 64-bit"
  }
 },
 "nbformat": 4,
 "nbformat_minor": 2
}