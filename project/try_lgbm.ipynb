{
 "nbformat": 4,
 "nbformat_minor": 2,
 "metadata": {
  "language_info": {
   "name": "python",
   "codemirror_mode": {
    "name": "ipython",
    "version": 3
   },
   "version": "3.7.6-final"
  },
  "orig_nbformat": 2,
  "file_extension": ".py",
  "mimetype": "text/x-python",
  "name": "python",
  "npconvert_exporter": "python",
  "pygments_lexer": "ipython3",
  "version": 3,
  "kernelspec": {
   "name": "python37664bit0656ffb61a14454b8758eedef206058e",
   "display_name": "Python 3.7.6 64-bit"
  }
 },
 "cells": [
  {
   "cell_type": "markdown",
   "metadata": {},
   "source": [
    "# evaluate performance of LightGBM using selected features"
   ]
  },
  {
   "cell_type": "markdown",
   "metadata": {},
   "source": [
    "## import libraries"
   ]
  },
  {
   "cell_type": "code",
   "execution_count": 5,
   "metadata": {},
   "outputs": [],
   "source": [
    "import joblib\n",
    "import lightgbm as lgb\n",
    "import numpy as np\n",
    "import pandas as pd\n",
    "\n",
    "from lightgbm import LGBMClassifier\n",
    "from sklearn.metrics import roc_auc_score\n",
    "from sklearn.model_selection import train_test_split\n",
    "from sklearn.preprocessing import LabelEncoder"
   ]
  },
  {
   "cell_type": "markdown",
   "metadata": {},
   "source": [
    "## define utility function to reduce memory usage"
   ]
  },
  {
   "cell_type": "code",
   "execution_count": 6,
   "metadata": {},
   "outputs": [],
   "source": [
    "def reduce_mem_usage(df, verbose=True):\n",
    "    \"\"\"\n",
    "    Reduce dataframe size\n",
    "\n",
    "    params:\n",
    "    - df: dataframe to reduce the size of\n",
    "\n",
    "    return:\n",
    "    - dataframe of reduced size\n",
    "    \"\"\"\n",
    "    numerics = ['int16', 'int32', 'int64', 'float16', 'float32', 'float64', 'float128']\n",
    "    start_mem = df.memory_usage().sum() / 1024**2    \n",
    "\n",
    "    for col in df.columns:\n",
    "        col_type = df[col].dtypes\n",
    "\n",
    "        if col_type in numerics:\n",
    "            c_min = df[col].min()\n",
    "            c_max = df[col].max()\n",
    "\n",
    "            if str(col_type)[:3] == 'int':\n",
    "                if c_min > np.iinfo(np.int8).min and c_max < np.iinfo(np.int8).max:\n",
    "                    df[col] = df[col].astype(np.int8)\n",
    "                elif c_min > np.iinfo(np.int16).min and c_max < np.iinfo(np.int16).max:\n",
    "                    df[col] = df[col].astype(np.int16)\n",
    "                elif c_min > np.iinfo(np.int32).min and c_max < np.iinfo(np.int32).max:\n",
    "                    df[col] = df[col].astype(np.int32)\n",
    "                elif c_min > np.iinfo(np.int64).min and c_max < np.iinfo(np.int64).max:\n",
    "                    df[col] = df[col].astype(np.int64)\n",
    "            else:\n",
    "                if c_min > np.finfo(np.float16).min and c_max < np.finfo(np.float16).max:\n",
    "                    df[col] = df[col].astype(np.float16)\n",
    "                elif c_min > np.finfo(np.float32).min and c_max < np.finfo(np.float32).max:\n",
    "                    df[col] = df[col].astype(np.float32)\n",
    "                elif c_min > np.finfo(np.float64).min and c_max < np.finfo(np.float64).max:\n",
    "                    df[col] = df[col].astype(np.float64)\n",
    "                elif c_min > np.finfo(np.float128).min and c_max < np.finfo(np.float128).max:\n",
    "                    df[col] = df[col].astype(np.float128)\n",
    "                    \n",
    "    end_mem = df.memory_usage().sum() / 1024**2\n",
    "\n",
    "    if verbose: \n",
    "        print(\n",
    "            'Mem. usage decreased to {:5.2f} Mb ({:.1f}% reduction)'.format(\n",
    "            end_mem, 100 * (start_mem - end_mem) / start_mem\n",
    "        ))\n",
    "\n",
    "    return df"
   ]
  },
  {
   "cell_type": "markdown",
   "metadata": {},
   "source": [
    "## list down useless features (known from feature selection)"
   ]
  },
  {
   "cell_type": "code",
   "execution_count": 7,
   "metadata": {},
   "outputs": [],
   "source": [
    "useless_features = [\n",
    "    'TransactionID',  # not really a feature\n",
    "    'dist2',  # transaction features\n",
    "    'C3',  # C features\n",
    "    'D6', 'D7', 'D8', 'D9', 'D12', 'D13', 'D14',  # D features\n",
    "    'M1',  # M features\n",
    "    'id_07', 'id_08', 'id_18', 'id_21', 'id_22', 'id_23',  # id features\n",
    "    'id_24', 'id_25', 'id_26', 'id_27', 'id_28', 'id_35',  # id features\n",
    "    'V6', 'V8', 'V9', 'V10', 'V11', 'V14', 'V15', 'V16',  # V features\n",
    "    'V18', 'V21', 'V22', 'V27', 'V28', 'V31', 'V32',  # V features\n",
    "    'V41', 'V42', 'V46', 'V50', 'V51', 'V59', 'V65',  # V features\n",
    "    'V68', 'V71', 'V72', 'V79', 'V80', 'V84', 'V85',  # V features\n",
    "    'V88', 'V89', 'V92', 'V93', 'V95', 'V98', 'V101',  # V features\n",
    "    'V104', 'V106', 'V107', 'V108', 'V109', 'V110',  # V features\n",
    "    'V111', 'V112', 'V113', 'V114', 'V116', 'V117',  # V features\n",
    "    'V118', 'V119', 'V120', 'V121', 'V122', 'V123',  # V features \n",
    "    'V125', 'V138', 'V141', 'V142', 'V144', 'V146',  # V features \n",
    "    'V147', 'V148', 'V151', 'V153', 'V154', 'V155',  # V features \n",
    "    'V157', 'V158', 'V159', 'V161', 'V163', 'V164',  # V features \n",
    "    'V166', 'V172', 'V173', 'V174', 'V175', 'V176',  # V features \n",
    "    'V177', 'V178', 'V179', 'V180', 'V181', 'V182',  # V features  \n",
    "    'V183', 'V184', 'V185', 'V186', 'V190', 'V191',  # V features  \n",
    "    'V192', 'V193', 'V194', 'V195', 'V196', 'V197',  # V features  \n",
    "    'V198', 'V199', 'V214', 'V216', 'V220', 'V225',  # V features \n",
    "    'V226', 'V227', 'V230', 'V233', 'V235', 'V236',  # V features  \n",
    "    'V237', 'V238', 'V239', 'V240', 'V241', 'V242',  # V features \n",
    "    'V244', 'V246', 'V247', 'V248', 'V249', 'V250',  # V features \n",
    "    'V252', 'V254', 'V255', 'V269', 'V276', 'V297',  # V features \n",
    "    'V300', 'V302', 'V304', 'V305', 'V325', 'V327',  # V features  \n",
    "    'V328', 'V329', 'V330', 'V334', 'V335', 'V336',  # V features \n",
    "    'V337', 'V338', 'V339',  # V features \n",
    "]\n",
    ""
   ]
  },
  {
   "cell_type": "markdown",
   "metadata": {},
   "source": [
    "## load training data"
   ]
  },
  {
   "cell_type": "code",
   "execution_count": 4,
   "metadata": {},
   "outputs": [
    {
     "output_type": "stream",
     "name": "stdout",
     "text": "Mem. usage decreased to 542.35 Mb (69.4% reduction)\n"
    },
    {
     "output_type": "execute_result",
     "data": {
      "text/plain": "   TransactionID  isFraud  TransactionDT  TransactionAmt ProductCD  card1  \\\n0        2987000        0          86400            68.5         W  13926   \n1        2987001        0          86401            29.0         W   2755   \n2        2987002        0          86469            59.0         W   4663   \n3        2987003        0          86499            50.0         W  18132   \n4        2987004        0          86506            50.0         H   4497   \n\n   card2  card3       card4  card5  ... V330  V331  V332  V333  V334 V335  \\\n0    NaN  150.0    discover  142.0  ...  NaN   NaN   NaN   NaN   NaN  NaN   \n1  404.0  150.0  mastercard  102.0  ...  NaN   NaN   NaN   NaN   NaN  NaN   \n2  490.0  150.0        visa  166.0  ...  NaN   NaN   NaN   NaN   NaN  NaN   \n3  567.0  150.0  mastercard  117.0  ...  NaN   NaN   NaN   NaN   NaN  NaN   \n4  514.0  150.0  mastercard  102.0  ...  0.0   0.0   0.0   0.0   0.0  0.0   \n\n  V336  V337  V338  V339  \n0  NaN   NaN   NaN   NaN  \n1  NaN   NaN   NaN   NaN  \n2  NaN   NaN   NaN   NaN  \n3  NaN   NaN   NaN   NaN  \n4  0.0   0.0   0.0   0.0  \n\n[5 rows x 394 columns]",
      "text/html": "<div>\n<style scoped>\n    .dataframe tbody tr th:only-of-type {\n        vertical-align: middle;\n    }\n\n    .dataframe tbody tr th {\n        vertical-align: top;\n    }\n\n    .dataframe thead th {\n        text-align: right;\n    }\n</style>\n<table border=\"1\" class=\"dataframe\">\n  <thead>\n    <tr style=\"text-align: right;\">\n      <th></th>\n      <th>TransactionID</th>\n      <th>isFraud</th>\n      <th>TransactionDT</th>\n      <th>TransactionAmt</th>\n      <th>ProductCD</th>\n      <th>card1</th>\n      <th>card2</th>\n      <th>card3</th>\n      <th>card4</th>\n      <th>card5</th>\n      <th>...</th>\n      <th>V330</th>\n      <th>V331</th>\n      <th>V332</th>\n      <th>V333</th>\n      <th>V334</th>\n      <th>V335</th>\n      <th>V336</th>\n      <th>V337</th>\n      <th>V338</th>\n      <th>V339</th>\n    </tr>\n  </thead>\n  <tbody>\n    <tr>\n      <th>0</th>\n      <td>2987000</td>\n      <td>0</td>\n      <td>86400</td>\n      <td>68.5</td>\n      <td>W</td>\n      <td>13926</td>\n      <td>NaN</td>\n      <td>150.0</td>\n      <td>discover</td>\n      <td>142.0</td>\n      <td>...</td>\n      <td>NaN</td>\n      <td>NaN</td>\n      <td>NaN</td>\n      <td>NaN</td>\n      <td>NaN</td>\n      <td>NaN</td>\n      <td>NaN</td>\n      <td>NaN</td>\n      <td>NaN</td>\n      <td>NaN</td>\n    </tr>\n    <tr>\n      <th>1</th>\n      <td>2987001</td>\n      <td>0</td>\n      <td>86401</td>\n      <td>29.0</td>\n      <td>W</td>\n      <td>2755</td>\n      <td>404.0</td>\n      <td>150.0</td>\n      <td>mastercard</td>\n      <td>102.0</td>\n      <td>...</td>\n      <td>NaN</td>\n      <td>NaN</td>\n      <td>NaN</td>\n      <td>NaN</td>\n      <td>NaN</td>\n      <td>NaN</td>\n      <td>NaN</td>\n      <td>NaN</td>\n      <td>NaN</td>\n      <td>NaN</td>\n    </tr>\n    <tr>\n      <th>2</th>\n      <td>2987002</td>\n      <td>0</td>\n      <td>86469</td>\n      <td>59.0</td>\n      <td>W</td>\n      <td>4663</td>\n      <td>490.0</td>\n      <td>150.0</td>\n      <td>visa</td>\n      <td>166.0</td>\n      <td>...</td>\n      <td>NaN</td>\n      <td>NaN</td>\n      <td>NaN</td>\n      <td>NaN</td>\n      <td>NaN</td>\n      <td>NaN</td>\n      <td>NaN</td>\n      <td>NaN</td>\n      <td>NaN</td>\n      <td>NaN</td>\n    </tr>\n    <tr>\n      <th>3</th>\n      <td>2987003</td>\n      <td>0</td>\n      <td>86499</td>\n      <td>50.0</td>\n      <td>W</td>\n      <td>18132</td>\n      <td>567.0</td>\n      <td>150.0</td>\n      <td>mastercard</td>\n      <td>117.0</td>\n      <td>...</td>\n      <td>NaN</td>\n      <td>NaN</td>\n      <td>NaN</td>\n      <td>NaN</td>\n      <td>NaN</td>\n      <td>NaN</td>\n      <td>NaN</td>\n      <td>NaN</td>\n      <td>NaN</td>\n      <td>NaN</td>\n    </tr>\n    <tr>\n      <th>4</th>\n      <td>2987004</td>\n      <td>0</td>\n      <td>86506</td>\n      <td>50.0</td>\n      <td>H</td>\n      <td>4497</td>\n      <td>514.0</td>\n      <td>150.0</td>\n      <td>mastercard</td>\n      <td>102.0</td>\n      <td>...</td>\n      <td>0.0</td>\n      <td>0.0</td>\n      <td>0.0</td>\n      <td>0.0</td>\n      <td>0.0</td>\n      <td>0.0</td>\n      <td>0.0</td>\n      <td>0.0</td>\n      <td>0.0</td>\n      <td>0.0</td>\n    </tr>\n  </tbody>\n</table>\n<p>5 rows × 394 columns</p>\n</div>"
     },
     "metadata": {},
     "execution_count": 4
    }
   ],
   "source": [
    "transaction_dataframe = pd.read_csv('data/train_transaction.csv')\n",
    "transaction_dataframe = reduce_mem_usage(transaction_dataframe)\n",
    "transaction_dataframe.head()"
   ]
  },
  {
   "cell_type": "code",
   "execution_count": 5,
   "metadata": {},
   "outputs": [
    {
     "output_type": "stream",
     "name": "stdout",
     "text": "Mem. usage decreased to 25.86 Mb (42.7% reduction)\n"
    },
    {
     "output_type": "execute_result",
     "data": {
      "text/plain": "   TransactionID  id_01     id_02  id_03  id_04  id_05  id_06  id_07  id_08  \\\n0        2987004    0.0   70787.0    NaN    NaN    NaN    NaN    NaN    NaN   \n1        2987008   -5.0   98945.0    NaN    NaN    0.0   -5.0    NaN    NaN   \n2        2987010   -5.0  191631.0    0.0    0.0    0.0    0.0    NaN    NaN   \n3        2987011   -5.0  221832.0    NaN    NaN    0.0   -6.0    NaN    NaN   \n4        2987016    0.0    7460.0    0.0    0.0    1.0    0.0    NaN    NaN   \n\n   id_09  ...                id_31  id_32      id_33           id_34  id_35  \\\n0    NaN  ...  samsung browser 6.2   32.0  2220x1080  match_status:2      T   \n1    NaN  ...   mobile safari 11.0   32.0   1334x750  match_status:1      T   \n2    0.0  ...          chrome 62.0    NaN        NaN             NaN      F   \n3    NaN  ...          chrome 62.0    NaN        NaN             NaN      F   \n4    0.0  ...          chrome 62.0   24.0   1280x800  match_status:2      T   \n\n  id_36 id_37  id_38  DeviceType                     DeviceInfo  \n0     F     T      T      mobile  SAMSUNG SM-G892A Build/NRD90M  \n1     F     F      T      mobile                     iOS Device  \n2     F     T      T     desktop                        Windows  \n3     F     T      T     desktop                            NaN  \n4     F     T      T     desktop                          MacOS  \n\n[5 rows x 41 columns]",
      "text/html": "<div>\n<style scoped>\n    .dataframe tbody tr th:only-of-type {\n        vertical-align: middle;\n    }\n\n    .dataframe tbody tr th {\n        vertical-align: top;\n    }\n\n    .dataframe thead th {\n        text-align: right;\n    }\n</style>\n<table border=\"1\" class=\"dataframe\">\n  <thead>\n    <tr style=\"text-align: right;\">\n      <th></th>\n      <th>TransactionID</th>\n      <th>id_01</th>\n      <th>id_02</th>\n      <th>id_03</th>\n      <th>id_04</th>\n      <th>id_05</th>\n      <th>id_06</th>\n      <th>id_07</th>\n      <th>id_08</th>\n      <th>id_09</th>\n      <th>...</th>\n      <th>id_31</th>\n      <th>id_32</th>\n      <th>id_33</th>\n      <th>id_34</th>\n      <th>id_35</th>\n      <th>id_36</th>\n      <th>id_37</th>\n      <th>id_38</th>\n      <th>DeviceType</th>\n      <th>DeviceInfo</th>\n    </tr>\n  </thead>\n  <tbody>\n    <tr>\n      <th>0</th>\n      <td>2987004</td>\n      <td>0.0</td>\n      <td>70787.0</td>\n      <td>NaN</td>\n      <td>NaN</td>\n      <td>NaN</td>\n      <td>NaN</td>\n      <td>NaN</td>\n      <td>NaN</td>\n      <td>NaN</td>\n      <td>...</td>\n      <td>samsung browser 6.2</td>\n      <td>32.0</td>\n      <td>2220x1080</td>\n      <td>match_status:2</td>\n      <td>T</td>\n      <td>F</td>\n      <td>T</td>\n      <td>T</td>\n      <td>mobile</td>\n      <td>SAMSUNG SM-G892A Build/NRD90M</td>\n    </tr>\n    <tr>\n      <th>1</th>\n      <td>2987008</td>\n      <td>-5.0</td>\n      <td>98945.0</td>\n      <td>NaN</td>\n      <td>NaN</td>\n      <td>0.0</td>\n      <td>-5.0</td>\n      <td>NaN</td>\n      <td>NaN</td>\n      <td>NaN</td>\n      <td>...</td>\n      <td>mobile safari 11.0</td>\n      <td>32.0</td>\n      <td>1334x750</td>\n      <td>match_status:1</td>\n      <td>T</td>\n      <td>F</td>\n      <td>F</td>\n      <td>T</td>\n      <td>mobile</td>\n      <td>iOS Device</td>\n    </tr>\n    <tr>\n      <th>2</th>\n      <td>2987010</td>\n      <td>-5.0</td>\n      <td>191631.0</td>\n      <td>0.0</td>\n      <td>0.0</td>\n      <td>0.0</td>\n      <td>0.0</td>\n      <td>NaN</td>\n      <td>NaN</td>\n      <td>0.0</td>\n      <td>...</td>\n      <td>chrome 62.0</td>\n      <td>NaN</td>\n      <td>NaN</td>\n      <td>NaN</td>\n      <td>F</td>\n      <td>F</td>\n      <td>T</td>\n      <td>T</td>\n      <td>desktop</td>\n      <td>Windows</td>\n    </tr>\n    <tr>\n      <th>3</th>\n      <td>2987011</td>\n      <td>-5.0</td>\n      <td>221832.0</td>\n      <td>NaN</td>\n      <td>NaN</td>\n      <td>0.0</td>\n      <td>-6.0</td>\n      <td>NaN</td>\n      <td>NaN</td>\n      <td>NaN</td>\n      <td>...</td>\n      <td>chrome 62.0</td>\n      <td>NaN</td>\n      <td>NaN</td>\n      <td>NaN</td>\n      <td>F</td>\n      <td>F</td>\n      <td>T</td>\n      <td>T</td>\n      <td>desktop</td>\n      <td>NaN</td>\n    </tr>\n    <tr>\n      <th>4</th>\n      <td>2987016</td>\n      <td>0.0</td>\n      <td>7460.0</td>\n      <td>0.0</td>\n      <td>0.0</td>\n      <td>1.0</td>\n      <td>0.0</td>\n      <td>NaN</td>\n      <td>NaN</td>\n      <td>0.0</td>\n      <td>...</td>\n      <td>chrome 62.0</td>\n      <td>24.0</td>\n      <td>1280x800</td>\n      <td>match_status:2</td>\n      <td>T</td>\n      <td>F</td>\n      <td>T</td>\n      <td>T</td>\n      <td>desktop</td>\n      <td>MacOS</td>\n    </tr>\n  </tbody>\n</table>\n<p>5 rows × 41 columns</p>\n</div>"
     },
     "metadata": {},
     "execution_count": 5
    }
   ],
   "source": [
    "identity_dataframe = pd.read_csv('data/train_identity.csv')\n",
    "identity_dataframe = reduce_mem_usage(identity_dataframe)\n",
    "identity_dataframe.head()"
   ]
  },
  {
   "cell_type": "code",
   "execution_count": 6,
   "metadata": {},
   "outputs": [
    {
     "output_type": "execute_result",
     "data": {
      "text/plain": "   TransactionID  isFraud  TransactionDT  TransactionAmt ProductCD  card1  \\\n0        2987000        0          86400            68.5         W  13926   \n1        2987001        0          86401            29.0         W   2755   \n2        2987002        0          86469            59.0         W   4663   \n3        2987003        0          86499            50.0         W  18132   \n4        2987004        0          86506            50.0         H   4497   \n\n   card2  card3       card4  card5  ...                id_31  id_32  \\\n0    NaN  150.0    discover  142.0  ...                  NaN    NaN   \n1  404.0  150.0  mastercard  102.0  ...                  NaN    NaN   \n2  490.0  150.0        visa  166.0  ...                  NaN    NaN   \n3  567.0  150.0  mastercard  117.0  ...                  NaN    NaN   \n4  514.0  150.0  mastercard  102.0  ...  samsung browser 6.2   32.0   \n\n       id_33           id_34  id_35 id_36 id_37  id_38  DeviceType  \\\n0        NaN             NaN    NaN   NaN   NaN    NaN         NaN   \n1        NaN             NaN    NaN   NaN   NaN    NaN         NaN   \n2        NaN             NaN    NaN   NaN   NaN    NaN         NaN   \n3        NaN             NaN    NaN   NaN   NaN    NaN         NaN   \n4  2220x1080  match_status:2      T     F     T      T      mobile   \n\n                      DeviceInfo  \n0                            NaN  \n1                            NaN  \n2                            NaN  \n3                            NaN  \n4  SAMSUNG SM-G892A Build/NRD90M  \n\n[5 rows x 434 columns]",
      "text/html": "<div>\n<style scoped>\n    .dataframe tbody tr th:only-of-type {\n        vertical-align: middle;\n    }\n\n    .dataframe tbody tr th {\n        vertical-align: top;\n    }\n\n    .dataframe thead th {\n        text-align: right;\n    }\n</style>\n<table border=\"1\" class=\"dataframe\">\n  <thead>\n    <tr style=\"text-align: right;\">\n      <th></th>\n      <th>TransactionID</th>\n      <th>isFraud</th>\n      <th>TransactionDT</th>\n      <th>TransactionAmt</th>\n      <th>ProductCD</th>\n      <th>card1</th>\n      <th>card2</th>\n      <th>card3</th>\n      <th>card4</th>\n      <th>card5</th>\n      <th>...</th>\n      <th>id_31</th>\n      <th>id_32</th>\n      <th>id_33</th>\n      <th>id_34</th>\n      <th>id_35</th>\n      <th>id_36</th>\n      <th>id_37</th>\n      <th>id_38</th>\n      <th>DeviceType</th>\n      <th>DeviceInfo</th>\n    </tr>\n  </thead>\n  <tbody>\n    <tr>\n      <th>0</th>\n      <td>2987000</td>\n      <td>0</td>\n      <td>86400</td>\n      <td>68.5</td>\n      <td>W</td>\n      <td>13926</td>\n      <td>NaN</td>\n      <td>150.0</td>\n      <td>discover</td>\n      <td>142.0</td>\n      <td>...</td>\n      <td>NaN</td>\n      <td>NaN</td>\n      <td>NaN</td>\n      <td>NaN</td>\n      <td>NaN</td>\n      <td>NaN</td>\n      <td>NaN</td>\n      <td>NaN</td>\n      <td>NaN</td>\n      <td>NaN</td>\n    </tr>\n    <tr>\n      <th>1</th>\n      <td>2987001</td>\n      <td>0</td>\n      <td>86401</td>\n      <td>29.0</td>\n      <td>W</td>\n      <td>2755</td>\n      <td>404.0</td>\n      <td>150.0</td>\n      <td>mastercard</td>\n      <td>102.0</td>\n      <td>...</td>\n      <td>NaN</td>\n      <td>NaN</td>\n      <td>NaN</td>\n      <td>NaN</td>\n      <td>NaN</td>\n      <td>NaN</td>\n      <td>NaN</td>\n      <td>NaN</td>\n      <td>NaN</td>\n      <td>NaN</td>\n    </tr>\n    <tr>\n      <th>2</th>\n      <td>2987002</td>\n      <td>0</td>\n      <td>86469</td>\n      <td>59.0</td>\n      <td>W</td>\n      <td>4663</td>\n      <td>490.0</td>\n      <td>150.0</td>\n      <td>visa</td>\n      <td>166.0</td>\n      <td>...</td>\n      <td>NaN</td>\n      <td>NaN</td>\n      <td>NaN</td>\n      <td>NaN</td>\n      <td>NaN</td>\n      <td>NaN</td>\n      <td>NaN</td>\n      <td>NaN</td>\n      <td>NaN</td>\n      <td>NaN</td>\n    </tr>\n    <tr>\n      <th>3</th>\n      <td>2987003</td>\n      <td>0</td>\n      <td>86499</td>\n      <td>50.0</td>\n      <td>W</td>\n      <td>18132</td>\n      <td>567.0</td>\n      <td>150.0</td>\n      <td>mastercard</td>\n      <td>117.0</td>\n      <td>...</td>\n      <td>NaN</td>\n      <td>NaN</td>\n      <td>NaN</td>\n      <td>NaN</td>\n      <td>NaN</td>\n      <td>NaN</td>\n      <td>NaN</td>\n      <td>NaN</td>\n      <td>NaN</td>\n      <td>NaN</td>\n    </tr>\n    <tr>\n      <th>4</th>\n      <td>2987004</td>\n      <td>0</td>\n      <td>86506</td>\n      <td>50.0</td>\n      <td>H</td>\n      <td>4497</td>\n      <td>514.0</td>\n      <td>150.0</td>\n      <td>mastercard</td>\n      <td>102.0</td>\n      <td>...</td>\n      <td>samsung browser 6.2</td>\n      <td>32.0</td>\n      <td>2220x1080</td>\n      <td>match_status:2</td>\n      <td>T</td>\n      <td>F</td>\n      <td>T</td>\n      <td>T</td>\n      <td>mobile</td>\n      <td>SAMSUNG SM-G892A Build/NRD90M</td>\n    </tr>\n  </tbody>\n</table>\n<p>5 rows × 434 columns</p>\n</div>"
     },
     "metadata": {},
     "execution_count": 6
    }
   ],
   "source": [
    "dataframe = transaction_dataframe.merge(identity_dataframe, how='outer')\n",
    "dataframe.head()"
   ]
  },
  {
   "cell_type": "markdown",
   "metadata": {},
   "source": [
    "## drop useless features"
   ]
  },
  {
   "cell_type": "code",
   "execution_count": 7,
   "metadata": {},
   "outputs": [
    {
     "output_type": "execute_result",
     "data": {
      "text/plain": "   isFraud  TransactionDT  TransactionAmt ProductCD  card1  card2  card3  \\\n0        0          86400            68.5         W  13926    NaN  150.0   \n1        0          86401            29.0         W   2755  404.0  150.0   \n2        0          86469            59.0         W   4663  490.0  150.0   \n3        0          86499            50.0         W  18132  567.0  150.0   \n4        0          86506            50.0         H   4497  514.0  150.0   \n\n        card4  card5   card6  ...        id_30                id_31  id_32  \\\n0    discover  142.0  credit  ...          NaN                  NaN    NaN   \n1  mastercard  102.0  credit  ...          NaN                  NaN    NaN   \n2        visa  166.0   debit  ...          NaN                  NaN    NaN   \n3  mastercard  117.0   debit  ...          NaN                  NaN    NaN   \n4  mastercard  102.0  credit  ...  Android 7.0  samsung browser 6.2   32.0   \n\n       id_33           id_34  id_36  id_37  id_38  DeviceType  \\\n0        NaN             NaN    NaN    NaN    NaN         NaN   \n1        NaN             NaN    NaN    NaN    NaN         NaN   \n2        NaN             NaN    NaN    NaN    NaN         NaN   \n3        NaN             NaN    NaN    NaN    NaN         NaN   \n4  2220x1080  match_status:2      F      T      T      mobile   \n\n                      DeviceInfo  \n0                            NaN  \n1                            NaN  \n2                            NaN  \n3                            NaN  \n4  SAMSUNG SM-G892A Build/NRD90M  \n\n[5 rows x 270 columns]",
      "text/html": "<div>\n<style scoped>\n    .dataframe tbody tr th:only-of-type {\n        vertical-align: middle;\n    }\n\n    .dataframe tbody tr th {\n        vertical-align: top;\n    }\n\n    .dataframe thead th {\n        text-align: right;\n    }\n</style>\n<table border=\"1\" class=\"dataframe\">\n  <thead>\n    <tr style=\"text-align: right;\">\n      <th></th>\n      <th>isFraud</th>\n      <th>TransactionDT</th>\n      <th>TransactionAmt</th>\n      <th>ProductCD</th>\n      <th>card1</th>\n      <th>card2</th>\n      <th>card3</th>\n      <th>card4</th>\n      <th>card5</th>\n      <th>card6</th>\n      <th>...</th>\n      <th>id_30</th>\n      <th>id_31</th>\n      <th>id_32</th>\n      <th>id_33</th>\n      <th>id_34</th>\n      <th>id_36</th>\n      <th>id_37</th>\n      <th>id_38</th>\n      <th>DeviceType</th>\n      <th>DeviceInfo</th>\n    </tr>\n  </thead>\n  <tbody>\n    <tr>\n      <th>0</th>\n      <td>0</td>\n      <td>86400</td>\n      <td>68.5</td>\n      <td>W</td>\n      <td>13926</td>\n      <td>NaN</td>\n      <td>150.0</td>\n      <td>discover</td>\n      <td>142.0</td>\n      <td>credit</td>\n      <td>...</td>\n      <td>NaN</td>\n      <td>NaN</td>\n      <td>NaN</td>\n      <td>NaN</td>\n      <td>NaN</td>\n      <td>NaN</td>\n      <td>NaN</td>\n      <td>NaN</td>\n      <td>NaN</td>\n      <td>NaN</td>\n    </tr>\n    <tr>\n      <th>1</th>\n      <td>0</td>\n      <td>86401</td>\n      <td>29.0</td>\n      <td>W</td>\n      <td>2755</td>\n      <td>404.0</td>\n      <td>150.0</td>\n      <td>mastercard</td>\n      <td>102.0</td>\n      <td>credit</td>\n      <td>...</td>\n      <td>NaN</td>\n      <td>NaN</td>\n      <td>NaN</td>\n      <td>NaN</td>\n      <td>NaN</td>\n      <td>NaN</td>\n      <td>NaN</td>\n      <td>NaN</td>\n      <td>NaN</td>\n      <td>NaN</td>\n    </tr>\n    <tr>\n      <th>2</th>\n      <td>0</td>\n      <td>86469</td>\n      <td>59.0</td>\n      <td>W</td>\n      <td>4663</td>\n      <td>490.0</td>\n      <td>150.0</td>\n      <td>visa</td>\n      <td>166.0</td>\n      <td>debit</td>\n      <td>...</td>\n      <td>NaN</td>\n      <td>NaN</td>\n      <td>NaN</td>\n      <td>NaN</td>\n      <td>NaN</td>\n      <td>NaN</td>\n      <td>NaN</td>\n      <td>NaN</td>\n      <td>NaN</td>\n      <td>NaN</td>\n    </tr>\n    <tr>\n      <th>3</th>\n      <td>0</td>\n      <td>86499</td>\n      <td>50.0</td>\n      <td>W</td>\n      <td>18132</td>\n      <td>567.0</td>\n      <td>150.0</td>\n      <td>mastercard</td>\n      <td>117.0</td>\n      <td>debit</td>\n      <td>...</td>\n      <td>NaN</td>\n      <td>NaN</td>\n      <td>NaN</td>\n      <td>NaN</td>\n      <td>NaN</td>\n      <td>NaN</td>\n      <td>NaN</td>\n      <td>NaN</td>\n      <td>NaN</td>\n      <td>NaN</td>\n    </tr>\n    <tr>\n      <th>4</th>\n      <td>0</td>\n      <td>86506</td>\n      <td>50.0</td>\n      <td>H</td>\n      <td>4497</td>\n      <td>514.0</td>\n      <td>150.0</td>\n      <td>mastercard</td>\n      <td>102.0</td>\n      <td>credit</td>\n      <td>...</td>\n      <td>Android 7.0</td>\n      <td>samsung browser 6.2</td>\n      <td>32.0</td>\n      <td>2220x1080</td>\n      <td>match_status:2</td>\n      <td>F</td>\n      <td>T</td>\n      <td>T</td>\n      <td>mobile</td>\n      <td>SAMSUNG SM-G892A Build/NRD90M</td>\n    </tr>\n  </tbody>\n</table>\n<p>5 rows × 270 columns</p>\n</div>"
     },
     "metadata": {},
     "execution_count": 7
    }
   ],
   "source": [
    "dataframe = dataframe.drop(useless_features, axis=1)\n",
    "dataframe.head()"
   ]
  },
  {
   "cell_type": "markdown",
   "metadata": {},
   "source": [
    "## preprocessing - disregard OS versions"
   ]
  },
  {
   "cell_type": "code",
   "execution_count": 8,
   "metadata": {},
   "outputs": [
    {
     "output_type": "stream",
     "name": "stdout",
     "text": "['other' 'Android' 'iOS' 'Mac OS X' 'Windows']\n"
    }
   ],
   "source": [
    "for index, operating_system in dataframe.id_30.iteritems():\n",
    "    if not isinstance(operating_system, str):\n",
    "        operating_system = 'other'\n",
    "\n",
    "    elif 'Android' in operating_system:\n",
    "        operating_system = 'Android'\n",
    "    \n",
    "    elif 'iOS' in operating_system:\n",
    "        operating_system = 'iOS'\n",
    "\n",
    "    elif 'Mac OS X' in operating_system:\n",
    "        operating_system = 'Mac OS X'\n",
    "\n",
    "    elif 'Windows' in operating_system:\n",
    "        operating_system = 'Windows'\n",
    "\n",
    "    else:\n",
    "        operating_system = 'other'\n",
    "\n",
    "    dataframe.at[index, 'id_30'] = operating_system\n",
    "\n",
    "print(dataframe.id_30.unique())"
   ]
  },
  {
   "cell_type": "markdown",
   "metadata": {},
   "source": [
    "## preprocessing - disregard browser versions"
   ]
  },
  {
   "cell_type": "code",
   "execution_count": 9,
   "metadata": {},
   "outputs": [
    {
     "output_type": "stream",
     "name": "stdout",
     "text": "['other' 'samsung' 'safari' 'chrome' 'edge' 'firefox' 'ie' 'opera' 'aol'\n 'silk' 'waterfox' 'puffin' 'cyberfox' 'palemoon' 'maxthon' 'iron'\n 'seamonkey' 'comodo' 'chromium' 'icedragon']\n"
    }
   ],
   "source": [
    "browser_list = [\n",
    "    'aol',\n",
    "    'chrome',\n",
    "    'chromium',\n",
    "    'comodo',\n",
    "    'cyberfox',\n",
    "    'edge',\n",
    "    'firefox',\n",
    "    'icedragon',\n",
    "    'ie',\n",
    "    'iron',\n",
    "    'maxthon',\n",
    "    'opera',\n",
    "    'palemoon',\n",
    "    'puffin',\n",
    "    'safari',\n",
    "    'samsung',\n",
    "    'seamonkey',\n",
    "    'silk',\n",
    "    'waterfox',\n",
    "]\n",
    "\n",
    "for index, browser in dataframe.id_31.iteritems():\n",
    "    new_browser = 'other'\n",
    "\n",
    "    if isinstance(browser, str):\n",
    "        for known_browser in browser_list:\n",
    "            if known_browser in browser:\n",
    "                new_browser = known_browser\n",
    "                break\n",
    "\n",
    "    dataframe.at[index, 'id_31'] = new_browser\n",
    "\n",
    "print(dataframe.id_31.unique())"
   ]
  },
  {
   "cell_type": "markdown",
   "metadata": {},
   "source": [
    "## do rest of preprocessing\n",
    "\n",
    "- convert object columns to string columns\n",
    "- imputation (for numbers, fill with interquartile mean)\n",
    "- do label encoding for non-numeric values\n",
    "- reduce memory usage again"
   ]
  },
  {
   "cell_type": "code",
   "execution_count": 10,
   "metadata": {},
   "outputs": [
    {
     "output_type": "stream",
     "name": "stdout",
     "text": "Mem. usage decreased to 357.35 Mb (22.1% reduction)\n"
    }
   ],
   "source": [
    "le = LabelEncoder()\n",
    "\n",
    "for column in dataframe.columns:\n",
    "    if dataframe[column].dtype == 'object':\n",
    "        dataframe[column]= dataframe[column].astype(str)\n",
    "        dataframe[column] = le.fit_transform(dataframe[column])\n",
    "    else:\n",
    "        dataframe[column] = dataframe[column].fillna(dataframe[column].quantile().mean())\n",
    "\n",
    "dataframe = reduce_mem_usage(dataframe)"
   ]
  },
  {
   "cell_type": "markdown",
   "metadata": {},
   "source": [
    "## separate data into features and target variable"
   ]
  },
  {
   "cell_type": "code",
   "execution_count": 11,
   "metadata": {},
   "outputs": [],
   "source": [
    "features_dataframe = dataframe.drop('isFraud', axis=1)\n",
    "is_fraud_data = dataframe['isFraud']"
   ]
  },
  {
   "cell_type": "markdown",
   "metadata": {},
   "source": [
    "## split into training and validation sets"
   ]
  },
  {
   "cell_type": "code",
   "execution_count": 12,
   "metadata": {},
   "outputs": [],
   "source": [
    "train_features, val_features, train_target, val_target = train_test_split(\n",
    "    features_dataframe, \n",
    "    is_fraud_data, \n",
    "    test_size=0.2,\n",
    ")"
   ]
  },
  {
   "cell_type": "markdown",
   "metadata": {},
   "source": [
    "## train LightGBM\n",
    "\n",
    "- using (almost) default parameters"
   ]
  },
  {
   "cell_type": "code",
   "execution_count": 13,
   "metadata": {},
   "outputs": [
    {
     "output_type": "stream",
     "name": "stdout",
     "text": "CPU times: user 1min 12s, sys: 314 ms, total: 1min 12s\nWall time: 37.4 s\n"
    }
   ],
   "source": [
    "%%time\n",
    "\n",
    "lgbm_classifier = LGBMClassifier(n_jobs=2)\n",
    "lgbm = lgbm_classifier.fit(train_features, train_target, eval_metric='auc')"
   ]
  },
  {
   "cell_type": "markdown",
   "metadata": {},
   "source": [
    "## evaluate model"
   ]
  },
  {
   "cell_type": "code",
   "execution_count": 14,
   "metadata": {},
   "outputs": [
    {
     "output_type": "execute_result",
     "data": {
      "text/plain": "0.7219467870786597"
     },
     "metadata": {},
     "execution_count": 14
    }
   ],
   "source": [
    "prediction = lgbm.predict(val_features)\n",
    "roc_auc_score(val_target, prediction)"
   ]
  },
  {
   "cell_type": "markdown",
   "metadata": {},
   "source": [
    "## try following [reference notebook](https://www.kaggle.com/nroman/lgb-single-model-lb-0-9419)"
   ]
  },
  {
   "cell_type": "code",
   "execution_count": 15,
   "metadata": {},
   "outputs": [],
   "source": [
    "params = {\n",
    "    'num_leaves': 491,\n",
    "    'min_child_weight': 0.03454472573214212,\n",
    "    'feature_fraction': 0.3797454081646243,\n",
    "    'bagging_fraction': 0.4181193142567742,\n",
    "    'min_data_in_leaf': 106,\n",
    "    'objective': 'binary',\n",
    "    'max_depth': -1,\n",
    "    'learning_rate': 0.006883242363721497,\n",
    "    'boosting_type': 'gbdt',\n",
    "    'bagging_seed': 11,\n",
    "    'metric': 'auc',\n",
    "    'verbosity': -1,\n",
    "    'reg_alpha': 0.3899927210061127,\n",
    "    'reg_lambda': 0.6485237330340494,\n",
    "    'random_state': 47,\n",
    "}"
   ]
  },
  {
   "cell_type": "code",
   "execution_count": 16,
   "metadata": {},
   "outputs": [
    {
     "output_type": "stream",
     "name": "stdout",
     "text": "Training until validation scores don't improve for 500 rounds\n[1000]\ttraining's auc: 0.993359\tvalid_1's auc: 0.96634\n[2000]\ttraining's auc: 0.999168\tvalid_1's auc: 0.972949\n[3000]\ttraining's auc: 0.999886\tvalid_1's auc: 0.974516\n[4000]\ttraining's auc: 0.99999\tvalid_1's auc: 0.97489\nEarly stopping, best iteration is:\n[4310]\ttraining's auc: 0.999996\tvalid_1's auc: 0.974925\nCPU times: user 1h 13min 29s, sys: 6.58 s, total: 1h 13min 36s\nWall time: 36min 52s\n"
    },
    {
     "output_type": "execute_result",
     "data": {
      "text/plain": "0.9749247375395002"
     },
     "metadata": {},
     "execution_count": 16
    }
   ],
   "source": [
    "%%time\n",
    "\n",
    "train_data = lgb.Dataset(train_features, train_target)\n",
    "val_data = lgb.Dataset(val_features, val_target)\n",
    "\n",
    "lgbm = lgb.train(\n",
    "    params, \n",
    "    train_data, \n",
    "    10000, \n",
    "    valid_sets = [train_data, val_data],\n",
    "    verbose_eval=1000,\n",
    "    early_stopping_rounds=500,\n",
    ")\n",
    "\n",
    "prediction = lgbm.predict(val_features)\n",
    "roc_auc_score(val_target, prediction)"
   ]
  },
  {
   "cell_type": "markdown",
   "metadata": {},
   "source": [
    "## save model"
   ]
  },
  {
   "cell_type": "code",
   "execution_count": 18,
   "metadata": {},
   "outputs": [
    {
     "output_type": "execute_result",
     "data": {
      "text/plain": "['models/lgbm.joblib']"
     },
     "metadata": {},
     "execution_count": 18
    }
   ],
   "source": [
    "joblib.dump(lgbm, 'models/lgbm.joblib')"
   ]
  },
  {
   "cell_type": "markdown",
   "metadata": {},
   "source": [
    "## load test data"
   ]
  },
  {
   "cell_type": "code",
   "execution_count": 25,
   "metadata": {},
   "outputs": [
    {
     "output_type": "stream",
     "name": "stdout",
     "text": "Mem. usage decreased to 472.59 Mb (68.9% reduction)\n"
    },
    {
     "output_type": "execute_result",
     "data": {
      "text/plain": "   TransactionID  TransactionDT  TransactionAmt ProductCD  card1  card2  \\\n0        3663549       18403224       31.953125         W  10409  111.0   \n1        3663550       18403263       49.000000         W   4272  111.0   \n2        3663551       18403310      171.000000         W   4476  574.0   \n3        3663552       18403310      285.000000         W  10989  360.0   \n4        3663553       18403317       67.937500         W  18018  452.0   \n\n   card3       card4  card5  card6  ...  V330  V331  V332  V333 V334 V335  \\\n0  150.0        visa  226.0  debit  ...   NaN   NaN   NaN   NaN  NaN  NaN   \n1  150.0        visa  226.0  debit  ...   NaN   NaN   NaN   NaN  NaN  NaN   \n2  150.0        visa  226.0  debit  ...   NaN   NaN   NaN   NaN  NaN  NaN   \n3  150.0        visa  166.0  debit  ...   NaN   NaN   NaN   NaN  NaN  NaN   \n4  150.0  mastercard  117.0  debit  ...   NaN   NaN   NaN   NaN  NaN  NaN   \n\n   V336  V337  V338  V339  \n0   NaN   NaN   NaN   NaN  \n1   NaN   NaN   NaN   NaN  \n2   NaN   NaN   NaN   NaN  \n3   NaN   NaN   NaN   NaN  \n4   NaN   NaN   NaN   NaN  \n\n[5 rows x 393 columns]",
      "text/html": "<div>\n<style scoped>\n    .dataframe tbody tr th:only-of-type {\n        vertical-align: middle;\n    }\n\n    .dataframe tbody tr th {\n        vertical-align: top;\n    }\n\n    .dataframe thead th {\n        text-align: right;\n    }\n</style>\n<table border=\"1\" class=\"dataframe\">\n  <thead>\n    <tr style=\"text-align: right;\">\n      <th></th>\n      <th>TransactionID</th>\n      <th>TransactionDT</th>\n      <th>TransactionAmt</th>\n      <th>ProductCD</th>\n      <th>card1</th>\n      <th>card2</th>\n      <th>card3</th>\n      <th>card4</th>\n      <th>card5</th>\n      <th>card6</th>\n      <th>...</th>\n      <th>V330</th>\n      <th>V331</th>\n      <th>V332</th>\n      <th>V333</th>\n      <th>V334</th>\n      <th>V335</th>\n      <th>V336</th>\n      <th>V337</th>\n      <th>V338</th>\n      <th>V339</th>\n    </tr>\n  </thead>\n  <tbody>\n    <tr>\n      <th>0</th>\n      <td>3663549</td>\n      <td>18403224</td>\n      <td>31.953125</td>\n      <td>W</td>\n      <td>10409</td>\n      <td>111.0</td>\n      <td>150.0</td>\n      <td>visa</td>\n      <td>226.0</td>\n      <td>debit</td>\n      <td>...</td>\n      <td>NaN</td>\n      <td>NaN</td>\n      <td>NaN</td>\n      <td>NaN</td>\n      <td>NaN</td>\n      <td>NaN</td>\n      <td>NaN</td>\n      <td>NaN</td>\n      <td>NaN</td>\n      <td>NaN</td>\n    </tr>\n    <tr>\n      <th>1</th>\n      <td>3663550</td>\n      <td>18403263</td>\n      <td>49.000000</td>\n      <td>W</td>\n      <td>4272</td>\n      <td>111.0</td>\n      <td>150.0</td>\n      <td>visa</td>\n      <td>226.0</td>\n      <td>debit</td>\n      <td>...</td>\n      <td>NaN</td>\n      <td>NaN</td>\n      <td>NaN</td>\n      <td>NaN</td>\n      <td>NaN</td>\n      <td>NaN</td>\n      <td>NaN</td>\n      <td>NaN</td>\n      <td>NaN</td>\n      <td>NaN</td>\n    </tr>\n    <tr>\n      <th>2</th>\n      <td>3663551</td>\n      <td>18403310</td>\n      <td>171.000000</td>\n      <td>W</td>\n      <td>4476</td>\n      <td>574.0</td>\n      <td>150.0</td>\n      <td>visa</td>\n      <td>226.0</td>\n      <td>debit</td>\n      <td>...</td>\n      <td>NaN</td>\n      <td>NaN</td>\n      <td>NaN</td>\n      <td>NaN</td>\n      <td>NaN</td>\n      <td>NaN</td>\n      <td>NaN</td>\n      <td>NaN</td>\n      <td>NaN</td>\n      <td>NaN</td>\n    </tr>\n    <tr>\n      <th>3</th>\n      <td>3663552</td>\n      <td>18403310</td>\n      <td>285.000000</td>\n      <td>W</td>\n      <td>10989</td>\n      <td>360.0</td>\n      <td>150.0</td>\n      <td>visa</td>\n      <td>166.0</td>\n      <td>debit</td>\n      <td>...</td>\n      <td>NaN</td>\n      <td>NaN</td>\n      <td>NaN</td>\n      <td>NaN</td>\n      <td>NaN</td>\n      <td>NaN</td>\n      <td>NaN</td>\n      <td>NaN</td>\n      <td>NaN</td>\n      <td>NaN</td>\n    </tr>\n    <tr>\n      <th>4</th>\n      <td>3663553</td>\n      <td>18403317</td>\n      <td>67.937500</td>\n      <td>W</td>\n      <td>18018</td>\n      <td>452.0</td>\n      <td>150.0</td>\n      <td>mastercard</td>\n      <td>117.0</td>\n      <td>debit</td>\n      <td>...</td>\n      <td>NaN</td>\n      <td>NaN</td>\n      <td>NaN</td>\n      <td>NaN</td>\n      <td>NaN</td>\n      <td>NaN</td>\n      <td>NaN</td>\n      <td>NaN</td>\n      <td>NaN</td>\n      <td>NaN</td>\n    </tr>\n  </tbody>\n</table>\n<p>5 rows × 393 columns</p>\n</div>"
     },
     "metadata": {},
     "execution_count": 25
    }
   ],
   "source": [
    "transaction_dataframe = pd.read_csv('data/test_transaction.csv')\n",
    "transaction_dataframe = reduce_mem_usage(transaction_dataframe)\n",
    "transaction_dataframe.head()"
   ]
  },
  {
   "cell_type": "code",
   "execution_count": 15,
   "metadata": {},
   "outputs": [
    {
     "output_type": "stream",
     "name": "stdout",
     "text": "Mem. usage decreased to 25.44 Mb (42.7% reduction)\n"
    },
    {
     "output_type": "execute_result",
     "data": {
      "text/plain": "   TransactionID  id_01     id_02  id_03  id_04  id_05  id_06  id_07  id_08  \\\n0        3663586  -45.0  280290.0    NaN    NaN    0.0    0.0    NaN    NaN   \n1        3663588    0.0    3579.0    0.0    0.0    0.0    0.0    NaN    NaN   \n2        3663597   -5.0  185210.0    NaN    NaN    1.0    0.0    NaN    NaN   \n3        3663601  -45.0  252944.0    0.0    0.0    0.0    0.0    NaN    NaN   \n4        3663602  -95.0  328680.0    NaN    NaN    7.0  -33.0    NaN    NaN   \n\n   id_09  ...                    id_31  id_32     id_33           id_34  \\\n0    NaN  ...  chrome 67.0 for android    NaN       NaN             NaN   \n1    0.0  ...  chrome 67.0 for android   24.0  1280x720  match_status:2   \n2    NaN  ...       ie 11.0 for tablet    NaN       NaN             NaN   \n3    0.0  ...  chrome 67.0 for android    NaN       NaN             NaN   \n4    NaN  ...  chrome 67.0 for android    NaN       NaN             NaN   \n\n   id_35 id_36 id_37  id_38  DeviceType                   DeviceInfo  \n0      F     F     T      F      mobile  MYA-L13 Build/HUAWEIMYA-L13  \n1      T     F     T      T      mobile         LGLS676 Build/MXB48T  \n2      F     T     T      F     desktop                  Trident/7.0  \n3      F     F     T      F      mobile  MYA-L13 Build/HUAWEIMYA-L13  \n4      F     F     T      F      mobile         SM-G9650 Build/R16NW  \n\n[5 rows x 41 columns]",
      "text/html": "<div>\n<style scoped>\n    .dataframe tbody tr th:only-of-type {\n        vertical-align: middle;\n    }\n\n    .dataframe tbody tr th {\n        vertical-align: top;\n    }\n\n    .dataframe thead th {\n        text-align: right;\n    }\n</style>\n<table border=\"1\" class=\"dataframe\">\n  <thead>\n    <tr style=\"text-align: right;\">\n      <th></th>\n      <th>TransactionID</th>\n      <th>id_01</th>\n      <th>id_02</th>\n      <th>id_03</th>\n      <th>id_04</th>\n      <th>id_05</th>\n      <th>id_06</th>\n      <th>id_07</th>\n      <th>id_08</th>\n      <th>id_09</th>\n      <th>...</th>\n      <th>id_31</th>\n      <th>id_32</th>\n      <th>id_33</th>\n      <th>id_34</th>\n      <th>id_35</th>\n      <th>id_36</th>\n      <th>id_37</th>\n      <th>id_38</th>\n      <th>DeviceType</th>\n      <th>DeviceInfo</th>\n    </tr>\n  </thead>\n  <tbody>\n    <tr>\n      <th>0</th>\n      <td>3663586</td>\n      <td>-45.0</td>\n      <td>280290.0</td>\n      <td>NaN</td>\n      <td>NaN</td>\n      <td>0.0</td>\n      <td>0.0</td>\n      <td>NaN</td>\n      <td>NaN</td>\n      <td>NaN</td>\n      <td>...</td>\n      <td>chrome 67.0 for android</td>\n      <td>NaN</td>\n      <td>NaN</td>\n      <td>NaN</td>\n      <td>F</td>\n      <td>F</td>\n      <td>T</td>\n      <td>F</td>\n      <td>mobile</td>\n      <td>MYA-L13 Build/HUAWEIMYA-L13</td>\n    </tr>\n    <tr>\n      <th>1</th>\n      <td>3663588</td>\n      <td>0.0</td>\n      <td>3579.0</td>\n      <td>0.0</td>\n      <td>0.0</td>\n      <td>0.0</td>\n      <td>0.0</td>\n      <td>NaN</td>\n      <td>NaN</td>\n      <td>0.0</td>\n      <td>...</td>\n      <td>chrome 67.0 for android</td>\n      <td>24.0</td>\n      <td>1280x720</td>\n      <td>match_status:2</td>\n      <td>T</td>\n      <td>F</td>\n      <td>T</td>\n      <td>T</td>\n      <td>mobile</td>\n      <td>LGLS676 Build/MXB48T</td>\n    </tr>\n    <tr>\n      <th>2</th>\n      <td>3663597</td>\n      <td>-5.0</td>\n      <td>185210.0</td>\n      <td>NaN</td>\n      <td>NaN</td>\n      <td>1.0</td>\n      <td>0.0</td>\n      <td>NaN</td>\n      <td>NaN</td>\n      <td>NaN</td>\n      <td>...</td>\n      <td>ie 11.0 for tablet</td>\n      <td>NaN</td>\n      <td>NaN</td>\n      <td>NaN</td>\n      <td>F</td>\n      <td>T</td>\n      <td>T</td>\n      <td>F</td>\n      <td>desktop</td>\n      <td>Trident/7.0</td>\n    </tr>\n    <tr>\n      <th>3</th>\n      <td>3663601</td>\n      <td>-45.0</td>\n      <td>252944.0</td>\n      <td>0.0</td>\n      <td>0.0</td>\n      <td>0.0</td>\n      <td>0.0</td>\n      <td>NaN</td>\n      <td>NaN</td>\n      <td>0.0</td>\n      <td>...</td>\n      <td>chrome 67.0 for android</td>\n      <td>NaN</td>\n      <td>NaN</td>\n      <td>NaN</td>\n      <td>F</td>\n      <td>F</td>\n      <td>T</td>\n      <td>F</td>\n      <td>mobile</td>\n      <td>MYA-L13 Build/HUAWEIMYA-L13</td>\n    </tr>\n    <tr>\n      <th>4</th>\n      <td>3663602</td>\n      <td>-95.0</td>\n      <td>328680.0</td>\n      <td>NaN</td>\n      <td>NaN</td>\n      <td>7.0</td>\n      <td>-33.0</td>\n      <td>NaN</td>\n      <td>NaN</td>\n      <td>NaN</td>\n      <td>...</td>\n      <td>chrome 67.0 for android</td>\n      <td>NaN</td>\n      <td>NaN</td>\n      <td>NaN</td>\n      <td>F</td>\n      <td>F</td>\n      <td>T</td>\n      <td>F</td>\n      <td>mobile</td>\n      <td>SM-G9650 Build/R16NW</td>\n    </tr>\n  </tbody>\n</table>\n<p>5 rows × 41 columns</p>\n</div>"
     },
     "metadata": {},
     "execution_count": 15
    }
   ],
   "source": [
    "identity_dataframe = pd.read_csv('data/test_identity.csv')\n",
    "identity_dataframe = reduce_mem_usage(identity_dataframe)\n",
    "\n",
    "identity_dataframe = identity_dataframe.rename(\n",
    "    columns={\n",
    "        column: column.replace('-', '_')\n",
    "        for column in identity_dataframe.columns\n",
    "    }\n",
    ")\n",
    "\n",
    "identity_dataframe.head()"
   ]
  },
  {
   "cell_type": "code",
   "execution_count": 16,
   "metadata": {},
   "outputs": [
    {
     "output_type": "execute_result",
     "data": {
      "text/plain": "   TransactionID  TransactionDT  TransactionAmt ProductCD  card1  card2  \\\n0        3663549       18403224       31.953125         W  10409  111.0   \n1        3663550       18403263       49.000000         W   4272  111.0   \n2        3663551       18403310      171.000000         W   4476  574.0   \n3        3663552       18403310      285.000000         W  10989  360.0   \n4        3663553       18403317       67.937500         W  18018  452.0   \n\n   card3       card4  card5  card6  ...  id_31  id_32  id_33  id_34 id_35  \\\n0  150.0        visa  226.0  debit  ...    NaN    NaN    NaN    NaN   NaN   \n1  150.0        visa  226.0  debit  ...    NaN    NaN    NaN    NaN   NaN   \n2  150.0        visa  226.0  debit  ...    NaN    NaN    NaN    NaN   NaN   \n3  150.0        visa  166.0  debit  ...    NaN    NaN    NaN    NaN   NaN   \n4  150.0  mastercard  117.0  debit  ...    NaN    NaN    NaN    NaN   NaN   \n\n  id_36  id_37  id_38  DeviceType  DeviceInfo  \n0   NaN    NaN    NaN         NaN         NaN  \n1   NaN    NaN    NaN         NaN         NaN  \n2   NaN    NaN    NaN         NaN         NaN  \n3   NaN    NaN    NaN         NaN         NaN  \n4   NaN    NaN    NaN         NaN         NaN  \n\n[5 rows x 433 columns]",
      "text/html": "<div>\n<style scoped>\n    .dataframe tbody tr th:only-of-type {\n        vertical-align: middle;\n    }\n\n    .dataframe tbody tr th {\n        vertical-align: top;\n    }\n\n    .dataframe thead th {\n        text-align: right;\n    }\n</style>\n<table border=\"1\" class=\"dataframe\">\n  <thead>\n    <tr style=\"text-align: right;\">\n      <th></th>\n      <th>TransactionID</th>\n      <th>TransactionDT</th>\n      <th>TransactionAmt</th>\n      <th>ProductCD</th>\n      <th>card1</th>\n      <th>card2</th>\n      <th>card3</th>\n      <th>card4</th>\n      <th>card5</th>\n      <th>card6</th>\n      <th>...</th>\n      <th>id_31</th>\n      <th>id_32</th>\n      <th>id_33</th>\n      <th>id_34</th>\n      <th>id_35</th>\n      <th>id_36</th>\n      <th>id_37</th>\n      <th>id_38</th>\n      <th>DeviceType</th>\n      <th>DeviceInfo</th>\n    </tr>\n  </thead>\n  <tbody>\n    <tr>\n      <th>0</th>\n      <td>3663549</td>\n      <td>18403224</td>\n      <td>31.953125</td>\n      <td>W</td>\n      <td>10409</td>\n      <td>111.0</td>\n      <td>150.0</td>\n      <td>visa</td>\n      <td>226.0</td>\n      <td>debit</td>\n      <td>...</td>\n      <td>NaN</td>\n      <td>NaN</td>\n      <td>NaN</td>\n      <td>NaN</td>\n      <td>NaN</td>\n      <td>NaN</td>\n      <td>NaN</td>\n      <td>NaN</td>\n      <td>NaN</td>\n      <td>NaN</td>\n    </tr>\n    <tr>\n      <th>1</th>\n      <td>3663550</td>\n      <td>18403263</td>\n      <td>49.000000</td>\n      <td>W</td>\n      <td>4272</td>\n      <td>111.0</td>\n      <td>150.0</td>\n      <td>visa</td>\n      <td>226.0</td>\n      <td>debit</td>\n      <td>...</td>\n      <td>NaN</td>\n      <td>NaN</td>\n      <td>NaN</td>\n      <td>NaN</td>\n      <td>NaN</td>\n      <td>NaN</td>\n      <td>NaN</td>\n      <td>NaN</td>\n      <td>NaN</td>\n      <td>NaN</td>\n    </tr>\n    <tr>\n      <th>2</th>\n      <td>3663551</td>\n      <td>18403310</td>\n      <td>171.000000</td>\n      <td>W</td>\n      <td>4476</td>\n      <td>574.0</td>\n      <td>150.0</td>\n      <td>visa</td>\n      <td>226.0</td>\n      <td>debit</td>\n      <td>...</td>\n      <td>NaN</td>\n      <td>NaN</td>\n      <td>NaN</td>\n      <td>NaN</td>\n      <td>NaN</td>\n      <td>NaN</td>\n      <td>NaN</td>\n      <td>NaN</td>\n      <td>NaN</td>\n      <td>NaN</td>\n    </tr>\n    <tr>\n      <th>3</th>\n      <td>3663552</td>\n      <td>18403310</td>\n      <td>285.000000</td>\n      <td>W</td>\n      <td>10989</td>\n      <td>360.0</td>\n      <td>150.0</td>\n      <td>visa</td>\n      <td>166.0</td>\n      <td>debit</td>\n      <td>...</td>\n      <td>NaN</td>\n      <td>NaN</td>\n      <td>NaN</td>\n      <td>NaN</td>\n      <td>NaN</td>\n      <td>NaN</td>\n      <td>NaN</td>\n      <td>NaN</td>\n      <td>NaN</td>\n      <td>NaN</td>\n    </tr>\n    <tr>\n      <th>4</th>\n      <td>3663553</td>\n      <td>18403317</td>\n      <td>67.937500</td>\n      <td>W</td>\n      <td>18018</td>\n      <td>452.0</td>\n      <td>150.0</td>\n      <td>mastercard</td>\n      <td>117.0</td>\n      <td>debit</td>\n      <td>...</td>\n      <td>NaN</td>\n      <td>NaN</td>\n      <td>NaN</td>\n      <td>NaN</td>\n      <td>NaN</td>\n      <td>NaN</td>\n      <td>NaN</td>\n      <td>NaN</td>\n      <td>NaN</td>\n      <td>NaN</td>\n    </tr>\n  </tbody>\n</table>\n<p>5 rows × 433 columns</p>\n</div>"
     },
     "metadata": {},
     "execution_count": 16
    }
   ],
   "source": [
    "dataframe = transaction_dataframe.merge(identity_dataframe, how='outer')\n",
    "dataframe.head()"
   ]
  },
  {
   "cell_type": "markdown",
   "metadata": {},
   "source": [
    "## drop useless features"
   ]
  },
  {
   "cell_type": "code",
   "execution_count": 17,
   "metadata": {},
   "outputs": [
    {
     "output_type": "execute_result",
     "data": {
      "text/plain": "   TransactionDT  TransactionAmt ProductCD  card1  card2  card3       card4  \\\n0       18403224       31.953125         W  10409  111.0  150.0        visa   \n1       18403263       49.000000         W   4272  111.0  150.0        visa   \n2       18403310      171.000000         W   4476  574.0  150.0        visa   \n3       18403310      285.000000         W  10989  360.0  150.0        visa   \n4       18403317       67.937500         W  18018  452.0  150.0  mastercard   \n\n   card5  card6  addr1  ...  id_30  id_31 id_32 id_33  id_34  id_36  id_37  \\\n0  226.0  debit  170.0  ...    NaN    NaN   NaN   NaN    NaN    NaN    NaN   \n1  226.0  debit  299.0  ...    NaN    NaN   NaN   NaN    NaN    NaN    NaN   \n2  226.0  debit  472.0  ...    NaN    NaN   NaN   NaN    NaN    NaN    NaN   \n3  166.0  debit  205.0  ...    NaN    NaN   NaN   NaN    NaN    NaN    NaN   \n4  117.0  debit  264.0  ...    NaN    NaN   NaN   NaN    NaN    NaN    NaN   \n\n   id_38  DeviceType  DeviceInfo  \n0    NaN         NaN         NaN  \n1    NaN         NaN         NaN  \n2    NaN         NaN         NaN  \n3    NaN         NaN         NaN  \n4    NaN         NaN         NaN  \n\n[5 rows x 269 columns]",
      "text/html": "<div>\n<style scoped>\n    .dataframe tbody tr th:only-of-type {\n        vertical-align: middle;\n    }\n\n    .dataframe tbody tr th {\n        vertical-align: top;\n    }\n\n    .dataframe thead th {\n        text-align: right;\n    }\n</style>\n<table border=\"1\" class=\"dataframe\">\n  <thead>\n    <tr style=\"text-align: right;\">\n      <th></th>\n      <th>TransactionDT</th>\n      <th>TransactionAmt</th>\n      <th>ProductCD</th>\n      <th>card1</th>\n      <th>card2</th>\n      <th>card3</th>\n      <th>card4</th>\n      <th>card5</th>\n      <th>card6</th>\n      <th>addr1</th>\n      <th>...</th>\n      <th>id_30</th>\n      <th>id_31</th>\n      <th>id_32</th>\n      <th>id_33</th>\n      <th>id_34</th>\n      <th>id_36</th>\n      <th>id_37</th>\n      <th>id_38</th>\n      <th>DeviceType</th>\n      <th>DeviceInfo</th>\n    </tr>\n  </thead>\n  <tbody>\n    <tr>\n      <th>0</th>\n      <td>18403224</td>\n      <td>31.953125</td>\n      <td>W</td>\n      <td>10409</td>\n      <td>111.0</td>\n      <td>150.0</td>\n      <td>visa</td>\n      <td>226.0</td>\n      <td>debit</td>\n      <td>170.0</td>\n      <td>...</td>\n      <td>NaN</td>\n      <td>NaN</td>\n      <td>NaN</td>\n      <td>NaN</td>\n      <td>NaN</td>\n      <td>NaN</td>\n      <td>NaN</td>\n      <td>NaN</td>\n      <td>NaN</td>\n      <td>NaN</td>\n    </tr>\n    <tr>\n      <th>1</th>\n      <td>18403263</td>\n      <td>49.000000</td>\n      <td>W</td>\n      <td>4272</td>\n      <td>111.0</td>\n      <td>150.0</td>\n      <td>visa</td>\n      <td>226.0</td>\n      <td>debit</td>\n      <td>299.0</td>\n      <td>...</td>\n      <td>NaN</td>\n      <td>NaN</td>\n      <td>NaN</td>\n      <td>NaN</td>\n      <td>NaN</td>\n      <td>NaN</td>\n      <td>NaN</td>\n      <td>NaN</td>\n      <td>NaN</td>\n      <td>NaN</td>\n    </tr>\n    <tr>\n      <th>2</th>\n      <td>18403310</td>\n      <td>171.000000</td>\n      <td>W</td>\n      <td>4476</td>\n      <td>574.0</td>\n      <td>150.0</td>\n      <td>visa</td>\n      <td>226.0</td>\n      <td>debit</td>\n      <td>472.0</td>\n      <td>...</td>\n      <td>NaN</td>\n      <td>NaN</td>\n      <td>NaN</td>\n      <td>NaN</td>\n      <td>NaN</td>\n      <td>NaN</td>\n      <td>NaN</td>\n      <td>NaN</td>\n      <td>NaN</td>\n      <td>NaN</td>\n    </tr>\n    <tr>\n      <th>3</th>\n      <td>18403310</td>\n      <td>285.000000</td>\n      <td>W</td>\n      <td>10989</td>\n      <td>360.0</td>\n      <td>150.0</td>\n      <td>visa</td>\n      <td>166.0</td>\n      <td>debit</td>\n      <td>205.0</td>\n      <td>...</td>\n      <td>NaN</td>\n      <td>NaN</td>\n      <td>NaN</td>\n      <td>NaN</td>\n      <td>NaN</td>\n      <td>NaN</td>\n      <td>NaN</td>\n      <td>NaN</td>\n      <td>NaN</td>\n      <td>NaN</td>\n    </tr>\n    <tr>\n      <th>4</th>\n      <td>18403317</td>\n      <td>67.937500</td>\n      <td>W</td>\n      <td>18018</td>\n      <td>452.0</td>\n      <td>150.0</td>\n      <td>mastercard</td>\n      <td>117.0</td>\n      <td>debit</td>\n      <td>264.0</td>\n      <td>...</td>\n      <td>NaN</td>\n      <td>NaN</td>\n      <td>NaN</td>\n      <td>NaN</td>\n      <td>NaN</td>\n      <td>NaN</td>\n      <td>NaN</td>\n      <td>NaN</td>\n      <td>NaN</td>\n      <td>NaN</td>\n    </tr>\n  </tbody>\n</table>\n<p>5 rows × 269 columns</p>\n</div>"
     },
     "metadata": {},
     "execution_count": 17
    }
   ],
   "source": [
    "dataframe = dataframe.drop(useless_features, axis=1)\n",
    "dataframe.head()"
   ]
  },
  {
   "cell_type": "markdown",
   "metadata": {},
   "source": [
    "## preprocessing - disregard OS versions"
   ]
  },
  {
   "cell_type": "code",
   "execution_count": 18,
   "metadata": {},
   "outputs": [
    {
     "output_type": "stream",
     "name": "stdout",
     "text": "['other' 'Android' 'iOS' 'Windows' 'Mac OS X']\n"
    }
   ],
   "source": [
    "for index, operating_system in dataframe.id_30.iteritems():\n",
    "    if not isinstance(operating_system, str):\n",
    "        operating_system = 'other'\n",
    "\n",
    "    elif 'Android' in operating_system:\n",
    "        operating_system = 'Android'\n",
    "    \n",
    "    elif 'iOS' in operating_system:\n",
    "        operating_system = 'iOS'\n",
    "\n",
    "    elif 'Mac OS X' in operating_system:\n",
    "        operating_system = 'Mac OS X'\n",
    "\n",
    "    elif 'Windows' in operating_system:\n",
    "        operating_system = 'Windows'\n",
    "\n",
    "    else:\n",
    "        operating_system = 'other'\n",
    "\n",
    "    dataframe.at[index, 'id_30'] = operating_system\n",
    "\n",
    "print(dataframe.id_30.unique())"
   ]
  },
  {
   "cell_type": "markdown",
   "metadata": {},
   "source": [
    "## preprocessing - disregard browser versions"
   ]
  },
  {
   "cell_type": "code",
   "execution_count": 19,
   "metadata": {},
   "outputs": [
    {
     "output_type": "stream",
     "name": "stdout",
     "text": "['other' 'chrome' 'ie' 'safari' 'edge' 'firefox' 'samsung' 'opera'\n 'palemoon']\n"
    }
   ],
   "source": [
    "browser_list = [\n",
    "    'aol',\n",
    "    'chrome',\n",
    "    'chromium',\n",
    "    'comodo',\n",
    "    'cyberfox',\n",
    "    'edge',\n",
    "    'firefox',\n",
    "    'icedragon',\n",
    "    'ie',\n",
    "    'iron',\n",
    "    'maxthon',\n",
    "    'opera',\n",
    "    'palemoon',\n",
    "    'puffin',\n",
    "    'safari',\n",
    "    'samsung',\n",
    "    'seamonkey',\n",
    "    'silk',\n",
    "    'waterfox',\n",
    "]\n",
    "\n",
    "for index, browser in dataframe.id_31.iteritems():\n",
    "    new_browser = 'other'\n",
    "\n",
    "    if isinstance(browser, str):\n",
    "        for known_browser in browser_list:\n",
    "            if known_browser in browser:\n",
    "                new_browser = known_browser\n",
    "                break\n",
    "\n",
    "    dataframe.at[index, 'id_31'] = new_browser\n",
    "\n",
    "print(dataframe.id_31.unique())"
   ]
  },
  {
   "cell_type": "markdown",
   "metadata": {},
   "source": [
    "## do rest of preprocessing\n",
    "\n",
    "- convert object columns to string columns\n",
    "- imputation (for numbers, fill with interquartile mean)\n",
    "- do label encoding for non-numeric values\n",
    "- reduce memory usage again"
   ]
  },
  {
   "cell_type": "code",
   "execution_count": 20,
   "metadata": {},
   "outputs": [
    {
     "output_type": "stream",
     "name": "stdout",
     "text": "Mem. usage decreased to 315.73 Mb (21.6% reduction)\n"
    }
   ],
   "source": [
    "le = LabelEncoder()\n",
    "\n",
    "for column in dataframe.columns:\n",
    "    if dataframe[column].dtype == 'object':\n",
    "        dataframe[column]= dataframe[column].astype(str)\n",
    "        dataframe[column] = le.fit_transform(dataframe[column])\n",
    "    else:\n",
    "        dataframe[column] = dataframe[column].fillna(dataframe[column].quantile().mean())\n",
    "\n",
    "dataframe = reduce_mem_usage(dataframe)"
   ]
  },
  {
   "cell_type": "markdown",
   "metadata": {},
   "source": [
    "## load model\n",
    "\n",
    "- if model is no longer in memory (e.g. due to restarting of notebook)"
   ]
  },
  {
   "cell_type": "code",
   "execution_count": 21,
   "metadata": {},
   "outputs": [],
   "source": [
    "lgbm = joblib.load('models/lgbm.joblib')"
   ]
  },
  {
   "cell_type": "markdown",
   "metadata": {},
   "source": [
    "## do inference on test data"
   ]
  },
  {
   "cell_type": "code",
   "execution_count": 22,
   "metadata": {},
   "outputs": [],
   "source": [
    "predictions = lgbm.predict(dataframe)"
   ]
  },
  {
   "cell_type": "markdown",
   "metadata": {},
   "source": [
    "## create output dataframe"
   ]
  },
  {
   "cell_type": "code",
   "execution_count": 37,
   "metadata": {},
   "outputs": [
    {
     "output_type": "execute_result",
     "data": {
      "text/plain": "   TransactionID   isFraud\n0        3663549  0.000440\n1        3663550  0.000164\n2        3663551  0.000798\n3        3663552  0.000867\n4        3663553  0.000134",
      "text/html": "<div>\n<style scoped>\n    .dataframe tbody tr th:only-of-type {\n        vertical-align: middle;\n    }\n\n    .dataframe tbody tr th {\n        vertical-align: top;\n    }\n\n    .dataframe thead th {\n        text-align: right;\n    }\n</style>\n<table border=\"1\" class=\"dataframe\">\n  <thead>\n    <tr style=\"text-align: right;\">\n      <th></th>\n      <th>TransactionID</th>\n      <th>isFraud</th>\n    </tr>\n  </thead>\n  <tbody>\n    <tr>\n      <th>0</th>\n      <td>3663549</td>\n      <td>0.000440</td>\n    </tr>\n    <tr>\n      <th>1</th>\n      <td>3663550</td>\n      <td>0.000164</td>\n    </tr>\n    <tr>\n      <th>2</th>\n      <td>3663551</td>\n      <td>0.000798</td>\n    </tr>\n    <tr>\n      <th>3</th>\n      <td>3663552</td>\n      <td>0.000867</td>\n    </tr>\n    <tr>\n      <th>4</th>\n      <td>3663553</td>\n      <td>0.000134</td>\n    </tr>\n  </tbody>\n</table>\n</div>"
     },
     "metadata": {},
     "execution_count": 37
    }
   ],
   "source": [
    "output_dataframe = pd.DataFrame({\n",
    "    'TransactionID': transaction_dataframe.TransactionID,\n",
    "    'isFraud': pd.Series(predictions),\n",
    "})\n",
    "\n",
    "output_dataframe.head()"
   ]
  },
  {
   "cell_type": "markdown",
   "metadata": {},
   "source": [
    "## save output as csv"
   ]
  },
  {
   "cell_type": "code",
   "execution_count": 38,
   "metadata": {},
   "outputs": [],
   "source": [
    "output_dataframe.to_csv('output/lgbm_predictions.csv', index=False)"
   ]
  },
  {
   "cell_type": "markdown",
   "metadata": {},
   "source": [
    "## Kaggle result\n",
    "\n",
    "- score: 0.940812\n",
    "- private leaderboard rank: 18\n",
    "- private leaderboard ranking percentile: 99.717912552"
   ]
  }
 ]
}