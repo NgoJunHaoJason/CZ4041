{
 "nbformat": 4,
 "nbformat_minor": 2,
 "metadata": {
  "language_info": {
   "name": "python",
   "codemirror_mode": {
    "name": "ipython",
    "version": 3
   },
   "version": "3.7.6-final"
  },
  "orig_nbformat": 2,
  "file_extension": ".py",
  "mimetype": "text/x-python",
  "name": "python",
  "npconvert_exporter": "python",
  "pygments_lexer": "ipython3",
  "version": 3,
  "kernelspec": {
   "name": "python37664bit0656ffb61a14454b8758eedef206058e",
   "display_name": "Python 3.7.6 64-bit"
  }
 },
 "cells": [
  {
   "cell_type": "markdown",
   "metadata": {},
   "source": [
    "# Feature Selection for id-Features"
   ],
   "execution_count": null,
   "outputs": []
  },
  {
   "cell_type": "markdown",
   "metadata": {},
   "source": [
    "## import libraries"
   ],
   "execution_count": null,
   "outputs": []
  },
  {
   "cell_type": "code",
   "execution_count": 1,
   "metadata": {},
   "outputs": [],
   "source": [
    "import pandas as pd"
   ]
  },
  {
   "cell_type": "markdown",
   "metadata": {},
   "source": [
    "## read data"
   ],
   "execution_count": null,
   "outputs": []
  },
  {
   "cell_type": "code",
   "execution_count": 2,
   "metadata": {},
   "outputs": [
    {
     "output_type": "execute_result",
     "data": {
      "text/plain": "   TransactionID  id_01     id_02  id_03  id_04  id_05  id_06  id_07  id_08  \\\n0        2987004    0.0   70787.0    NaN    NaN    NaN    NaN    NaN    NaN   \n1        2987008   -5.0   98945.0    NaN    NaN    0.0   -5.0    NaN    NaN   \n2        2987010   -5.0  191631.0    0.0    0.0    0.0    0.0    NaN    NaN   \n3        2987011   -5.0  221832.0    NaN    NaN    0.0   -6.0    NaN    NaN   \n4        2987016    0.0    7460.0    0.0    0.0    1.0    0.0    NaN    NaN   \n\n   id_09  ...                id_31  id_32      id_33           id_34  id_35  \\\n0    NaN  ...  samsung browser 6.2   32.0  2220x1080  match_status:2      T   \n1    NaN  ...   mobile safari 11.0   32.0   1334x750  match_status:1      T   \n2    0.0  ...          chrome 62.0    NaN        NaN             NaN      F   \n3    NaN  ...          chrome 62.0    NaN        NaN             NaN      F   \n4    0.0  ...          chrome 62.0   24.0   1280x800  match_status:2      T   \n\n  id_36 id_37  id_38  DeviceType                     DeviceInfo  \n0     F     T      T      mobile  SAMSUNG SM-G892A Build/NRD90M  \n1     F     F      T      mobile                     iOS Device  \n2     F     T      T     desktop                        Windows  \n3     F     T      T     desktop                            NaN  \n4     F     T      T     desktop                          MacOS  \n\n[5 rows x 41 columns]",
      "text/html": "<div>\n<style scoped>\n    .dataframe tbody tr th:only-of-type {\n        vertical-align: middle;\n    }\n\n    .dataframe tbody tr th {\n        vertical-align: top;\n    }\n\n    .dataframe thead th {\n        text-align: right;\n    }\n</style>\n<table border=\"1\" class=\"dataframe\">\n  <thead>\n    <tr style=\"text-align: right;\">\n      <th></th>\n      <th>TransactionID</th>\n      <th>id_01</th>\n      <th>id_02</th>\n      <th>id_03</th>\n      <th>id_04</th>\n      <th>id_05</th>\n      <th>id_06</th>\n      <th>id_07</th>\n      <th>id_08</th>\n      <th>id_09</th>\n      <th>...</th>\n      <th>id_31</th>\n      <th>id_32</th>\n      <th>id_33</th>\n      <th>id_34</th>\n      <th>id_35</th>\n      <th>id_36</th>\n      <th>id_37</th>\n      <th>id_38</th>\n      <th>DeviceType</th>\n      <th>DeviceInfo</th>\n    </tr>\n  </thead>\n  <tbody>\n    <tr>\n      <th>0</th>\n      <td>2987004</td>\n      <td>0.0</td>\n      <td>70787.0</td>\n      <td>NaN</td>\n      <td>NaN</td>\n      <td>NaN</td>\n      <td>NaN</td>\n      <td>NaN</td>\n      <td>NaN</td>\n      <td>NaN</td>\n      <td>...</td>\n      <td>samsung browser 6.2</td>\n      <td>32.0</td>\n      <td>2220x1080</td>\n      <td>match_status:2</td>\n      <td>T</td>\n      <td>F</td>\n      <td>T</td>\n      <td>T</td>\n      <td>mobile</td>\n      <td>SAMSUNG SM-G892A Build/NRD90M</td>\n    </tr>\n    <tr>\n      <th>1</th>\n      <td>2987008</td>\n      <td>-5.0</td>\n      <td>98945.0</td>\n      <td>NaN</td>\n      <td>NaN</td>\n      <td>0.0</td>\n      <td>-5.0</td>\n      <td>NaN</td>\n      <td>NaN</td>\n      <td>NaN</td>\n      <td>...</td>\n      <td>mobile safari 11.0</td>\n      <td>32.0</td>\n      <td>1334x750</td>\n      <td>match_status:1</td>\n      <td>T</td>\n      <td>F</td>\n      <td>F</td>\n      <td>T</td>\n      <td>mobile</td>\n      <td>iOS Device</td>\n    </tr>\n    <tr>\n      <th>2</th>\n      <td>2987010</td>\n      <td>-5.0</td>\n      <td>191631.0</td>\n      <td>0.0</td>\n      <td>0.0</td>\n      <td>0.0</td>\n      <td>0.0</td>\n      <td>NaN</td>\n      <td>NaN</td>\n      <td>0.0</td>\n      <td>...</td>\n      <td>chrome 62.0</td>\n      <td>NaN</td>\n      <td>NaN</td>\n      <td>NaN</td>\n      <td>F</td>\n      <td>F</td>\n      <td>T</td>\n      <td>T</td>\n      <td>desktop</td>\n      <td>Windows</td>\n    </tr>\n    <tr>\n      <th>3</th>\n      <td>2987011</td>\n      <td>-5.0</td>\n      <td>221832.0</td>\n      <td>NaN</td>\n      <td>NaN</td>\n      <td>0.0</td>\n      <td>-6.0</td>\n      <td>NaN</td>\n      <td>NaN</td>\n      <td>NaN</td>\n      <td>...</td>\n      <td>chrome 62.0</td>\n      <td>NaN</td>\n      <td>NaN</td>\n      <td>NaN</td>\n      <td>F</td>\n      <td>F</td>\n      <td>T</td>\n      <td>T</td>\n      <td>desktop</td>\n      <td>NaN</td>\n    </tr>\n    <tr>\n      <th>4</th>\n      <td>2987016</td>\n      <td>0.0</td>\n      <td>7460.0</td>\n      <td>0.0</td>\n      <td>0.0</td>\n      <td>1.0</td>\n      <td>0.0</td>\n      <td>NaN</td>\n      <td>NaN</td>\n      <td>0.0</td>\n      <td>...</td>\n      <td>chrome 62.0</td>\n      <td>24.0</td>\n      <td>1280x800</td>\n      <td>match_status:2</td>\n      <td>T</td>\n      <td>F</td>\n      <td>T</td>\n      <td>T</td>\n      <td>desktop</td>\n      <td>MacOS</td>\n    </tr>\n  </tbody>\n</table>\n<p>5 rows × 41 columns</p>\n</div>"
     },
     "metadata": {},
     "execution_count": 2
    }
   ],
   "source": [
    "identity_dataframe = pd.read_csv('data/train_identity.csv')\n",
    "identity_dataframe.head()"
   ]
  },
  {
   "cell_type": "code",
   "execution_count": 3,
   "metadata": {},
   "outputs": [
    {
     "output_type": "execute_result",
     "data": {
      "text/plain": "   TransactionID  isFraud  TransactionDT  TransactionAmt ProductCD  card1  \\\n0        2987000        0          86400            68.5         W  13926   \n1        2987001        0          86401            29.0         W   2755   \n2        2987002        0          86469            59.0         W   4663   \n3        2987003        0          86499            50.0         W  18132   \n4        2987004        0          86506            50.0         H   4497   \n\n   card2  card3       card4  card5  ... V330  V331  V332  V333  V334 V335  \\\n0    NaN  150.0    discover  142.0  ...  NaN   NaN   NaN   NaN   NaN  NaN   \n1  404.0  150.0  mastercard  102.0  ...  NaN   NaN   NaN   NaN   NaN  NaN   \n2  490.0  150.0        visa  166.0  ...  NaN   NaN   NaN   NaN   NaN  NaN   \n3  567.0  150.0  mastercard  117.0  ...  NaN   NaN   NaN   NaN   NaN  NaN   \n4  514.0  150.0  mastercard  102.0  ...  0.0   0.0   0.0   0.0   0.0  0.0   \n\n  V336  V337  V338  V339  \n0  NaN   NaN   NaN   NaN  \n1  NaN   NaN   NaN   NaN  \n2  NaN   NaN   NaN   NaN  \n3  NaN   NaN   NaN   NaN  \n4  0.0   0.0   0.0   0.0  \n\n[5 rows x 394 columns]",
      "text/html": "<div>\n<style scoped>\n    .dataframe tbody tr th:only-of-type {\n        vertical-align: middle;\n    }\n\n    .dataframe tbody tr th {\n        vertical-align: top;\n    }\n\n    .dataframe thead th {\n        text-align: right;\n    }\n</style>\n<table border=\"1\" class=\"dataframe\">\n  <thead>\n    <tr style=\"text-align: right;\">\n      <th></th>\n      <th>TransactionID</th>\n      <th>isFraud</th>\n      <th>TransactionDT</th>\n      <th>TransactionAmt</th>\n      <th>ProductCD</th>\n      <th>card1</th>\n      <th>card2</th>\n      <th>card3</th>\n      <th>card4</th>\n      <th>card5</th>\n      <th>...</th>\n      <th>V330</th>\n      <th>V331</th>\n      <th>V332</th>\n      <th>V333</th>\n      <th>V334</th>\n      <th>V335</th>\n      <th>V336</th>\n      <th>V337</th>\n      <th>V338</th>\n      <th>V339</th>\n    </tr>\n  </thead>\n  <tbody>\n    <tr>\n      <th>0</th>\n      <td>2987000</td>\n      <td>0</td>\n      <td>86400</td>\n      <td>68.5</td>\n      <td>W</td>\n      <td>13926</td>\n      <td>NaN</td>\n      <td>150.0</td>\n      <td>discover</td>\n      <td>142.0</td>\n      <td>...</td>\n      <td>NaN</td>\n      <td>NaN</td>\n      <td>NaN</td>\n      <td>NaN</td>\n      <td>NaN</td>\n      <td>NaN</td>\n      <td>NaN</td>\n      <td>NaN</td>\n      <td>NaN</td>\n      <td>NaN</td>\n    </tr>\n    <tr>\n      <th>1</th>\n      <td>2987001</td>\n      <td>0</td>\n      <td>86401</td>\n      <td>29.0</td>\n      <td>W</td>\n      <td>2755</td>\n      <td>404.0</td>\n      <td>150.0</td>\n      <td>mastercard</td>\n      <td>102.0</td>\n      <td>...</td>\n      <td>NaN</td>\n      <td>NaN</td>\n      <td>NaN</td>\n      <td>NaN</td>\n      <td>NaN</td>\n      <td>NaN</td>\n      <td>NaN</td>\n      <td>NaN</td>\n      <td>NaN</td>\n      <td>NaN</td>\n    </tr>\n    <tr>\n      <th>2</th>\n      <td>2987002</td>\n      <td>0</td>\n      <td>86469</td>\n      <td>59.0</td>\n      <td>W</td>\n      <td>4663</td>\n      <td>490.0</td>\n      <td>150.0</td>\n      <td>visa</td>\n      <td>166.0</td>\n      <td>...</td>\n      <td>NaN</td>\n      <td>NaN</td>\n      <td>NaN</td>\n      <td>NaN</td>\n      <td>NaN</td>\n      <td>NaN</td>\n      <td>NaN</td>\n      <td>NaN</td>\n      <td>NaN</td>\n      <td>NaN</td>\n    </tr>\n    <tr>\n      <th>3</th>\n      <td>2987003</td>\n      <td>0</td>\n      <td>86499</td>\n      <td>50.0</td>\n      <td>W</td>\n      <td>18132</td>\n      <td>567.0</td>\n      <td>150.0</td>\n      <td>mastercard</td>\n      <td>117.0</td>\n      <td>...</td>\n      <td>NaN</td>\n      <td>NaN</td>\n      <td>NaN</td>\n      <td>NaN</td>\n      <td>NaN</td>\n      <td>NaN</td>\n      <td>NaN</td>\n      <td>NaN</td>\n      <td>NaN</td>\n      <td>NaN</td>\n    </tr>\n    <tr>\n      <th>4</th>\n      <td>2987004</td>\n      <td>0</td>\n      <td>86506</td>\n      <td>50.0</td>\n      <td>H</td>\n      <td>4497</td>\n      <td>514.0</td>\n      <td>150.0</td>\n      <td>mastercard</td>\n      <td>102.0</td>\n      <td>...</td>\n      <td>0.0</td>\n      <td>0.0</td>\n      <td>0.0</td>\n      <td>0.0</td>\n      <td>0.0</td>\n      <td>0.0</td>\n      <td>0.0</td>\n      <td>0.0</td>\n      <td>0.0</td>\n      <td>0.0</td>\n    </tr>\n  </tbody>\n</table>\n<p>5 rows × 394 columns</p>\n</div>"
     },
     "metadata": {},
     "execution_count": 3
    }
   ],
   "source": [
    "transaction_dataframe = pd.read_csv('data/train_transaction.csv')\n",
    "transaction_dataframe.head()"
   ]
  },
  {
   "cell_type": "code",
   "execution_count": 5,
   "metadata": {},
   "outputs": [
    {
     "output_type": "execute_result",
     "data": {
      "text/plain": "   TransactionID  isFraud\n0        2987000        0\n1        2987001        0\n2        2987002        0\n3        2987003        0\n4        2987004        0",
      "text/html": "<div>\n<style scoped>\n    .dataframe tbody tr th:only-of-type {\n        vertical-align: middle;\n    }\n\n    .dataframe tbody tr th {\n        vertical-align: top;\n    }\n\n    .dataframe thead th {\n        text-align: right;\n    }\n</style>\n<table border=\"1\" class=\"dataframe\">\n  <thead>\n    <tr style=\"text-align: right;\">\n      <th></th>\n      <th>TransactionID</th>\n      <th>isFraud</th>\n    </tr>\n  </thead>\n  <tbody>\n    <tr>\n      <th>0</th>\n      <td>2987000</td>\n      <td>0</td>\n    </tr>\n    <tr>\n      <th>1</th>\n      <td>2987001</td>\n      <td>0</td>\n    </tr>\n    <tr>\n      <th>2</th>\n      <td>2987002</td>\n      <td>0</td>\n    </tr>\n    <tr>\n      <th>3</th>\n      <td>2987003</td>\n      <td>0</td>\n    </tr>\n    <tr>\n      <th>4</th>\n      <td>2987004</td>\n      <td>0</td>\n    </tr>\n  </tbody>\n</table>\n</div>"
     },
     "metadata": {},
     "execution_count": 5
    }
   ],
   "source": [
    "is_fraud_dataframe = transaction_dataframe[['TransactionID', 'isFraud']]\n",
    "is_fraud_dataframe.head()"
   ]
  },
  {
   "cell_type": "code",
   "execution_count": 6,
   "metadata": {},
   "outputs": [
    {
     "output_type": "execute_result",
     "data": {
      "text/plain": "   TransactionID  isFraud  id_01     id_02  id_03  id_04  id_05  id_06  id_07  \\\n0        2987004        0    0.0   70787.0    NaN    NaN    NaN    NaN    NaN   \n1        2987008        0   -5.0   98945.0    NaN    NaN    0.0   -5.0    NaN   \n2        2987010        0   -5.0  191631.0    0.0    0.0    0.0    0.0    NaN   \n3        2987011        0   -5.0  221832.0    NaN    NaN    0.0   -6.0    NaN   \n4        2987016        0    0.0    7460.0    0.0    0.0    1.0    0.0    NaN   \n\n   id_08  ...                id_31  id_32      id_33           id_34  id_35  \\\n0    NaN  ...  samsung browser 6.2   32.0  2220x1080  match_status:2      T   \n1    NaN  ...   mobile safari 11.0   32.0   1334x750  match_status:1      T   \n2    NaN  ...          chrome 62.0    NaN        NaN             NaN      F   \n3    NaN  ...          chrome 62.0    NaN        NaN             NaN      F   \n4    NaN  ...          chrome 62.0   24.0   1280x800  match_status:2      T   \n\n   id_36 id_37 id_38  DeviceType                     DeviceInfo  \n0      F     T     T      mobile  SAMSUNG SM-G892A Build/NRD90M  \n1      F     F     T      mobile                     iOS Device  \n2      F     T     T     desktop                        Windows  \n3      F     T     T     desktop                            NaN  \n4      F     T     T     desktop                          MacOS  \n\n[5 rows x 42 columns]",
      "text/html": "<div>\n<style scoped>\n    .dataframe tbody tr th:only-of-type {\n        vertical-align: middle;\n    }\n\n    .dataframe tbody tr th {\n        vertical-align: top;\n    }\n\n    .dataframe thead th {\n        text-align: right;\n    }\n</style>\n<table border=\"1\" class=\"dataframe\">\n  <thead>\n    <tr style=\"text-align: right;\">\n      <th></th>\n      <th>TransactionID</th>\n      <th>isFraud</th>\n      <th>id_01</th>\n      <th>id_02</th>\n      <th>id_03</th>\n      <th>id_04</th>\n      <th>id_05</th>\n      <th>id_06</th>\n      <th>id_07</th>\n      <th>id_08</th>\n      <th>...</th>\n      <th>id_31</th>\n      <th>id_32</th>\n      <th>id_33</th>\n      <th>id_34</th>\n      <th>id_35</th>\n      <th>id_36</th>\n      <th>id_37</th>\n      <th>id_38</th>\n      <th>DeviceType</th>\n      <th>DeviceInfo</th>\n    </tr>\n  </thead>\n  <tbody>\n    <tr>\n      <th>0</th>\n      <td>2987004</td>\n      <td>0</td>\n      <td>0.0</td>\n      <td>70787.0</td>\n      <td>NaN</td>\n      <td>NaN</td>\n      <td>NaN</td>\n      <td>NaN</td>\n      <td>NaN</td>\n      <td>NaN</td>\n      <td>...</td>\n      <td>samsung browser 6.2</td>\n      <td>32.0</td>\n      <td>2220x1080</td>\n      <td>match_status:2</td>\n      <td>T</td>\n      <td>F</td>\n      <td>T</td>\n      <td>T</td>\n      <td>mobile</td>\n      <td>SAMSUNG SM-G892A Build/NRD90M</td>\n    </tr>\n    <tr>\n      <th>1</th>\n      <td>2987008</td>\n      <td>0</td>\n      <td>-5.0</td>\n      <td>98945.0</td>\n      <td>NaN</td>\n      <td>NaN</td>\n      <td>0.0</td>\n      <td>-5.0</td>\n      <td>NaN</td>\n      <td>NaN</td>\n      <td>...</td>\n      <td>mobile safari 11.0</td>\n      <td>32.0</td>\n      <td>1334x750</td>\n      <td>match_status:1</td>\n      <td>T</td>\n      <td>F</td>\n      <td>F</td>\n      <td>T</td>\n      <td>mobile</td>\n      <td>iOS Device</td>\n    </tr>\n    <tr>\n      <th>2</th>\n      <td>2987010</td>\n      <td>0</td>\n      <td>-5.0</td>\n      <td>191631.0</td>\n      <td>0.0</td>\n      <td>0.0</td>\n      <td>0.0</td>\n      <td>0.0</td>\n      <td>NaN</td>\n      <td>NaN</td>\n      <td>...</td>\n      <td>chrome 62.0</td>\n      <td>NaN</td>\n      <td>NaN</td>\n      <td>NaN</td>\n      <td>F</td>\n      <td>F</td>\n      <td>T</td>\n      <td>T</td>\n      <td>desktop</td>\n      <td>Windows</td>\n    </tr>\n    <tr>\n      <th>3</th>\n      <td>2987011</td>\n      <td>0</td>\n      <td>-5.0</td>\n      <td>221832.0</td>\n      <td>NaN</td>\n      <td>NaN</td>\n      <td>0.0</td>\n      <td>-6.0</td>\n      <td>NaN</td>\n      <td>NaN</td>\n      <td>...</td>\n      <td>chrome 62.0</td>\n      <td>NaN</td>\n      <td>NaN</td>\n      <td>NaN</td>\n      <td>F</td>\n      <td>F</td>\n      <td>T</td>\n      <td>T</td>\n      <td>desktop</td>\n      <td>NaN</td>\n    </tr>\n    <tr>\n      <th>4</th>\n      <td>2987016</td>\n      <td>0</td>\n      <td>0.0</td>\n      <td>7460.0</td>\n      <td>0.0</td>\n      <td>0.0</td>\n      <td>1.0</td>\n      <td>0.0</td>\n      <td>NaN</td>\n      <td>NaN</td>\n      <td>...</td>\n      <td>chrome 62.0</td>\n      <td>24.0</td>\n      <td>1280x800</td>\n      <td>match_status:2</td>\n      <td>T</td>\n      <td>F</td>\n      <td>T</td>\n      <td>T</td>\n      <td>desktop</td>\n      <td>MacOS</td>\n    </tr>\n  </tbody>\n</table>\n<p>5 rows × 42 columns</p>\n</div>"
     },
     "metadata": {},
     "execution_count": 6
    }
   ],
   "source": [
    "dataframe = is_fraud_dataframe.merge(identity_dataframe, on='TransactionID')\n",
    "dataframe.head()"
   ]
  },
  {
   "cell_type": "markdown",
   "metadata": {},
   "source": [
    "## check the percentage of NaNs in each column"
   ]
  },
  {
   "cell_type": "code",
   "execution_count": 7,
   "metadata": {},
   "outputs": [
    {
     "output_type": "stream",
     "name": "stdout",
     "text": "percentage of NaNs for TransactionID: 0.000\npercentage of NaNs for isFraud: 0.000\npercentage of NaNs for id_01: 0.000\npercentage of NaNs for id_02: 2.330\npercentage of NaNs for id_03: 54.016\npercentage of NaNs for id_04: 54.016\npercentage of NaNs for id_05: 5.108\npercentage of NaNs for id_06: 5.108\npercentage of NaNs for id_07: 96.426\npercentage of NaNs for id_08: 96.426\npercentage of NaNs for id_09: 48.052\npercentage of NaNs for id_10: 48.052\npercentage of NaNs for id_11: 2.257\npercentage of NaNs for id_12: 0.000\npercentage of NaNs for id_13: 11.726\npercentage of NaNs for id_14: 44.504\npercentage of NaNs for id_15: 2.252\npercentage of NaNs for id_16: 10.326\npercentage of NaNs for id_17: 3.372\npercentage of NaNs for id_18: 68.722\npercentage of NaNs for id_19: 3.408\npercentage of NaNs for id_20: 3.447\npercentage of NaNs for id_21: 96.423\npercentage of NaNs for id_22: 96.416\npercentage of NaNs for id_23: 96.416\npercentage of NaNs for id_24: 96.709\npercentage of NaNs for id_25: 96.442\npercentage of NaNs for id_26: 96.420\npercentage of NaNs for id_27: 96.416\npercentage of NaNs for id_28: 2.257\npercentage of NaNs for id_29: 2.257\npercentage of NaNs for id_30: 46.222\npercentage of NaNs for id_31: 2.739\npercentage of NaNs for id_32: 46.208\npercentage of NaNs for id_33: 49.187\npercentage of NaNs for id_34: 46.056\npercentage of NaNs for id_35: 2.252\npercentage of NaNs for id_36: 2.252\npercentage of NaNs for id_37: 2.252\npercentage of NaNs for id_38: 2.252\npercentage of NaNs for DeviceType: 2.373\npercentage of NaNs for DeviceInfo: 17.726\n"
    }
   ],
   "source": [
    "for column in dataframe.columns:\n",
    "    num_nans = dataframe[column].isna().sum()\n",
    "    print('percentage of NaNs for {}: {:.3f}'.format(\n",
    "        column, \n",
    "        num_nans / len(dataframe) * 100\n",
    "    ))"
   ]
  },
  {
   "cell_type": "markdown",
   "metadata": {},
   "source": [
    "## remove columns with a lot of NaNs"
   ]
  },
  {
   "cell_type": "code",
   "execution_count": 8,
   "metadata": {},
   "outputs": [
    {
     "output_type": "execute_result",
     "data": {
      "text/plain": "   TransactionID  isFraud  id_01     id_02  id_03  id_04  id_05  id_06  id_09  \\\n0        2987004        0    0.0   70787.0    NaN    NaN    NaN    NaN    NaN   \n1        2987008        0   -5.0   98945.0    NaN    NaN    0.0   -5.0    NaN   \n2        2987010        0   -5.0  191631.0    0.0    0.0    0.0    0.0    0.0   \n3        2987011        0   -5.0  221832.0    NaN    NaN    0.0   -6.0    NaN   \n4        2987016        0    0.0    7460.0    0.0    0.0    1.0    0.0    0.0   \n\n   id_10  ...                id_31 id_32      id_33           id_34 id_35  \\\n0    NaN  ...  samsung browser 6.2  32.0  2220x1080  match_status:2     T   \n1    NaN  ...   mobile safari 11.0  32.0   1334x750  match_status:1     T   \n2    0.0  ...          chrome 62.0   NaN        NaN             NaN     F   \n3    NaN  ...          chrome 62.0   NaN        NaN             NaN     F   \n4    0.0  ...          chrome 62.0  24.0   1280x800  match_status:2     T   \n\n  id_36  id_37  id_38  DeviceType                     DeviceInfo  \n0     F      T      T      mobile  SAMSUNG SM-G892A Build/NRD90M  \n1     F      F      T      mobile                     iOS Device  \n2     F      T      T     desktop                        Windows  \n3     F      T      T     desktop                            NaN  \n4     F      T      T     desktop                          MacOS  \n\n[5 rows x 33 columns]",
      "text/html": "<div>\n<style scoped>\n    .dataframe tbody tr th:only-of-type {\n        vertical-align: middle;\n    }\n\n    .dataframe tbody tr th {\n        vertical-align: top;\n    }\n\n    .dataframe thead th {\n        text-align: right;\n    }\n</style>\n<table border=\"1\" class=\"dataframe\">\n  <thead>\n    <tr style=\"text-align: right;\">\n      <th></th>\n      <th>TransactionID</th>\n      <th>isFraud</th>\n      <th>id_01</th>\n      <th>id_02</th>\n      <th>id_03</th>\n      <th>id_04</th>\n      <th>id_05</th>\n      <th>id_06</th>\n      <th>id_09</th>\n      <th>id_10</th>\n      <th>...</th>\n      <th>id_31</th>\n      <th>id_32</th>\n      <th>id_33</th>\n      <th>id_34</th>\n      <th>id_35</th>\n      <th>id_36</th>\n      <th>id_37</th>\n      <th>id_38</th>\n      <th>DeviceType</th>\n      <th>DeviceInfo</th>\n    </tr>\n  </thead>\n  <tbody>\n    <tr>\n      <th>0</th>\n      <td>2987004</td>\n      <td>0</td>\n      <td>0.0</td>\n      <td>70787.0</td>\n      <td>NaN</td>\n      <td>NaN</td>\n      <td>NaN</td>\n      <td>NaN</td>\n      <td>NaN</td>\n      <td>NaN</td>\n      <td>...</td>\n      <td>samsung browser 6.2</td>\n      <td>32.0</td>\n      <td>2220x1080</td>\n      <td>match_status:2</td>\n      <td>T</td>\n      <td>F</td>\n      <td>T</td>\n      <td>T</td>\n      <td>mobile</td>\n      <td>SAMSUNG SM-G892A Build/NRD90M</td>\n    </tr>\n    <tr>\n      <th>1</th>\n      <td>2987008</td>\n      <td>0</td>\n      <td>-5.0</td>\n      <td>98945.0</td>\n      <td>NaN</td>\n      <td>NaN</td>\n      <td>0.0</td>\n      <td>-5.0</td>\n      <td>NaN</td>\n      <td>NaN</td>\n      <td>...</td>\n      <td>mobile safari 11.0</td>\n      <td>32.0</td>\n      <td>1334x750</td>\n      <td>match_status:1</td>\n      <td>T</td>\n      <td>F</td>\n      <td>F</td>\n      <td>T</td>\n      <td>mobile</td>\n      <td>iOS Device</td>\n    </tr>\n    <tr>\n      <th>2</th>\n      <td>2987010</td>\n      <td>0</td>\n      <td>-5.0</td>\n      <td>191631.0</td>\n      <td>0.0</td>\n      <td>0.0</td>\n      <td>0.0</td>\n      <td>0.0</td>\n      <td>0.0</td>\n      <td>0.0</td>\n      <td>...</td>\n      <td>chrome 62.0</td>\n      <td>NaN</td>\n      <td>NaN</td>\n      <td>NaN</td>\n      <td>F</td>\n      <td>F</td>\n      <td>T</td>\n      <td>T</td>\n      <td>desktop</td>\n      <td>Windows</td>\n    </tr>\n    <tr>\n      <th>3</th>\n      <td>2987011</td>\n      <td>0</td>\n      <td>-5.0</td>\n      <td>221832.0</td>\n      <td>NaN</td>\n      <td>NaN</td>\n      <td>0.0</td>\n      <td>-6.0</td>\n      <td>NaN</td>\n      <td>NaN</td>\n      <td>...</td>\n      <td>chrome 62.0</td>\n      <td>NaN</td>\n      <td>NaN</td>\n      <td>NaN</td>\n      <td>F</td>\n      <td>F</td>\n      <td>T</td>\n      <td>T</td>\n      <td>desktop</td>\n      <td>NaN</td>\n    </tr>\n    <tr>\n      <th>4</th>\n      <td>2987016</td>\n      <td>0</td>\n      <td>0.0</td>\n      <td>7460.0</td>\n      <td>0.0</td>\n      <td>0.0</td>\n      <td>1.0</td>\n      <td>0.0</td>\n      <td>0.0</td>\n      <td>0.0</td>\n      <td>...</td>\n      <td>chrome 62.0</td>\n      <td>24.0</td>\n      <td>1280x800</td>\n      <td>match_status:2</td>\n      <td>T</td>\n      <td>F</td>\n      <td>T</td>\n      <td>T</td>\n      <td>desktop</td>\n      <td>MacOS</td>\n    </tr>\n  </tbody>\n</table>\n<p>5 rows × 33 columns</p>\n</div>"
     },
     "metadata": {},
     "execution_count": 8
    }
   ],
   "source": [
    "# keep columns with less than 90% NaNs\n",
    "less_nan_dataframe = dataframe.loc[:, dataframe.isna().mean() < 0.9]\n",
    "less_nan_dataframe.head()"
   ]
  },
  {
   "cell_type": "markdown",
   "metadata": {},
   "source": [
    "## check column datatypes"
   ]
  },
  {
   "cell_type": "code",
   "execution_count": 9,
   "metadata": {},
   "outputs": [
    {
     "output_type": "execute_result",
     "data": {
      "text/plain": "TransactionID      int64\nisFraud            int64\nid_01            float64\nid_02            float64\nid_03            float64\nid_04            float64\nid_05            float64\nid_06            float64\nid_09            float64\nid_10            float64\nid_11            float64\nid_12             object\nid_13            float64\nid_14            float64\nid_15             object\nid_16             object\nid_17            float64\nid_18            float64\nid_19            float64\nid_20            float64\nid_28             object\nid_29             object\nid_30             object\nid_31             object\nid_32            float64\nid_33             object\nid_34             object\nid_35             object\nid_36             object\nid_37             object\nid_38             object\nDeviceType        object\nDeviceInfo        object\ndtype: object"
     },
     "metadata": {},
     "execution_count": 9
    }
   ],
   "source": [
    "less_nan_dataframe.dtypes"
   ]
  }
 ]
}